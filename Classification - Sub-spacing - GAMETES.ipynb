{
 "cells": [
  {
   "cell_type": "code",
   "execution_count": 1,
   "metadata": {
    "collapsed": false
   },
   "outputs": [],
   "source": [
    "import pandas as pd\n",
    "import numpy as np\n",
    "from evoml.subspacing import FeatureStackerFEGT, FeatureStackerFEMPO, FeatureStackerFECV\n",
    "from sklearn.cross_validation import train_test_split\n",
    "from sklearn.metrics import accuracy_score\n",
    "from sklearn.tree import DecisionTreeClassifier"
   ]
  },
  {
   "cell_type": "code",
   "execution_count": 2,
   "metadata": {
    "collapsed": false
   },
   "outputs": [],
   "source": [
    "#data = pd.read_csv('datasets/GAMETES.csv',sep='\\t')\n",
    "data = pd.read_csv('datasets/GAMETES_Epistasis_2-Way_1000atts_0.4H_EDM-1_EDM-1_1.txt',sep='\\t')\n",
    "headers_ = list(data.columns)\n",
    "features = data[headers_[0:-1]]\n",
    "output = data[headers_[-1]]"
   ]
  },
  {
   "cell_type": "code",
   "execution_count": null,
   "metadata": {
    "collapsed": false
   },
   "outputs": [],
   "source": [
    "from sklearn.tree import DecisionTreeClassifier\n"
   ]
  },
  {
   "cell_type": "markdown",
   "metadata": {},
   "source": [
    "## Expriment 1 \n",
    "----"
   ]
  },
  {
   "cell_type": "code",
   "execution_count": 5,
   "metadata": {
    "collapsed": false
   },
   "outputs": [
    {
     "data": {
      "text/plain": [
       "(1200, 1000)"
      ]
     },
     "execution_count": 5,
     "metadata": {},
     "output_type": "execute_result"
    }
   ],
   "source": [
    "X_train.shape"
   ]
  },
  {
   "cell_type": "code",
   "execution_count": 50,
   "metadata": {
    "collapsed": false
   },
   "outputs": [],
   "source": [
    "def check_for_benchmarks():\n",
    "    n_estimators=10\n",
    "    from sklearn.tree import DecisionTreeClassifier\n",
    "    from sklearn.ensemble import RandomForestClassifier, GradientBoostingClassifier\n",
    "\n",
    "    # The exploration of the dataset by benchmark algorithms\n",
    "    clf = DecisionTreeClassifier(random_state=34092)\n",
    "    clf.fit(X_train, y_train)\n",
    "    pred_DTC = clf.predict(X_test)\n",
    "    a = clf.score(X_test, y_test)\n",
    "    print('Base DecisionTreeClassifier accuracy: {}'.format(clf.score(X_test, y_test)))\n",
    "\n",
    "    clf = RandomForestClassifier(random_state=34092, n_estimators=n_estimators)\n",
    "    clf.fit(X_train, y_train)\n",
    "    pred_RFC = clf.predict(X_test)\n",
    "    b = clf.score(X_test, y_test)\n",
    "    print('Base RandomForestClassifier accuracy: {}'.format(clf.score(X_test, y_test)))\n",
    "\n",
    "    clf = GradientBoostingClassifier(random_state=34092, n_estimators=n_estimators)\n",
    "    clf.fit(X_train, y_train)\n",
    "    pred_GBC = clf.predict(X_test)\n",
    "    c = clf.score(X_test, y_test)\n",
    "    print('Base GradientBoostingClassifier accuracy: {}'.format(clf.score(X_test, y_test)))\n",
    "\n",
    "    print('')\n",
    "    return a,b,c"
   ]
  },
  {
   "cell_type": "code",
   "execution_count": 51,
   "metadata": {
    "collapsed": true
   },
   "outputs": [],
   "source": [
    "FeatureStackerFECV?"
   ]
  },
  {
   "cell_type": "code",
   "execution_count": null,
   "metadata": {
    "collapsed": false
   },
   "outputs": [
    {
     "name": "stdout",
     "output_type": "stream",
     "text": [
      "0\n",
      "Base DecisionTreeClassifier accuracy: 0.4775\n",
      "Base RandomForestClassifier accuracy: 0.4975\n",
      "Base GradientBoostingClassifier accuracy: 0.4625\n",
      "\n",
      "gen\tnevals\tavg     \tmin     \tmax     \n",
      "0  \t50    \t0.495783\t0.471667\t0.529167\n",
      "1  \t32    \t0.504967\t0.476667\t0.529167\n",
      "2  \t33    \t0.51315 \t0.49    \t0.54    \n",
      "3  \t30    \t0.516   \t0.490833\t0.54    \n",
      "4  \t35    \t0.521633\t0.495   \t0.54    \n",
      "5  \t32    \t0.527967\t0.509167\t0.548333\n",
      "6  \t34    \t0.52925 \t0.5125  \t0.551667\n",
      "7  \t36    \t0.530967\t0.5075  \t0.555833\n",
      "8  \t35    \t0.537667\t0.503333\t0.558333\n",
      "9  \t32    \t0.542633\t0.518333\t0.560833\n",
      "10 \t35    \t0.54935 \t0.531667\t0.565833\n",
      "1\n",
      "Base DecisionTreeClassifier accuracy: 0.5325\n",
      "Base RandomForestClassifier accuracy: 0.5175\n",
      "Base GradientBoostingClassifier accuracy: 0.49\n",
      "\n"
     ]
    }
   ],
   "source": [
    "all_acc = []\n",
    "from sklearn.linear_model import LinearRegression, LogisticRegression, LogisticRegressionCV\n",
    "max_features = int(pd.np.sqrt(X_train.shape[1]))\n",
    "for i in range(0,10):\n",
    "    print(i)\n",
    "    X_train, X_test, y_train, y_test = train_test_split(features, output, stratify=output,\n",
    "                                                            train_size=0.75, test_size=0.25)\n",
    "    a, b, c = check_for_benchmarks()\n",
    "    clf_dt = DecisionTreeClassifier(max_depth=None)\n",
    "#     clf_lr = LogisticRegressionCV()\n",
    "    #clf = FeatureStackerFEMPO(base_estimator=clf_dt, model_type = 1, N_individual=5, ngen=10, verbose_flag = True, N_population=10, maxOrmin = 1)\n",
    "    clf = FeatureStackerFECV(base_estimator=clf_dt, model_type = 'classification', N_individual=10,\n",
    "                             ngen=10, verbose_flag = True, N_population=50, maxOrMin = 1\n",
    "                            ,featMax = 33, featMin=1, folds_CV=5)\n",
    "    clf.fit(X_train, y_train)\n",
    "    pred = clf.predict(X_test)\n",
    "    d = accuracy_score(pred,y_test)\n",
    "    all_acc.append([a,b,c,d])"
   ]
  },
  {
   "cell_type": "code",
   "execution_count": 126,
   "metadata": {
    "collapsed": false
   },
   "outputs": [
    {
     "data": {
      "text/plain": [
       "deap.creator.FitnessMax((0.5558333333333334,))"
      ]
     },
     "execution_count": 126,
     "metadata": {},
     "output_type": "execute_result"
    }
   ],
   "source": [
    "clf.hof[0].fitness"
   ]
  },
  {
   "cell_type": "code",
   "execution_count": 127,
   "metadata": {
    "collapsed": false
   },
   "outputs": [
    {
     "data": {
      "text/plain": [
       "0.51000000000000001"
      ]
     },
     "execution_count": 127,
     "metadata": {},
     "output_type": "execute_result"
    }
   ],
   "source": [
    "from sklearn.metrics import accuracy_score\n",
    "pred = clf.predict(X_test)\n",
    "accuracy_score(pred, y_test)"
   ]
  },
  {
   "cell_type": "code",
   "execution_count": 128,
   "metadata": {
    "collapsed": false
   },
   "outputs": [],
   "source": [
    "shapes = [eg.X.shape[1] for eg in clf.hof[0]]"
   ]
  },
  {
   "cell_type": "code",
   "execution_count": 138,
   "metadata": {
    "collapsed": false
   },
   "outputs": [
    {
     "data": {
      "text/plain": [
       "0    0.50500\n",
       "1    0.48250\n",
       "2    0.49875\n",
       "3    0.48875\n",
       "dtype: float64"
      ]
     },
     "execution_count": 138,
     "metadata": {},
     "output_type": "execute_result"
    }
   ],
   "source": [
    "pd.DataFrame(all_acc).median()"
   ]
  },
  {
   "cell_type": "code",
   "execution_count": 130,
   "metadata": {
    "collapsed": false
   },
   "outputs": [],
   "source": [
    "from evoml.subspacing.util import EstimatorGene\n",
    "hof = []\n",
    "bagged_hof = []\n",
    "for i,eg in enumerate(clf.hof[0]):\n",
    "    xcols = eg.X.columns\n",
    "    X = X_train.sample(frac=1, replace=True)\n",
    "    X = X.loc[:,xcols]\n",
    "    eg_ = EstimatorGene(X,y_train,[],[],clf_dt)\n",
    "    bagged_hof.append(eg_)\n",
    "hof.append(bagged_hof)"
   ]
  },
  {
   "cell_type": "code",
   "execution_count": 131,
   "metadata": {
    "collapsed": false
   },
   "outputs": [],
   "source": [
    "clf.hof = hof[:]"
   ]
  },
  {
   "cell_type": "code",
   "execution_count": 132,
   "metadata": {
    "collapsed": false
   },
   "outputs": [
    {
     "data": {
      "text/plain": [
       "0.47749999999999998"
      ]
     },
     "execution_count": 132,
     "metadata": {},
     "output_type": "execute_result"
    }
   ],
   "source": [
    "pred = clf.predict(X_test)\n",
    "accuracy_score(pred, y_test)"
   ]
  },
  {
   "cell_type": "code",
   "execution_count": null,
   "metadata": {
    "collapsed": true
   },
   "outputs": [],
   "source": []
  }
 ],
 "metadata": {
  "kernelspec": {
   "display_name": "Python [Root]",
   "language": "python",
   "name": "Python [Root]"
  },
  "language_info": {
   "codemirror_mode": {
    "name": "ipython",
    "version": 3
   },
   "file_extension": ".py",
   "mimetype": "text/x-python",
   "name": "python",
   "nbconvert_exporter": "python",
   "pygments_lexer": "ipython3",
   "version": "3.5.2"
  }
 },
 "nbformat": 4,
 "nbformat_minor": 0
}
