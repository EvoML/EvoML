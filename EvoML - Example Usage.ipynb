{
 "cells": [
  {
   "cell_type": "code",
   "execution_count": 1,
   "metadata": {
    "collapsed": true
   },
   "outputs": [],
   "source": [
    "import pandas as pd\n"
   ]
  },
  {
   "cell_type": "markdown",
   "metadata": {},
   "source": [
    "## Aim\n",
    "Motive of the notebook is to give a brief overview as to how to use the evolutionary sampling powered ensemble models as part of the EvoML research project. \n",
    "\n",
    "Will make the notebook more verbose if time permits. Priority will be to showcase the flexible API of the new estimators which encourage research and tinkering. \n",
    "\n",
    "##Contents\n",
    " - Subsampling\n",
    " - Subspacing"
   ]
  },
  {
   "cell_type": "markdown",
   "metadata": {},
   "source": [
    "### 1. Subsampling - Sampling in the example space - rows will be mutated and evolved.\n"
   ]
  },
  {
   "cell_type": "code",
   "execution_count": 2,
   "metadata": {
    "collapsed": false
   },
   "outputs": [],
   "source": [
    "from evoml.subsampling import BasicSegmenter_FEMPO, BasicSegmenter_FEGT, BasicSegmenter_FEMPT"
   ]
  },
  {
   "cell_type": "code",
   "execution_count": 3,
   "metadata": {
    "collapsed": true
   },
   "outputs": [],
   "source": [
    "df = pd.read_csv('datasets/ozone.csv')"
   ]
  },
  {
   "cell_type": "code",
   "execution_count": 4,
   "metadata": {
    "collapsed": false
   },
   "outputs": [
    {
     "data": {
      "text/html": [
       "<div>\n",
       "<table border=\"1\" class=\"dataframe\">\n",
       "  <thead>\n",
       "    <tr style=\"text-align: right;\">\n",
       "      <th></th>\n",
       "      <th>temp</th>\n",
       "      <th>invHt</th>\n",
       "      <th>press</th>\n",
       "      <th>vis</th>\n",
       "      <th>milPress</th>\n",
       "      <th>hum</th>\n",
       "      <th>invTemp</th>\n",
       "      <th>wind</th>\n",
       "      <th>output</th>\n",
       "    </tr>\n",
       "  </thead>\n",
       "  <tbody>\n",
       "    <tr>\n",
       "      <th>0</th>\n",
       "      <td>0.220588</td>\n",
       "      <td>0.528124</td>\n",
       "      <td>0.250000</td>\n",
       "      <td>0.714286</td>\n",
       "      <td>0.619048</td>\n",
       "      <td>0.121622</td>\n",
       "      <td>0.313725</td>\n",
       "      <td>0.190476</td>\n",
       "      <td>3</td>\n",
       "    </tr>\n",
       "    <tr>\n",
       "      <th>1</th>\n",
       "      <td>0.294118</td>\n",
       "      <td>0.097975</td>\n",
       "      <td>0.255682</td>\n",
       "      <td>0.285714</td>\n",
       "      <td>0.603175</td>\n",
       "      <td>0.243243</td>\n",
       "      <td>0.428571</td>\n",
       "      <td>0.142857</td>\n",
       "      <td>5</td>\n",
       "    </tr>\n",
       "  </tbody>\n",
       "</table>\n",
       "</div>"
      ],
      "text/plain": [
       "       temp     invHt     press       vis  milPress       hum   invTemp  \\\n",
       "0  0.220588  0.528124  0.250000  0.714286  0.619048  0.121622  0.313725   \n",
       "1  0.294118  0.097975  0.255682  0.285714  0.603175  0.243243  0.428571   \n",
       "\n",
       "       wind  output  \n",
       "0  0.190476       3  \n",
       "1  0.142857       5  "
      ]
     },
     "execution_count": 4,
     "metadata": {},
     "output_type": "execute_result"
    }
   ],
   "source": [
    "df.head(2)"
   ]
  },
  {
   "cell_type": "code",
   "execution_count": 5,
   "metadata": {
    "collapsed": false
   },
   "outputs": [],
   "source": [
    "X, y = df.iloc[:,:-1], df['output']"
   ]
  },
  {
   "cell_type": "code",
   "execution_count": 6,
   "metadata": {
    "collapsed": false
   },
   "outputs": [
    {
     "name": "stdout",
     "output_type": "stream",
     "text": [
      "\n",
      "    Uses basic evolutionary algorithm to find the best subsets of X and trains\n",
      "    Linear Regression on each subset. For given row of input, prediction\n",
      "    is based on the model trained on segment closest to input.\n",
      "\n",
      "    Same as the BasicSegmenter, but uses list of thrained models instead of DataFrames\n",
      "    as each individual. Done to boost performance. \n",
      "\n",
      "    Parameters\n",
      "    ----------\n",
      "    n : Integer, optional, default, 10\n",
      "        The number of segments you want in your dataset.\n",
      "    \n",
      "    base_estimator: estimator, default, LinearRegression\n",
      "        The basic estimator for all segments.\n",
      "\n",
      "    test_size : float, optional, default, 0.2\n",
      "        Test size that the algorithm internally uses in its \n",
      "        fitness function.\n",
      "\n",
      "    n_population : Integer, optional, default, 30\n",
      "        The number of ensembles present in population.\n",
      "\n",
      "    init_sample_percentage : float, optional, default, 0.2\n",
      "    \n",
      "\n",
      "    Attributes\n",
      "    -----------\n",
      "    best_enstimator_ : estimator \n",
      "    \n",
      "    segments_ : list of DataFrames\n",
      "\n",
      "    \n"
     ]
    }
   ],
   "source": [
    "print(BasicSegmenter_FEGT.__doc__)"
   ]
  },
  {
   "cell_type": "code",
   "execution_count": 7,
   "metadata": {
    "collapsed": true
   },
   "outputs": [],
   "source": [
    "from sklearn.tree import DecisionTreeRegressor\n",
    "clf_dt = DecisionTreeRegressor(max_depth=3)\n",
    "clf = BasicSegmenter_FEGT(base_estimator=clf_dt, statistics=True)"
   ]
  },
  {
   "cell_type": "code",
   "execution_count": 8,
   "metadata": {
    "collapsed": false
   },
   "outputs": [
    {
     "name": "stdout",
     "output_type": "stream",
     "text": [
      "gen\tnevals\tavg   \tstd     \tmin    \tmax    \n",
      "0  \t30    \t5.2781\t0.589689\t4.23039\t6.80946\n",
      "1  \t22    \t4.74899\t0.469555\t4.2272 \t5.96946\n",
      "2  \t22    \t4.57545\t0.334731\t4.09894\t5.43991\n",
      "3  \t22    \t4.44866\t0.488645\t4.03896\t6.3982 \n",
      "4  \t19    \t4.31265\t0.222423\t3.88692\t4.74369\n",
      "5  \t27    \t4.32705\t0.449177\t3.88692\t6.41261\n",
      "6  \t25    \t4.30957\t0.465491\t3.88692\t5.8717 \n",
      "7  \t21    \t4.26635\t0.361028\t3.88692\t5.27358\n",
      "8  \t20    \t4.251  \t0.552977\t3.89738\t6.27109\n",
      "9  \t21    \t4.15874\t0.338961\t3.79678\t5.30784\n",
      "10 \t22    \t4.10114\t0.29433 \t3.79678\t5.05167\n",
      "11 \t25    \t4.04121\t0.253477\t3.76978\t4.70117\n",
      "12 \t20    \t4.01039\t0.363592\t3.75632\t5.65705\n",
      "13 \t23    \t3.98229\t0.272671\t3.70865\t4.60254\n",
      "14 \t24    \t3.89309\t0.226678\t3.70865\t4.78833\n",
      "15 \t20    \t3.81467\t0.219473\t3.63065\t4.8581 \n",
      "16 \t23    \t3.8633 \t0.270345\t3.63065\t4.59721\n",
      "17 \t25    \t3.82304\t0.197699\t3.5993 \t4.50707\n",
      "18 \t18    \t3.81666\t0.359854\t3.55746\t5.55283\n",
      "19 \t23    \t3.80377\t0.23816 \t3.55746\t4.75423\n",
      "20 \t22    \t3.75274\t0.146903\t3.55746\t4.16259\n",
      "21 \t24    \t3.84858\t0.300793\t3.37172\t4.88835\n",
      "22 \t19    \t3.78003\t0.218148\t3.37172\t4.30379\n",
      "23 \t18    \t3.77996\t0.356439\t3.35977\t4.90352\n",
      "24 \t26    \t3.6638 \t0.2453  \t3.32211\t4.39246\n",
      "25 \t24    \t3.63329\t0.295922\t3.32211\t4.42435\n",
      "26 \t22    \t3.64748\t0.395289\t3.28616\t4.86763\n",
      "27 \t18    \t3.74302\t0.757016\t3.28616\t7.2129 \n",
      "28 \t22    \t3.4815 \t0.286406\t3.28616\t4.75574\n",
      "29 \t19    \t3.50169\t0.417142\t3.25784\t5.15243\n",
      "30 \t23    \t3.55941\t0.431252\t3.28178\t5.18807\n",
      "31 \t22    \t3.44066\t0.372184\t3.09765\t5.04611\n",
      "32 \t21    \t3.36931\t0.266471\t3.09765\t4.40901\n",
      "33 \t23    \t3.3757 \t0.36565 \t3.09765\t4.82305\n",
      "34 \t20    \t3.30006\t0.283425\t3.03929\t4.23263\n",
      "35 \t21    \t3.32881\t0.337995\t3.03929\t4.48041\n",
      "36 \t23    \t3.36321\t0.355317\t3.03929\t4.45418\n",
      "37 \t18    \t3.36533\t0.456911\t3.03929\t4.73097\n",
      "38 \t20    \t3.19259\t0.164568\t2.9845 \t3.8426 \n",
      "39 \t21    \t3.34565\t0.367022\t3.05676\t4.66485\n",
      "40 \t19    \t3.39098\t0.472878\t3.05676\t4.92911\n",
      "41 \t24    \t3.45124\t0.683043\t3.05676\t6.61767\n",
      "42 \t22    \t3.32108\t0.46326 \t2.99966\t5.17868\n",
      "43 \t24    \t3.25789\t0.289575\t3.05676\t4.13871\n",
      "44 \t17    \t3.317  \t0.47207 \t3.00231\t4.74823\n",
      "45 \t23    \t3.23767\t0.387888\t2.98618\t5.05057\n",
      "46 \t19    \t3.37091\t0.478699\t2.98618\t4.65248\n",
      "47 \t19    \t3.31203\t0.477201\t2.98618\t4.90274\n",
      "48 \t23    \t3.29415\t0.348598\t2.98618\t4.12619\n",
      "49 \t26    \t3.26899\t0.349108\t2.97331\t4.36843\n",
      "50 \t20    \t3.18521\t0.237827\t2.97331\t3.88278\n"
     ]
    },
    {
     "data": {
      "text/plain": [
       "BasicSegmenter_FEGT(base_estimator=DecisionTreeRegressor(criterion='mse', max_depth=3, max_features=None,\n",
       "           max_leaf_nodes=None, min_samples_leaf=1, min_samples_split=2,\n",
       "           min_weight_fraction_leaf=0.0, presort=False, random_state=None,\n",
       "           splitter='best'),\n",
       "          crossover_func=<function cxTwoPoint at 0x106C5B70>, cxpb=0.5,\n",
       "          indpb=0.2, init_sample_percentage=0.2, mutpb=0.5, n=10,\n",
       "          n_population=30, n_votes=1, ngen=50, statistics=True,\n",
       "          test_size=0.2, tournsize=3)"
      ]
     },
     "execution_count": 8,
     "metadata": {},
     "output_type": "execute_result"
    }
   ],
   "source": [
    "clf.fit(X, y)"
   ]
  },
  {
   "cell_type": "code",
   "execution_count": 9,
   "metadata": {
    "collapsed": false
   },
   "outputs": [
    {
     "data": {
      "text/plain": [
       "0.69093734986554811"
      ]
     },
     "execution_count": 9,
     "metadata": {},
     "output_type": "execute_result"
    }
   ],
   "source": [
    "clf.score(X, y)"
   ]
  },
  {
   "cell_type": "code",
   "execution_count": 10,
   "metadata": {
    "collapsed": true
   },
   "outputs": [],
   "source": [
    "EGs = clf.segments_"
   ]
  },
  {
   "cell_type": "code",
   "execution_count": 11,
   "metadata": {
    "collapsed": false
   },
   "outputs": [
    {
     "data": {
      "text/plain": [
       "10"
      ]
     },
     "execution_count": 11,
     "metadata": {},
     "output_type": "execute_result"
    }
   ],
   "source": [
    "len(EGs)"
   ]
  },
  {
   "cell_type": "code",
   "execution_count": 12,
   "metadata": {
    "collapsed": false
   },
   "outputs": [],
   "source": [
    "sampled_datasets = [eg.get_data() for eg in EGs]"
   ]
  },
  {
   "cell_type": "code",
   "execution_count": 13,
   "metadata": {
    "collapsed": false
   },
   "outputs": [
    {
     "data": {
      "text/plain": [
       "[(27, 9),\n",
       " (66, 9),\n",
       " (40, 9),\n",
       " (118, 9),\n",
       " (66, 9),\n",
       " (53, 9),\n",
       " (53, 9),\n",
       " (53, 9),\n",
       " (66, 9),\n",
       " (66, 9)]"
      ]
     },
     "execution_count": 13,
     "metadata": {},
     "output_type": "execute_result"
    }
   ],
   "source": [
    "[sd.shape for sd in sampled_datasets]"
   ]
  },
  {
   "cell_type": "code",
   "execution_count": null,
   "metadata": {
    "collapsed": true
   },
   "outputs": [],
   "source": []
  },
  {
   "cell_type": "markdown",
   "metadata": {},
   "source": [
    "### 2. Subspacing - sampling in the domain of features - evolving and mutating columns"
   ]
  },
  {
   "cell_type": "code",
   "execution_count": 14,
   "metadata": {
    "collapsed": true
   },
   "outputs": [],
   "source": [
    "from evoml.subspacing import FeatureStackerFEGT, FeatureStackerFEMPO"
   ]
  },
  {
   "cell_type": "code",
   "execution_count": 15,
   "metadata": {
    "collapsed": false
   },
   "outputs": [
    {
     "name": "stdout",
     "output_type": "stream",
     "text": [
      "\n",
      "    Uses basic evolutionary algorithm to find the best subspaces of X and trains \n",
      "    a model on each subspace. For given row of input, prediction is based on the ensemble\n",
      "    which has performed the best on the test set. The prediction is the average of all the \n",
      "    chromosome predictions.\n",
      "\n",
      "    Same as the BasicSegmenter, but uses list of thrained models instead of DataFrames\n",
      "    as each individual. Done to boost performance. \n",
      "\n",
      "    Parameters\n",
      "    ----------\n",
      "    test_size: float, default = 0.2\n",
      "        Test size that the algorithm internally uses in its fitness\n",
      "        function\n",
      "    \n",
      "    N_population: Integer, default : 30\n",
      "        The population of the individuals that the evolutionary algorithm is going to use. \n",
      "    \n",
      "    N_individual: Integer, default : 5\n",
      "        Number of chromosomes in each individual of the population\n",
      "\n",
      "    featMin: Integer, default : 1\n",
      "        The minimum number of features for the sub space from the dataset\n",
      "        Cannot be <= 0 else changes it to 1 instead.\n",
      "    \n",
      "    featMax: Integer, default : max number of features in the dataset\n",
      "        The maximum number of features for the sub space from the dataset\n",
      "        Cannot be <featMin else changes it to equal to featMin\n",
      "\n",
      "    indpb: float, default : 0.05\n",
      "        The number that defines the probability by which the chromosome will be mutated.\n",
      "\n",
      "    ngen: Integer, default : 10\n",
      "        The iterations for which the evolutionary algorithm is going to run.\n",
      "\n",
      "    mutpb: float, default : 0.40\n",
      "        The probability by which the individuals will go through mutation.\n",
      "\n",
      "    cxpb: float, default : 0.50\n",
      "        The probability by which the individuals will go through cross over.\n",
      "\n",
      "    base_estimator: model, default: LinearRegression\n",
      "        The type of model which is to be trained in the chromosome.\n",
      "\n",
      "    crossover_func: cross-over function, default : tools.cxTwoPoint [go through eaSimple's documentation]\n",
      "        The corssover function that will be used between the individuals\n",
      "\n",
      "    test_frac, test_frac_flag: Parameters for playing around with test set. Not in use as of now.\n",
      "\n",
      "    Attributes\n",
      "    -----------\n",
      "    segment: HallOfFame individual \n",
      "        Gives you the best individual from the whole population. \n",
      "        The best individual can be accessed via segment[0]\n",
      "\n",
      "    \n"
     ]
    }
   ],
   "source": [
    "print(FeatureStackerFEGT.__doc__)"
   ]
  },
  {
   "cell_type": "code",
   "execution_count": 16,
   "metadata": {
    "collapsed": true
   },
   "outputs": [],
   "source": [
    "clf = FeatureStackerFEGT(ngen=30)"
   ]
  },
  {
   "cell_type": "code",
   "execution_count": 17,
   "metadata": {
    "collapsed": false
   },
   "outputs": [
    {
     "name": "stdout",
     "output_type": "stream",
     "text": [
      "gen\tnevals\tavg    \tmin    \tmax    \n",
      "0  \t30    \t4.80779\t4.30355\t5.31144\n",
      "1  \t14    \t4.55898\t4.30355\t4.96747\n",
      "2  \t24    \t4.47572\t4.30232\t5.01653\n",
      "3  \t30    \t4.39705\t4.24509\t4.5792 \n",
      "4  \t13    \t4.3305 \t4.22728\t4.70083\n",
      "5  \t22    \t4.27701\t4.22728\t4.38708\n",
      "6  \t22    \t4.25929\t4.22728\t4.38545\n",
      "7  \t21    \t4.23435\t4.21544\t4.24509\n",
      "8  \t17    \t4.23617\t4.21544\t4.38545\n",
      "9  \t18    \t4.22293\t4.21544\t4.22728\n",
      "10 \t21    \t4.21741\t4.21544\t4.22728\n",
      "11 \t27    \t4.21559\t4.21544\t4.22013\n",
      "12 \t20    \t4.21544\t4.21544\t4.21544\n",
      "13 \t20    \t4.21544\t4.21544\t4.21544\n",
      "14 \t28    \t4.21544\t4.21544\t4.21544\n",
      "15 \t17    \t4.21536\t4.21307\t4.21544\n",
      "16 \t22    \t4.21522\t4.21307\t4.21833\n",
      "17 \t26    \t4.21459\t4.21307\t4.21831\n",
      "18 \t21    \t4.21346\t4.21307\t4.21544\n",
      "19 \t19    \t4.21307\t4.21307\t4.21307\n",
      "20 \t20    \t4.21307\t4.21307\t4.21307\n",
      "21 \t24    \t4.21307\t4.21307\t4.21307\n",
      "22 \t23    \t4.21307\t4.21307\t4.21307\n",
      "23 \t18    \t4.21328\t4.21307\t4.21833\n",
      "24 \t21    \t4.21307\t4.21307\t4.21307\n",
      "25 \t23    \t4.21307\t4.21307\t4.21307\n",
      "26 \t23    \t4.21307\t4.21307\t4.21307\n",
      "27 \t20    \t4.2131 \t4.21307\t4.21409\n",
      "28 \t17    \t4.21314\t4.21307\t4.21532\n",
      "29 \t25    \t4.21307\t4.21307\t4.21307\n",
      "30 \t21    \t4.21307\t4.21307\t4.21307\n"
     ]
    },
    {
     "data": {
      "text/plain": [
       "FeatureStackerFEGT(N_individual=5, N_population=30,\n",
       "          base_estimator=LinearRegression(copy_X=True, fit_intercept=True, n_jobs=1, normalize=False),\n",
       "          crossover_func=<function cxTwoPoint at 0x106C5B70>, cxpb=0.5,\n",
       "          featMax=7, featMin=1, indpb=0.05, mutpb=0.4, ngen=30,\n",
       "          test_frac=0.3, test_frac_flag=False, test_size=0.2)"
      ]
     },
     "execution_count": 17,
     "metadata": {},
     "output_type": "execute_result"
    }
   ],
   "source": [
    "clf.fit(X, y)"
   ]
  },
  {
   "cell_type": "code",
   "execution_count": 18,
   "metadata": {
    "collapsed": false
   },
   "outputs": [
    {
     "data": {
      "text/plain": [
       "0.65262771433009603"
      ]
     },
     "execution_count": 18,
     "metadata": {},
     "output_type": "execute_result"
    }
   ],
   "source": [
    "clf.score(X, y)"
   ]
  },
  {
   "cell_type": "code",
   "execution_count": 19,
   "metadata": {
    "collapsed": false
   },
   "outputs": [],
   "source": [
    "## Get the Hall of Fame individual\n",
    "hof = clf.segment[0]"
   ]
  },
  {
   "cell_type": "code",
   "execution_count": 20,
   "metadata": {
    "collapsed": false
   },
   "outputs": [],
   "source": [
    "sampled_datasets = [eg.get_data() for eg in hof]"
   ]
  },
  {
   "cell_type": "code",
   "execution_count": 21,
   "metadata": {
    "collapsed": false
   },
   "outputs": [
    {
     "data": {
      "text/plain": [
       "[['hum', 'milPress', 'temp', 'invTemp', 'vis', 'invHt', 'press', 'output'],\n",
       " ['invHt', 'milPress', 'hum', 'temp', 'invTemp', 'vis', 'output'],\n",
       " ['invHt', 'output'],\n",
       " ['invHt', 'hum', 'vis', 'output'],\n",
       " ['hum', 'press', 'vis', 'milPress', 'invTemp', 'output']]"
      ]
     },
     "execution_count": 21,
     "metadata": {},
     "output_type": "execute_result"
    }
   ],
   "source": [
    "[data.columns.tolist() for data in sampled_datasets]"
   ]
  },
  {
   "cell_type": "code",
   "execution_count": 22,
   "metadata": {
    "collapsed": false
   },
   "outputs": [
    {
     "data": {
      "text/plain": [
       "Index([u'temp', u'invHt', u'press', u'vis', u'milPress', u'hum', u'invTemp',\n",
       "       u'wind'],\n",
       "      dtype='object')"
      ]
     },
     "execution_count": 22,
     "metadata": {},
     "output_type": "execute_result"
    }
   ],
   "source": [
    "## Original X columns\n",
    "X.columns"
   ]
  },
  {
   "cell_type": "code",
   "execution_count": null,
   "metadata": {
    "collapsed": true
   },
   "outputs": [],
   "source": [
    "# The exploration of the dataset by benchmark algorithms\n",
    "clf = DecisionTreeClassifier(random_state=34092)\n",
    "clf.fit(X_train, y_train)\n",
    "pred_DTC = clf.predict(X_test)\n",
    "print('Base DecisionTreeClassifier accuracy: {}'.format(clf.score(X_test, y_test)))\n",
    "\n",
    "clf = RandomForestClassifier(random_state=34092)\n",
    "clf.fit(X_train_tot, y_train)\n",
    "pred_RFC = clf.predict(X_test)\n",
    "print('Base RandomForestClassifier accuracy: {}'.format(clf.score(X_test, y_test)))\n",
    "\n",
    "clf = GradientBoostingClassifier(random_state=34092)\n",
    "clf.fit(X_train, y_train)\n",
    "pred_GBC = clf.predict(X_test)\n",
    "print('Base GradientBoostingClassifier accuracy: {}'.format(clf.score(X_test, y_test)))\n",
    "\n",
    "print('')"
   ]
  },
  {
   "cell_type": "code",
   "execution_count": null,
   "metadata": {
    "collapsed": true
   },
   "outputs": [],
   "source": [
    "\n"
   ]
  },
  {
   "cell_type": "code",
   "execution_count": null,
   "metadata": {
    "collapsed": true
   },
   "outputs": [],
   "source": []
  }
 ],
 "metadata": {
  "kernelspec": {
   "display_name": "Python 2",
   "language": "python",
   "name": "python2"
  },
  "language_info": {
   "codemirror_mode": {
    "name": "ipython",
    "version": 2
   },
   "file_extension": ".py",
   "mimetype": "text/x-python",
   "name": "python",
   "nbconvert_exporter": "python",
   "pygments_lexer": "ipython2",
   "version": "2.7.9"
  }
 },
 "nbformat": 4,
 "nbformat_minor": 0
}
