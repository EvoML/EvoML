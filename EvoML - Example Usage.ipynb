{
 "cells": [
  {
   "cell_type": "code",
   "execution_count": 1,
   "metadata": {
    "collapsed": true
   },
   "outputs": [],
   "source": [
    "import pandas as pd\n"
   ]
  },
  {
   "cell_type": "markdown",
   "metadata": {},
   "source": [
    "## Aim\n",
    "Motive of the notebook is to give a brief overview as to how to use the evolutionary sampling powered ensemble models as part of the EvoML research project. \n",
    "\n",
    "Will make the notebook more verbose if time permits. Priority will be to showcase the flexible API of the new estimators which encourage research and tinkering. \n",
    "\n",
    "## Contents\n",
    " - Subsampling\n",
    " - Subspacing"
   ]
  },
  {
   "cell_type": "markdown",
   "metadata": {},
   "source": [
    "### 1. Subsampling - Sampling in the example space - rows will be mutated and evolved.\n"
   ]
  },
  {
   "cell_type": "code",
   "execution_count": 4,
   "metadata": {
    "collapsed": false
   },
   "outputs": [],
   "source": [
    "from evoml.subsampling import BasicSegmenter_FEMPO, BasicSegmenter_FEGT, BasicSegmenter_FEMPT"
   ]
  },
  {
   "cell_type": "code",
   "execution_count": 5,
   "metadata": {
    "collapsed": true
   },
   "outputs": [],
   "source": [
    "df = pd.read_csv('datasets/ozone.csv')"
   ]
  },
  {
   "cell_type": "code",
   "execution_count": 6,
   "metadata": {
    "collapsed": false
   },
   "outputs": [
    {
     "data": {
      "text/html": [
       "<div>\n",
       "<table border=\"1\" class=\"dataframe\">\n",
       "  <thead>\n",
       "    <tr style=\"text-align: right;\">\n",
       "      <th></th>\n",
       "      <th>temp</th>\n",
       "      <th>invHt</th>\n",
       "      <th>press</th>\n",
       "      <th>vis</th>\n",
       "      <th>milPress</th>\n",
       "      <th>hum</th>\n",
       "      <th>invTemp</th>\n",
       "      <th>wind</th>\n",
       "      <th>output</th>\n",
       "    </tr>\n",
       "  </thead>\n",
       "  <tbody>\n",
       "    <tr>\n",
       "      <th>0</th>\n",
       "      <td>0.220588</td>\n",
       "      <td>0.528124</td>\n",
       "      <td>0.250000</td>\n",
       "      <td>0.714286</td>\n",
       "      <td>0.619048</td>\n",
       "      <td>0.121622</td>\n",
       "      <td>0.313725</td>\n",
       "      <td>0.190476</td>\n",
       "      <td>3</td>\n",
       "    </tr>\n",
       "    <tr>\n",
       "      <th>1</th>\n",
       "      <td>0.294118</td>\n",
       "      <td>0.097975</td>\n",
       "      <td>0.255682</td>\n",
       "      <td>0.285714</td>\n",
       "      <td>0.603175</td>\n",
       "      <td>0.243243</td>\n",
       "      <td>0.428571</td>\n",
       "      <td>0.142857</td>\n",
       "      <td>5</td>\n",
       "    </tr>\n",
       "  </tbody>\n",
       "</table>\n",
       "</div>"
      ],
      "text/plain": [
       "       temp     invHt     press       vis  milPress       hum   invTemp  \\\n",
       "0  0.220588  0.528124  0.250000  0.714286  0.619048  0.121622  0.313725   \n",
       "1  0.294118  0.097975  0.255682  0.285714  0.603175  0.243243  0.428571   \n",
       "\n",
       "       wind  output  \n",
       "0  0.190476       3  \n",
       "1  0.142857       5  "
      ]
     },
     "execution_count": 6,
     "metadata": {},
     "output_type": "execute_result"
    }
   ],
   "source": [
    "df.head(2)"
   ]
  },
  {
   "cell_type": "code",
   "execution_count": 7,
   "metadata": {
    "collapsed": false
   },
   "outputs": [],
   "source": [
    "X, y = df.iloc[:,:-1], df['output']"
   ]
  },
  {
   "cell_type": "code",
   "execution_count": 8,
   "metadata": {
    "collapsed": false
   },
   "outputs": [
    {
     "name": "stdout",
     "output_type": "stream",
     "text": [
      "\n",
      "    Uses basic evolutionary algorithm to find the best subsets of X and trains\n",
      "    regression model on each subset to form an ensemble. For given row of input,\n",
      "    prediction is based on the model trained on segment closest to input.\n",
      "\n",
      "    Same as the BasicSegmenter, but uses list of thrained models instead of DataFrames\n",
      "    as each individual. Done to boost performance. \n",
      "\n",
      "    In Fitness Each Model Global Test (FEGT) - the fitness of each ensemble is defined\n",
      "    by it's performance as a unit against a validation set carved out initially.\n",
      "    Performance of constituent models is not taken into consideration (like in FEMPT or FEMPO)\n",
      "\n",
      "    Inherits scikit-learn's BaseEstimator and RegressorMixin class to have sklearn compatible APIs.\n",
      "\n",
      "    Parameters\n",
      "    ----------\n",
      "    n : Integer, optional, default, 10\n",
      "        The number of segments you want in your dataset.\n",
      "    \n",
      "\n",
      "    test_size : float, optional, default, 0.2\n",
      "        Test size that the algorithm internally uses in its \n",
      "        fitness function.\n",
      "\n",
      "    n_population : Integer, optional, default, 30\n",
      "        The number of ensembles present in population.\n",
      "\n",
      "    init_sample_percentage : float, optional, default, 0.2\n",
      "    \n",
      "    base_estimator: estimator, default, LinearRegression\n",
      "        The basic estimator for all segments.\n",
      "\n",
      "    n_votes: Integer, default, 1,\n",
      "        The number of models in the ensemble which get to vote in in the final\n",
      "        prediction based on Nearest Neighbour. If same as `n` then final prediction\n",
      "        is average of all models in the ensemble.\n",
      "\n",
      "    Attributes\n",
      "    -----------\n",
      "    best_enstimator_ : estimator \n",
      "    \n",
      "    segments_ : list of DataFrames\n",
      "\n",
      "    \n"
     ]
    }
   ],
   "source": [
    "print(BasicSegmenter_FEGT.__doc__)"
   ]
  },
  {
   "cell_type": "code",
   "execution_count": 9,
   "metadata": {
    "collapsed": true
   },
   "outputs": [],
   "source": [
    "from sklearn.tree import DecisionTreeRegressor\n",
    "clf_dt = DecisionTreeRegressor(max_depth=3)\n",
    "clf = BasicSegmenter_FEGT(base_estimator=clf_dt, statistics=True)"
   ]
  },
  {
   "cell_type": "code",
   "execution_count": 10,
   "metadata": {
    "collapsed": false
   },
   "outputs": [
    {
     "name": "stdout",
     "output_type": "stream",
     "text": [
      "gen\tnevals\tavg    \tstd    \tmin    \tmax    \n",
      "0  \t30    \t5.82547\t0.62937\t4.69311\t7.37076\n",
      "1  \t25    \t5.53367\t0.409543\t4.69311\t6.92655\n",
      "2  \t20    \t5.35782\t0.34994 \t4.69311\t6.39671\n",
      "3  \t27    \t5.26732\t0.408422\t4.47775\t6.07493\n",
      "4  \t19    \t5.11003\t0.398512\t4.47775\t6.10377\n",
      "5  \t27    \t5.14461\t0.376102\t4.42656\t5.8455 \n",
      "6  \t16    \t4.8434 \t0.277614\t4.42656\t5.32259\n",
      "7  \t21    \t4.83556\t0.44338 \t4.42656\t6.66769\n",
      "8  \t22    \t4.66358\t0.35164 \t4.26511\t5.91133\n",
      "9  \t24    \t4.70781\t0.482996\t4.32197\t6.36382\n",
      "10 \t18    \t4.59877\t0.372972\t4.29769\t5.7697 \n",
      "11 \t21    \t4.56512\t0.417304\t4.04641\t5.74978\n",
      "12 \t24    \t4.73707\t0.552904\t4.04641\t6.33106\n",
      "13 \t28    \t4.77419\t0.474437\t3.91406\t5.75991\n",
      "14 \t28    \t4.48796\t0.412752\t3.91406\t5.3857 \n",
      "15 \t26    \t4.32804\t0.372563\t3.8795 \t5.32593\n",
      "16 \t22    \t4.23388\t0.383352\t3.82731\t5.25778\n",
      "17 \t24    \t4.19033\t0.442918\t3.84661\t5.40902\n",
      "18 \t25    \t4.24188\t0.66207 \t3.84661\t6.91599\n",
      "19 \t24    \t4.0841 \t0.362207\t3.84661\t5.31733\n",
      "20 \t22    \t4.18025\t0.401554\t3.78823\t5.19352\n",
      "21 \t21    \t4.087  \t0.35975 \t3.78823\t5.01075\n",
      "22 \t20    \t4.04811\t0.347232\t3.78823\t4.77439\n",
      "23 \t24    \t4.12918\t0.499687\t3.77681\t5.24749\n",
      "24 \t22    \t4.0569 \t0.445293\t3.71059\t5.49853\n",
      "25 \t21    \t3.96571\t0.321159\t3.71059\t4.95867\n",
      "26 \t18    \t3.99797\t0.518076\t3.70182\t6.06314\n",
      "27 \t27    \t4.06872\t0.632638\t3.69894\t6.35316\n",
      "28 \t22    \t4.07523\t0.521329\t3.69894\t5.49532\n",
      "29 \t23    \t3.99405\t0.410404\t3.69894\t5.44592\n",
      "30 \t25    \t4.02384\t0.423389\t3.69067\t5.06955\n",
      "31 \t24    \t4.02481\t0.413468\t3.69067\t5.0849 \n",
      "32 \t20    \t4.146  \t0.567882\t3.69067\t5.95125\n",
      "33 \t25    \t4.09681\t0.496527\t3.68413\t5.28622\n",
      "34 \t26    \t4.07464\t0.647953\t3.67582\t6.47308\n",
      "35 \t21    \t3.9241 \t0.533046\t3.67582\t6.32998\n",
      "36 \t22    \t3.98568\t0.451596\t3.67042\t5.13129\n",
      "37 \t18    \t3.90932\t0.342031\t3.67042\t4.9394 \n",
      "38 \t22    \t4.03998\t0.649033\t3.67042\t6.23846\n",
      "39 \t21    \t4.0416 \t0.580352\t3.67042\t6.11388\n",
      "40 \t22    \t4.07196\t0.498416\t3.67042\t5.64313\n",
      "41 \t22    \t3.93747\t0.342122\t3.67042\t5.0546 \n",
      "42 \t26    \t4.18775\t0.513987\t3.67042\t5.75726\n",
      "43 \t22    \t4.13015\t0.365232\t3.67042\t4.92223\n",
      "44 \t25    \t4.29768\t0.687381\t3.67042\t6.47451\n",
      "45 \t23    \t4.16219\t0.471584\t3.66544\t5.43127\n",
      "46 \t20    \t4.16208\t0.685945\t3.66544\t6.77116\n",
      "47 \t20    \t4.05228\t0.461079\t3.66544\t5.10527\n",
      "48 \t23    \t3.99632\t0.591556\t3.66544\t5.85828\n",
      "49 \t22    \t3.92554\t0.455539\t3.66315\t5.23587\n",
      "50 \t24    \t4.13253\t0.710503\t3.66265\t6.13344\n"
     ]
    },
    {
     "data": {
      "text/plain": [
       "BasicSegmenter_FEGT(base_estimator=DecisionTreeRegressor(criterion='mse', max_depth=3, max_features=None,\n",
       "           max_leaf_nodes=None, min_samples_leaf=1, min_samples_split=2,\n",
       "           min_weight_fraction_leaf=0.0, presort=False, random_state=None,\n",
       "           splitter='best'),\n",
       "          crossover_func=<function cxTwoPoint at 0x0000026EFCC11F28>,\n",
       "          cxpb=0.5, indpb=0.2, init_sample_percentage=0.2, mutpb=0.5, n=10,\n",
       "          n_population=30, n_votes=1, ngen=50, statistics=True,\n",
       "          test_size=0.2, tournsize=3)"
      ]
     },
     "execution_count": 10,
     "metadata": {},
     "output_type": "execute_result"
    }
   ],
   "source": [
    "clf.fit(X, y)"
   ]
  },
  {
   "cell_type": "code",
   "execution_count": 11,
   "metadata": {
    "collapsed": false
   },
   "outputs": [
    {
     "data": {
      "text/plain": [
       "0.64161941917513921"
      ]
     },
     "execution_count": 11,
     "metadata": {},
     "output_type": "execute_result"
    }
   ],
   "source": [
    "clf.score(X, y)"
   ]
  },
  {
   "cell_type": "code",
   "execution_count": 10,
   "metadata": {
    "collapsed": true
   },
   "outputs": [],
   "source": [
    "EGs = clf.segments_"
   ]
  },
  {
   "cell_type": "code",
   "execution_count": 11,
   "metadata": {
    "collapsed": false
   },
   "outputs": [
    {
     "data": {
      "text/plain": [
       "10"
      ]
     },
     "execution_count": 11,
     "metadata": {},
     "output_type": "execute_result"
    }
   ],
   "source": [
    "len(EGs)"
   ]
  },
  {
   "cell_type": "code",
   "execution_count": 12,
   "metadata": {
    "collapsed": false
   },
   "outputs": [],
   "source": [
    "sampled_datasets = [eg.get_data() for eg in EGs]"
   ]
  },
  {
   "cell_type": "code",
   "execution_count": 13,
   "metadata": {
    "collapsed": false
   },
   "outputs": [
    {
     "data": {
      "text/plain": [
       "[(27, 9),\n",
       " (66, 9),\n",
       " (40, 9),\n",
       " (118, 9),\n",
       " (66, 9),\n",
       " (53, 9),\n",
       " (53, 9),\n",
       " (53, 9),\n",
       " (66, 9),\n",
       " (66, 9)]"
      ]
     },
     "execution_count": 13,
     "metadata": {},
     "output_type": "execute_result"
    }
   ],
   "source": [
    "[sd.shape for sd in sampled_datasets]"
   ]
  },
  {
   "cell_type": "code",
   "execution_count": null,
   "metadata": {
    "collapsed": true
   },
   "outputs": [],
   "source": []
  },
  {
   "cell_type": "markdown",
   "metadata": {},
   "source": [
    "### 2. Subspacing - sampling in the domain of features - evolving and mutating columns"
   ]
  },
  {
   "cell_type": "code",
   "execution_count": 14,
   "metadata": {
    "collapsed": true
   },
   "outputs": [],
   "source": [
    "from evoml.subspacing import FeatureStackerFEGT, FeatureStackerFEMPO"
   ]
  },
  {
   "cell_type": "code",
   "execution_count": 15,
   "metadata": {
    "collapsed": false
   },
   "outputs": [
    {
     "name": "stdout",
     "output_type": "stream",
     "text": [
      "\n",
      "    Uses basic evolutionary algorithm to find the best subspaces of X and trains \n",
      "    a model on each subspace. For given row of input, prediction is based on the ensemble\n",
      "    which has performed the best on the test set. The prediction is the average of all the \n",
      "    chromosome predictions.\n",
      "\n",
      "    Same as the BasicSegmenter, but uses list of thrained models instead of DataFrames\n",
      "    as each individual. Done to boost performance. \n",
      "\n",
      "    Parameters\n",
      "    ----------\n",
      "    test_size: float, default = 0.2\n",
      "        Test size that the algorithm internally uses in its fitness\n",
      "        function\n",
      "    \n",
      "    N_population: Integer, default : 30\n",
      "        The population of the individuals that the evolutionary algorithm is going to use. \n",
      "    \n",
      "    N_individual: Integer, default : 5\n",
      "        Number of chromosomes in each individual of the population\n",
      "\n",
      "    featMin: Integer, default : 1\n",
      "        The minimum number of features for the sub space from the dataset\n",
      "        Cannot be <= 0 else changes it to 1 instead.\n",
      "    \n",
      "    featMax: Integer, default : max number of features in the dataset\n",
      "        The maximum number of features for the sub space from the dataset\n",
      "        Cannot be <featMin else changes it to equal to featMin\n",
      "\n",
      "    indpb: float, default : 0.05\n",
      "        The number that defines the probability by which the chromosome will be mutated.\n",
      "\n",
      "    ngen: Integer, default : 10\n",
      "        The iterations for which the evolutionary algorithm is going to run.\n",
      "\n",
      "    mutpb: float, default : 0.40\n",
      "        The probability by which the individuals will go through mutation.\n",
      "\n",
      "    cxpb: float, default : 0.50\n",
      "        The probability by which the individuals will go through cross over.\n",
      "\n",
      "    base_estimator: model, default: LinearRegression\n",
      "        The type of model which is to be trained in the chromosome.\n",
      "\n",
      "    crossover_func: cross-over function, default : tools.cxTwoPoint [go through eaSimple's documentation]\n",
      "        The corssover function that will be used between the individuals\n",
      "\n",
      "    test_frac, test_frac_flag: Parameters for playing around with test set. Not in use as of now.\n",
      "\n",
      "    Attributes\n",
      "    -----------\n",
      "    segment: HallOfFame individual \n",
      "        Gives you the best individual from the whole population. \n",
      "        The best individual can be accessed via segment[0]\n",
      "\n",
      "    \n"
     ]
    }
   ],
   "source": [
    "print(FeatureStackerFEGT.__doc__)"
   ]
  },
  {
   "cell_type": "code",
   "execution_count": 16,
   "metadata": {
    "collapsed": true
   },
   "outputs": [],
   "source": [
    "clf = FeatureStackerFEGT(ngen=30)"
   ]
  },
  {
   "cell_type": "code",
   "execution_count": 17,
   "metadata": {
    "collapsed": false
   },
   "outputs": [
    {
     "name": "stdout",
     "output_type": "stream",
     "text": [
      "gen\tnevals\tavg    \tmin    \tmax    \n",
      "0  \t30    \t4.80779\t4.30355\t5.31144\n",
      "1  \t14    \t4.55898\t4.30355\t4.96747\n",
      "2  \t24    \t4.47572\t4.30232\t5.01653\n",
      "3  \t30    \t4.39705\t4.24509\t4.5792 \n",
      "4  \t13    \t4.3305 \t4.22728\t4.70083\n",
      "5  \t22    \t4.27701\t4.22728\t4.38708\n",
      "6  \t22    \t4.25929\t4.22728\t4.38545\n",
      "7  \t21    \t4.23435\t4.21544\t4.24509\n",
      "8  \t17    \t4.23617\t4.21544\t4.38545\n",
      "9  \t18    \t4.22293\t4.21544\t4.22728\n",
      "10 \t21    \t4.21741\t4.21544\t4.22728\n",
      "11 \t27    \t4.21559\t4.21544\t4.22013\n",
      "12 \t20    \t4.21544\t4.21544\t4.21544\n",
      "13 \t20    \t4.21544\t4.21544\t4.21544\n",
      "14 \t28    \t4.21544\t4.21544\t4.21544\n",
      "15 \t17    \t4.21536\t4.21307\t4.21544\n",
      "16 \t22    \t4.21522\t4.21307\t4.21833\n",
      "17 \t26    \t4.21459\t4.21307\t4.21831\n",
      "18 \t21    \t4.21346\t4.21307\t4.21544\n",
      "19 \t19    \t4.21307\t4.21307\t4.21307\n",
      "20 \t20    \t4.21307\t4.21307\t4.21307\n",
      "21 \t24    \t4.21307\t4.21307\t4.21307\n",
      "22 \t23    \t4.21307\t4.21307\t4.21307\n",
      "23 \t18    \t4.21328\t4.21307\t4.21833\n",
      "24 \t21    \t4.21307\t4.21307\t4.21307\n",
      "25 \t23    \t4.21307\t4.21307\t4.21307\n",
      "26 \t23    \t4.21307\t4.21307\t4.21307\n",
      "27 \t20    \t4.2131 \t4.21307\t4.21409\n",
      "28 \t17    \t4.21314\t4.21307\t4.21532\n",
      "29 \t25    \t4.21307\t4.21307\t4.21307\n",
      "30 \t21    \t4.21307\t4.21307\t4.21307\n"
     ]
    },
    {
     "data": {
      "text/plain": [
       "FeatureStackerFEGT(N_individual=5, N_population=30,\n",
       "          base_estimator=LinearRegression(copy_X=True, fit_intercept=True, n_jobs=1, normalize=False),\n",
       "          crossover_func=<function cxTwoPoint at 0x106C5B70>, cxpb=0.5,\n",
       "          featMax=7, featMin=1, indpb=0.05, mutpb=0.4, ngen=30,\n",
       "          test_frac=0.3, test_frac_flag=False, test_size=0.2)"
      ]
     },
     "execution_count": 17,
     "metadata": {},
     "output_type": "execute_result"
    }
   ],
   "source": [
    "clf.fit(X, y)"
   ]
  },
  {
   "cell_type": "code",
   "execution_count": 18,
   "metadata": {
    "collapsed": false
   },
   "outputs": [
    {
     "data": {
      "text/plain": [
       "0.65262771433009603"
      ]
     },
     "execution_count": 18,
     "metadata": {},
     "output_type": "execute_result"
    }
   ],
   "source": [
    "clf.score(X, y)"
   ]
  },
  {
   "cell_type": "code",
   "execution_count": 19,
   "metadata": {
    "collapsed": false
   },
   "outputs": [],
   "source": [
    "## Get the Hall of Fame individual\n",
    "hof = clf.segment[0]"
   ]
  },
  {
   "cell_type": "code",
   "execution_count": 20,
   "metadata": {
    "collapsed": false
   },
   "outputs": [],
   "source": [
    "sampled_datasets = [eg.get_data() for eg in hof]"
   ]
  },
  {
   "cell_type": "code",
   "execution_count": 21,
   "metadata": {
    "collapsed": false
   },
   "outputs": [
    {
     "data": {
      "text/plain": [
       "[['hum', 'milPress', 'temp', 'invTemp', 'vis', 'invHt', 'press', 'output'],\n",
       " ['invHt', 'milPress', 'hum', 'temp', 'invTemp', 'vis', 'output'],\n",
       " ['invHt', 'output'],\n",
       " ['invHt', 'hum', 'vis', 'output'],\n",
       " ['hum', 'press', 'vis', 'milPress', 'invTemp', 'output']]"
      ]
     },
     "execution_count": 21,
     "metadata": {},
     "output_type": "execute_result"
    }
   ],
   "source": [
    "[data.columns.tolist() for data in sampled_datasets]"
   ]
  },
  {
   "cell_type": "code",
   "execution_count": 22,
   "metadata": {
    "collapsed": false
   },
   "outputs": [
    {
     "data": {
      "text/plain": [
       "Index([u'temp', u'invHt', u'press', u'vis', u'milPress', u'hum', u'invTemp',\n",
       "       u'wind'],\n",
       "      dtype='object')"
      ]
     },
     "execution_count": 22,
     "metadata": {},
     "output_type": "execute_result"
    }
   ],
   "source": [
    "## Original X columns\n",
    "X.columns"
   ]
  },
  {
   "cell_type": "code",
   "execution_count": null,
   "metadata": {
    "collapsed": true
   },
   "outputs": [],
   "source": []
  },
  {
   "cell_type": "code",
   "execution_count": null,
   "metadata": {
    "collapsed": true
   },
   "outputs": [],
   "source": []
  }
 ],
 "metadata": {
  "kernelspec": {
   "display_name": "Python [Root]",
   "language": "python",
   "name": "Python [Root]"
  },
  "language_info": {
   "codemirror_mode": {
    "name": "ipython",
    "version": 3
   },
   "file_extension": ".py",
   "mimetype": "text/x-python",
   "name": "python",
   "nbconvert_exporter": "python",
   "pygments_lexer": "ipython3",
   "version": "3.5.2"
  }
 },
 "nbformat": 4,
 "nbformat_minor": 0
}
