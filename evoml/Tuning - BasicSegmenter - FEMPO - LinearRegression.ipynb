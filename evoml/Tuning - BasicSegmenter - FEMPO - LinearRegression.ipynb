{
 "cells": [
  {
   "cell_type": "code",
   "execution_count": 5,
   "metadata": {
    "collapsed": true
   },
   "outputs": [],
   "source": [
    "import warnings\n",
    "warnings.filterwarnings(\"ignore\", category=DeprecationWarning)"
   ]
  },
  {
   "cell_type": "code",
   "execution_count": 6,
   "metadata": {
    "collapsed": false
   },
   "outputs": [],
   "source": [
    "import pandas as pd\n",
    "import numpy as np\n",
    "from auto_segment_FEMPO import BasicSegmenterEG_FEMPO\n",
    "#dreload(auto_feature)\n",
    "from sklearn.grid_search import GridSearchCV, RandomizedSearchCV\n",
    "from sklearn.tree import DecisionTreeRegressor\n",
    "from sklearn.cross_validation import train_test_split\n",
    "from sklearn.metrics import mean_squared_error\n",
    "from sklearn.datasets import load_boston\n",
    "from sklearn.linear_model import LinearRegression\n",
    "from sklearn.ensemble import BaggingRegressor\n",
    "from sklearn.tree import DecisionTreeRegressor\n",
    "from sklearn.base import clone\n",
    "boston = load_boston()\n",
    "#print(boston.data.shape)"
   ]
  },
  {
   "cell_type": "code",
   "execution_count": null,
   "metadata": {
    "collapsed": false
   },
   "outputs": [],
   "source": []
  },
  {
   "cell_type": "code",
   "execution_count": 7,
   "metadata": {
    "collapsed": false
   },
   "outputs": [],
   "source": [
    "base_address = \"./Notebooks/Datasets/\"\n",
    "dataSets = []\n",
    "dataSets_temp = []\n",
    "data_names = ['servo','abalone','ozone']\n",
    "for i in range(0,len(data_names)):\n",
    "    dataSets_temp.append(pd.read_csv(base_address+data_names[i]+'.csv'))\n",
    "    temp_data = pd.read_csv(base_address+data_names[i]+'.csv')\n",
    "    temp_data = pd.get_dummies(temp_data)\n",
    "    temp_output = pd.DataFrame(temp_data['output'])\n",
    "    temp_data.drop('output',axis=1,inplace=True)\n",
    "    temp_data = pd.concat([temp_data, temp_output], axis=1)\n",
    "    dataSets.append(temp_data)\n",
    "# Boston Data\n",
    "b_feat = pd.DataFrame(boston.data)\n",
    "b_feat.columns = ['feat_0','feat_1','feat_2','feat_3','feat_4','feat_5','feat_6','feat_7','feat_8','feat_9','feat_10','feat_11','feat_12']\n",
    "b_target = pd.DataFrame(boston.target)\n",
    "b_target.columns = ['output']\n",
    "b_data = pd.concat([b_feat,b_target],axis=1)\n",
    "dataSets.append(b_data)"
   ]
  },
  {
   "cell_type": "code",
   "execution_count": 9,
   "metadata": {
    "collapsed": true
   },
   "outputs": [],
   "source": [
    "def get_result(model_,data_, frac):\n",
    "    model = clone(model_)\n",
    "    output = data_['output']\n",
    "    data_.drop('output',axis=1,inplace=True)\n",
    "    X_train, X_test, y_train, y_test = train_test_split(data_, output, test_size=frac)\n",
    "    model.fit(X_train,y_train)\n",
    "    test_result = model.predict(X_test)\n",
    "    return mean_squared_error(y_test,test_result), test_result, model"
   ]
  },
  {
   "cell_type": "code",
   "execution_count": 10,
   "metadata": {
    "collapsed": true
   },
   "outputs": [],
   "source": [
    "def get_result_iter(data, N_iterations, frac, models):\n",
    "    #get_result(FS,temp_data)\n",
    "    model_list = []\n",
    "    Result_mses = []\n",
    "    temp_model_perf = []\n",
    "    for i in range(0,len(models)):\n",
    "        model_iter_results = []\n",
    "        for j in range(0,N_iterations):\n",
    "            temp_data = data.copy(deep=True)\n",
    "            temp_rs, temp_pred, model = get_result(models[i],temp_data, frac)\n",
    "            #print model.best_params_\n",
    "            model_iter_results.append(temp_rs)\n",
    "            model_list.append(model)\n",
    "        temp_model_perf.append(model_iter_results)\n",
    "        Result_mses.append(sum(model_iter_results)/len(model_iter_results))\n",
    "    return Result_mses, model_list, temp_model_perf"
   ]
  },
  {
   "cell_type": "code",
   "execution_count": 27,
   "metadata": {
    "collapsed": false
   },
   "outputs": [
    {
     "data": {
      "text/html": [
       "<div>\n",
       "<table border=\"1\" class=\"dataframe\">\n",
       "  <thead>\n",
       "    <tr style=\"text-align: right;\">\n",
       "      <th></th>\n",
       "      <th>FEMPO</th>\n",
       "      <th>BaggingRegressor</th>\n",
       "    </tr>\n",
       "  </thead>\n",
       "  <tbody>\n",
       "    <tr>\n",
       "      <th>Servo</th>\n",
       "      <td>1.370401</td>\n",
       "      <td>1.216594</td>\n",
       "    </tr>\n",
       "    <tr>\n",
       "      <th>Abalone</th>\n",
       "      <td>4.778311</td>\n",
       "      <td>4.948816</td>\n",
       "    </tr>\n",
       "    <tr>\n",
       "      <th>Ozone</th>\n",
       "      <td>21.390474</td>\n",
       "      <td>22.513645</td>\n",
       "    </tr>\n",
       "    <tr>\n",
       "      <th>Boston-housing</th>\n",
       "      <td>27.185927</td>\n",
       "      <td>23.536309</td>\n",
       "    </tr>\n",
       "  </tbody>\n",
       "</table>\n",
       "</div>"
      ],
      "text/plain": [
       "                    FEMPO  BaggingRegressor\n",
       "Servo            1.370401          1.216594\n",
       "Abalone          4.778311          4.948816\n",
       "Ozone           21.390474         22.513645\n",
       "Boston-housing  27.185927         23.536309"
      ]
     },
     "execution_count": 27,
     "metadata": {},
     "output_type": "execute_result"
    }
   ],
   "source": [
    "Res_all_ds = []\n",
    "model_f = []\n",
    "perf_f = []\n",
    "for i in range(0,len(dataSets)):\n",
    "    t_data = dataSets[i].copy(deep=True)\n",
    "    N_iterations = 10\n",
    "    g_frac = 0.10\n",
    "    # Parameters I want to sweep on.\n",
    "    parameters = {\n",
    "        'n_votes': [1,3,5,10],\n",
    "        'init_sample_percentage':[0.2,0.5,1]\n",
    "    }\n",
    "    # Default params\n",
    "    FEMPO = BasicSegmenterEG_FEMPO(**{'cxpb': 0.5,\n",
    " 'indpb': 0.2,\n",
    " 'init_sample_percentage': 0.5,\n",
    " 'mutpb': 0.5,\n",
    " 'n': 50,\n",
    " 'n_population': 20,\n",
    " 'ngen': 50,\n",
    " 'statistics': False,\n",
    "#  'test_size': 0.25,\n",
    " 'tournsize': 3,\n",
    " 'base_estimator': LinearRegression(),\n",
    " 'n_votes' : 3\n",
    "})\n",
    "    \n",
    "    #grid_model = RandomizedSearchCV(FS, parameters, verbose=True, scoring=\"mean_squared_error\",n_iter=100)\n",
    "#     grid_model = GridSearchCV(FEMPO, parameters, verbose=True, scoring=\"mean_squared_error\", cv = 3, n_jobs= 1 )\n",
    "    grid_model = FEMPO\n",
    "    g_models = []\n",
    "    g_models.append(grid_model)\n",
    "#     g_models.append(Ba)\n",
    "    g_models.append(BaggingRegressor(max_samples=0.99, bootstrap = True, oob_score = True, \n",
    "                                                  base_estimator = LinearRegression(),\n",
    "                                                 n_estimators = 10))\n",
    "    Result_t, model_list, model_perf = get_result_iter(t_data, N_iterations, g_frac, g_models)\n",
    "    Res_all_ds.append(Result_t)\n",
    "    model_f.append(model_list)\n",
    "    perf_f.append(model_perf)\n",
    "dataSet_names = ['Servo','Abalone','Ozone','Boston-housing']\n",
    "model_names = ['FEMPO', 'BaggingRegressor']\n",
    "Result_test_bench = pd.DataFrame(Res_all_ds)\n",
    "Result_test_bench.columns = model_names\n",
    "Result_test_bench.set_index([dataSet_names],inplace=True)\n",
    "Result_test_bench"
   ]
  },
  {
   "cell_type": "code",
   "execution_count": 28,
   "metadata": {
    "collapsed": false
   },
   "outputs": [
    {
     "data": {
      "text/html": [
       "<div>\n",
       "<table border=\"1\" class=\"dataframe\">\n",
       "  <thead>\n",
       "    <tr style=\"text-align: right;\">\n",
       "      <th></th>\n",
       "      <th>FEMPO</th>\n",
       "      <th>BaggingRegressor</th>\n",
       "    </tr>\n",
       "  </thead>\n",
       "  <tbody>\n",
       "    <tr>\n",
       "      <th>Servo</th>\n",
       "      <td>1.370401</td>\n",
       "      <td>1.216594</td>\n",
       "    </tr>\n",
       "    <tr>\n",
       "      <th>Abalone</th>\n",
       "      <td>4.778311</td>\n",
       "      <td>4.948816</td>\n",
       "    </tr>\n",
       "    <tr>\n",
       "      <th>Ozone</th>\n",
       "      <td>21.390474</td>\n",
       "      <td>22.513645</td>\n",
       "    </tr>\n",
       "    <tr>\n",
       "      <th>Boston-housing</th>\n",
       "      <td>27.185927</td>\n",
       "      <td>23.536309</td>\n",
       "    </tr>\n",
       "  </tbody>\n",
       "</table>\n",
       "</div>"
      ],
      "text/plain": [
       "                    FEMPO  BaggingRegressor\n",
       "Servo            1.370401          1.216594\n",
       "Abalone          4.778311          4.948816\n",
       "Ozone           21.390474         22.513645\n",
       "Boston-housing  27.185927         23.536309"
      ]
     },
     "execution_count": 28,
     "metadata": {},
     "output_type": "execute_result"
    }
   ],
   "source": [
    "Result_test_bench"
   ]
  },
  {
   "cell_type": "code",
   "execution_count": 28,
   "metadata": {
    "collapsed": false
   },
   "outputs": [
    {
     "name": "stdout",
     "output_type": "stream",
     "text": [
      "{'n_votes': 10, 'init_sample_percentage': 0.5}\n",
      "{'n_votes': 10, 'init_sample_percentage': 0.5}\n",
      "{'n_votes': 10, 'init_sample_percentage': 0.5}\n",
      "{'n_votes': 5, 'init_sample_percentage': 1}\n"
     ]
    }
   ],
   "source": [
    "for m in model_f:\n",
    "    print m[0].best_params_\n",
    "#     print m"
   ]
  },
  {
   "cell_type": "code",
   "execution_count": 9,
   "metadata": {
    "collapsed": false
   },
   "outputs": [
    {
     "data": {
      "text/plain": [
       "[GridSearchCV(cv=3, error_score='raise',\n",
       "        estimator=BasicSegmenterEG_FEMPO(base_estimator=LinearRegression(copy_X=True, fit_intercept=True, n_jobs=1, normalize=False),\n",
       "             crossover_func=<function cxTwoPoint at 0x107C1DF0>, cxpb=0.5,\n",
       "             indpb=0.2, init_sample_percentage=0.2, mutpb=0.5, n=10,\n",
       "             n_population=20, n_votes=1, ngen=10, statistics=False,\n",
       "             test_size=0.2, tournsize=3),\n",
       "        fit_params={}, iid=True, loss_func=None, n_jobs=1,\n",
       "        param_grid={'n_votes': [1, 3, 5, 10], 'init_sample_percentage': [0.2, 0.5, 1]},\n",
       "        pre_dispatch='2*n_jobs', refit=True, score_func=None,\n",
       "        scoring='mean_squared_error', verbose=True)]"
      ]
     },
     "execution_count": 9,
     "metadata": {},
     "output_type": "execute_result"
    }
   ],
   "source": []
  },
  {
   "cell_type": "code",
   "execution_count": 29,
   "metadata": {
    "collapsed": false
   },
   "outputs": [],
   "source": [
    "p= pd.DataFrame(perf_f)"
   ]
  },
  {
   "cell_type": "code",
   "execution_count": 22,
   "metadata": {
    "collapsed": false
   },
   "outputs": [
    {
     "data": {
      "text/plain": [
       "[[20.725575714975999,\n",
       "  18.634474713037562,\n",
       "  25.123556530492966,\n",
       "  25.217766426993695,\n",
       "  13.882990718821937],\n",
       " [42.800736135077528,\n",
       "  18.758960248776727,\n",
       "  26.472713992396379,\n",
       "  34.053993957266833,\n",
       "  19.195811401078227]]"
      ]
     },
     "execution_count": 22,
     "metadata": {},
     "output_type": "execute_result"
    }
   ],
   "source": [
    "model_perf"
   ]
  },
  {
   "cell_type": "code",
   "execution_count": 34,
   "metadata": {
    "collapsed": false
   },
   "outputs": [
    {
     "data": {
      "text/plain": [
       "(array([ 1.,  0.,  1.,  2.,  0.,  1.,  0.,  0.,  4.,  1.]),\n",
       " array([  9.7741627 ,  11.71738203,  13.66060137,  15.6038207 ,\n",
       "         17.54704004,  19.49025937,  21.4334787 ,  23.37669804,\n",
       "         25.31991737,  27.26313671,  29.20635604]),\n",
       " <a list of 10 Patch objects>)"
      ]
     },
     "execution_count": 34,
     "metadata": {},
     "output_type": "execute_result"
    },
    {
     "data": {
      "image/png": "[encoded data removed]",
      "text/plain": [
       "<matplotlib.figure.Figure at 0x15fdf370>"
      ]
     },
     "metadata": {},
     "output_type": "display_data"
    }
   ],
   "source": [
    "import matplotlib.pyplot as plt\n",
    "%matplotlib inline\n",
    "plt.hist(p.iloc[2][0])"
   ]
  },
  {
   "cell_type": "code",
   "execution_count": 35,
   "metadata": {
    "collapsed": false
   },
   "outputs": [
    {
     "data": {
      "text/plain": [
       "(array([ 2.,  1.,  1.,  2.,  0.,  1.,  1.,  1.,  0.,  1.]),\n",
       " array([ 15.4335111 ,  17.15005701,  18.86660292,  20.58314883,\n",
       "         22.29969474,  24.01624065,  25.73278656,  27.44933247,\n",
       "         29.16587838,  30.8824243 ,  32.59897021]),\n",
       " <a list of 10 Patch objects>)"
      ]
     },
     "execution_count": 35,
     "metadata": {},
     "output_type": "execute_result"
    },
    {
     "data": {
      "image/png": "[encoded data removed]",
      "text/plain": [
       "<matplotlib.figure.Figure at 0x11720bd0>"
      ]
     },
     "metadata": {},
     "output_type": "display_data"
    }
   ],
   "source": [
    "plt.hist(p.iloc[2][1])"
   ]
  },
  {
   "cell_type": "code",
   "execution_count": null,
   "metadata": {
    "collapsed": true
   },
   "outputs": [],
   "source": []
  }
 ],
 "metadata": {
  "kernelspec": {
   "display_name": "Python 2",
   "language": "python",
   "name": "python2"
  },
  "language_info": {
   "codemirror_mode": {
    "name": "ipython",
    "version": 2
   },
   "file_extension": ".py",
   "mimetype": "text/x-python",
   "name": "python",
   "nbconvert_exporter": "python",
   "pygments_lexer": "ipython2",
   "version": "2.7.9"
  }
 },
 "nbformat": 4,
 "nbformat_minor": 0
}
