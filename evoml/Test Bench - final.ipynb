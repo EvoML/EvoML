{
 "cells": [
  {
   "cell_type": "code",
   "execution_count": 7,
   "metadata": {
    "collapsed": true
   },
   "outputs": [],
   "source": [
    "%matplotlib inline\n",
    "import pandas as pd\n",
    "import numpy as np\n",
    "import auto_feature\n",
    "#dreload(auto_feature)\n",
    "from sklearn.grid_search import GridSearchCV, RandomizedSearchCV\n",
    "from sklearn.tree import DecisionTreeRegressor\n",
    "from sklearn.cross_validation import train_test_split\n",
    "from sklearn.metrics import mean_squared_error\n",
    "from sklearn.datasets import load_boston\n",
    "from sklearn import linear_model\n",
    "from sklearn.base import clone\n",
    "import sklearn.datasets as sk_data\n",
    "import matplotlib.pyplot as plt\n",
    "boston = load_boston()\n",
    "from operator import attrgetter\n",
    "from sklearn.tree import DecisionTreeRegressor\n",
    "#print(boston.data.shape)"
   ]
  },
  {
   "cell_type": "code",
   "execution_count": 8,
   "metadata": {
    "collapsed": false
   },
   "outputs": [],
   "source": [
    "base_address = \"../Datasets/\"\n",
    "dataSets = []\n",
    "dataSets_temp = []\n",
    "data_names = ['servo','abalone','ozone']\n",
    "for i in range(0,len(data_names)):\n",
    "    dataSets_temp.append(pd.read_csv(base_address+data_names[i]+'.csv'))\n",
    "    temp_data = pd.read_csv(base_address+data_names[i]+'.csv')\n",
    "    temp_data = pd.get_dummies(temp_data)\n",
    "    temp_output = pd.DataFrame(temp_data['output'])\n",
    "    temp_data.drop('output',axis=1,inplace=True)\n",
    "    temp_data = pd.concat([temp_data, temp_output], axis=1)\n",
    "    dataSets.append(temp_data)\n",
    "# Boston Data\n",
    "b_feat = pd.DataFrame(boston.data)\n",
    "b_feat.columns = ['feat_0','feat_1','feat_2','feat_3','feat_4','feat_5','feat_6','feat_7','feat_8','feat_9','feat_10','feat_11','feat_12']\n",
    "b_target = pd.DataFrame(boston.target)\n",
    "b_target.columns = ['output']\n",
    "b_data = pd.concat([b_feat,b_target],axis=1)\n",
    "dataSets.append(b_data)\n",
    "# Friedman Datasets\n",
    "fd_1 = sk_data.make_friedman1(n_samples=2200, n_features=10, random_state=None)\n",
    "features = pd.DataFrame(fd_1[0])\n",
    "features.columns = ['feat_0','feat_1','feat_2','feat_3','feat_4','feat_5','feat_6','feat_7','feat_8','feat_9']\n",
    "output = pd.DataFrame(fd_1[1])\n",
    "output.columns = ['output']\n",
    "fd_1 = pd.concat([features, output],axis=1)\n",
    "\n",
    "fd_2 = sk_data.make_friedman2(n_samples=2200, random_state=None)\n",
    "features = pd.DataFrame(fd_2[0])\n",
    "features.columns = ['feat_0','feat_1','feat_2','feat_3']\n",
    "output = pd.DataFrame(fd_2[1])\n",
    "output.columns = ['output']\n",
    "fd_2 = pd.concat([features, output],axis=1)\n",
    "\n",
    "fd_3 = sk_data.make_friedman3(n_samples=2200, random_state=None)\n",
    "features = pd.DataFrame(fd_3[0])\n",
    "features.columns = ['feat_0','feat_1','feat_2','feat_3']\n",
    "output = pd.DataFrame(fd_3[1])\n",
    "output.columns = ['output']\n",
    "fd_3 = pd.concat([features, output],axis=1)\n",
    "\n",
    "dataSets.append(fd_1)\n",
    "dataSets.append(fd_2)\n",
    "dataSets.append(fd_3)\n",
    "\n",
    "dataSets_frac = [0.10, 0.25, 0.10, 0.10, 0.909, 0.909, 0.909]"
   ]
  },
  {
   "cell_type": "code",
   "execution_count": 9,
   "metadata": {
    "collapsed": true
   },
   "outputs": [],
   "source": [
    "def get_result(model_,data_, frac):\n",
    "    model = clone(model_)\n",
    "    output = data_['output']\n",
    "    data_.drop('output',axis=1,inplace=True)\n",
    "    X_train, X_test, y_train, y_test = train_test_split(data_, output, test_size=frac)\n",
    "    model.fit(X_train,y_train)\n",
    "    model.unseen_x = X_test\n",
    "    model.unseen_y = y_test\n",
    "    test_result = model.predict(X_test)\n",
    "    return mean_squared_error(y_test,test_result), test_result, model\n",
    "def get_result_iter(data, N_iterations, frac, models):\n",
    "    #get_result(FS,temp_data)\n",
    "    model_list = []\n",
    "    Result_mses = []\n",
    "    temp_perf_data = []\n",
    "    for i in range(0,len(models)):\n",
    "        model_iter_results = []\n",
    "        for j in range(0,N_iterations):\n",
    "            temp_data = data.copy(deep=True)\n",
    "            temp_rs, temp_pred, model = get_result(models[i],temp_data, frac)\n",
    "            #print model.best_params_\n",
    "            model_iter_results.append(temp_rs)\n",
    "            model_list.append(model)\n",
    "        Result_mses.append(sum(model_iter_results)/len(model_iter_results))\n",
    "        temp_perf_data.append(model_iter_results)\n",
    "    return Result_mses, model_list, temp_perf_data"
   ]
  },
  {
   "cell_type": "code",
   "execution_count": 10,
   "metadata": {
    "collapsed": false
   },
   "outputs": [],
   "source": [
    "def test_bench_earlier():\n",
    "    Res_all_ds = []\n",
    "    model_f = []\n",
    "    perf_f = []\n",
    "    for i in range(0,len(dataSets)):\n",
    "        t_data = dataSets[i].copy(deep=True)\n",
    "        N_iterations = 50\n",
    "        g_frac = dataSets_frac[i]\n",
    "        regressor = DecisionTreeRegressor(max_depth=5)\n",
    "        FS = auto_feature.Feature_Stacker2(ngen=40,cxpb = 0.6, mutpb = 0.4, indpb = 0.3, N_individual = 5, base_estimator = regressor)\n",
    "        g_models = []\n",
    "        g_models.append(FS)\n",
    "        Result_t, model_list, model_perf = get_result_iter(t_data, N_iterations, g_frac, g_models)\n",
    "        perf_f.append(model_perf)\n",
    "        Res_all_ds.append(Result_t)\n",
    "        model_f.append(model_list)\n",
    "    dataSet_names = ['Servo','Abalone','Ozone','Boston-housing', 'FD#1', 'FD#2', 'FD#3']\n",
    "    model_names = ['Feature Stacker-POOB']\n",
    "    Result_test_bench = pd.DataFrame(Res_all_ds)\n",
    "    Result_test_bench.columns = model_names\n",
    "    Result_test_bench.set_index([dataSet_names],inplace=True)\n",
    "    Result_test_bench"
   ]
  },
  {
   "cell_type": "code",
   "execution_count": 22,
   "metadata": {
    "collapsed": false
   },
   "outputs": [],
   "source": [
    "def test_bench_main():\n",
    "    Res_all_ds = []\n",
    "    model_f = []\n",
    "    perf_f = []\n",
    "    for i in range(3,4):\n",
    "        t_data = dataSets[i].copy(deep=True)\n",
    "        N_iterations = 1\n",
    "        g_frac = 0.10\n",
    "        regressor = DecisionTreeRegressor(max_depth=5)\n",
    "        FS = auto_feature.Feature_Stacker2(ngen=30,cxpb = 0.6, mutpb = 0.4, indpb = 0.3, N_individual = 5, base_estimator = regressor)\n",
    "        g_models = []\n",
    "        g_models.append(FS)\n",
    "        Result_t, model_list, model_perf = get_result_iter(t_data, N_iterations, g_frac, g_models)\n",
    "        perf_f.append(model_perf)\n",
    "        Res_all_ds.append(Result_t)\n",
    "        model_f.append(model_list)\n",
    "    #dataSet_names = ['Servo','Abalone','Ozone','Boston-housing', 'FD#1', 'FD#2', 'FD#3']\n",
    "    dataSet_names = ['Servo']\n",
    "    model_names = ['Feature Stacker-POOB']\n",
    "    Result_test_bench = pd.DataFrame(Res_all_ds)\n",
    "    Result_test_bench.columns = model_names\n",
    "    Result_test_bench.set_index([dataSet_names],inplace=True)\n",
    "    #print Result_test_bench\n",
    "    return model_f[0][0]"
   ]
  },
  {
   "cell_type": "code",
   "execution_count": 23,
   "metadata": {
    "collapsed": true
   },
   "outputs": [],
   "source": [
    "def get_hof_fitness_unseen(clf, unseen_x, unseen_y):\n",
    "    \n",
    "    def eval_unseen_per_gen(individual, unseen_x, unseen_y, self):\n",
    "        \"\"\"\n",
    "        Unseen is taken from init params and is a complete  \n",
    "        \"\"\"\n",
    "        predict_rmses = []\n",
    "        predict_vals = []\n",
    "        ind_f = list(unseen_x.index)\n",
    "        for i in range(0,len(individual)):\n",
    "            chromosome = individual[i]\n",
    "            predict_vals.append(get_predictions(unseen_x, chromosome))\n",
    "            predict_rmses.append(mean_squared_error(unseen_y, predict_vals[i]))\n",
    "        final_rmse = sum(predict_rmses)/len(predict_rmses)\n",
    "        return final_rmse,\n",
    "    \n",
    "    def get_predictions(x_te, chrom):\n",
    "        feat_chrom = list(chrom.X.columns.values)\n",
    "        test_feat = x_te[feat_chrom]\n",
    "        mod = chrom.estimator\n",
    "        predicted = mod.predict(test_feat)\n",
    "        return predicted\n",
    "\n",
    "    logbook = clf.logbook\n",
    "    pops = logbook.select('pop')\n",
    "    pops = pops[1:]\n",
    "    fitness_f = []\n",
    "    unseen_f = []\n",
    "    first_mse = eval_unseen_per_gen(pops[0][0], unseen_x, unseen_y, clf)\n",
    "    hof_mse = eval_unseen_per_gen(clf.hof[0], unseen_x, unseen_y, clf)\n",
    "    for pop in pops:\n",
    "        best_ind_pop = max(pop, key=attrgetter(\"fitness\"))\n",
    "        # get performance on unseen from this.   \n",
    "        unseen_mse = eval_unseen_per_gen(best_ind_pop, unseen_x, unseen_y, clf)\n",
    "        fitness = best_ind_pop.fitness.values[0]\n",
    "        #print fitness, unseen_mse[0]\n",
    "        fitness_f.append(fitness)\n",
    "        unseen_f.append(unseen_mse[0])\n",
    "    return fitness_f, unseen_f, first_mse, hof_mse"
   ]
  },
  {
   "cell_type": "code",
   "execution_count": 37,
   "metadata": {
    "collapsed": false
   },
   "outputs": [
    {
     "name": "stdout",
     "output_type": "stream",
     "text": [
      "0.51525297261\n",
      "0.337947516806\n",
      "0.590754603935\n",
      "-0.978388229365\n",
      "0.439176448862\n",
      "0.652716771769\n",
      "0.917720199713\n",
      "0.961223154288\n",
      "0.212237225685\n",
      "0.44559320079\n",
      "-0.191685133072\n",
      "0.278553692383\n",
      "0.599762727993\n",
      "0.744461740532\n",
      "0.237192357236\n",
      "0.330356175225\n",
      "-0.777753216827\n",
      "-0.150346434741\n",
      "0.534881917142\n",
      "0.546255147369\n",
      "0.151371763265\n",
      "0.80462960802\n",
      "0.960060634431\n",
      "0.838046829448\n",
      "0.645469184083\n",
      "0.86224369617\n",
      "-0.646193246017\n",
      "0.14819800749\n",
      "0.472838883794\n",
      "-0.700806456084\n",
      "0.149079781157\n",
      "0.694562366161\n",
      "0.764073346196\n",
      "0.404735404272\n",
      "-0.0619531718766\n",
      "-0.406930573511\n",
      "0.882927431393\n",
      "0.733343674572\n",
      "0.636452172365\n",
      "0.610762053256\n",
      "0.648163677404\n",
      "-0.810029266099\n",
      "0.67167325835\n",
      "0.523793400855\n",
      "0.700655189791\n",
      "0.701428013226\n",
      "0.591704845177\n",
      "0.905631921578\n",
      "0.683302122268\n",
      "0.910334029322\n",
      "0.179284490558\n",
      "0.89735406024\n",
      "0.533409243427\n",
      "0.937103702344\n",
      "-0.747603149048\n",
      "0.56700583074\n",
      "-0.141589208137\n",
      "0.0420389522093\n",
      "0.45043852199\n",
      "0.787008219676\n",
      "-0.979657367566\n",
      "-0.148811207989\n",
      "0.875205813239\n",
      "0.576239038866\n",
      "0.797844002628\n",
      "0.332191008622\n",
      "0.746665141816\n",
      "-0.669546758869\n",
      "-0.813746997209\n",
      "-0.814061344163\n",
      "0.593334851335\n",
      "0.589944918424\n",
      "0.746712445437\n",
      "0.178669121751\n",
      "0.588049360064\n",
      "0.656562046021\n",
      "0.870113624642\n",
      "0.726580178115\n",
      "0.691914578906\n",
      "0.833362062503\n",
      "0.717894399815\n",
      "0.260823576646\n",
      "-0.398324352604\n",
      "0.0560768509469\n",
      "0.899334509769\n",
      "0.63296674983\n",
      "0.616111930933\n",
      "0.364349004164\n",
      "0.575419028557\n",
      "0.163519344844\n",
      "-0.615346267658\n",
      "0.0854738348236\n",
      "0.954659667893\n",
      "-0.740470675492\n",
      "0.145304317006\n",
      "-0.591566021076\n",
      "0.703592909701\n",
      "0.928543407564\n",
      "0.911435400249\n",
      "-0.873272491237\n"
     ]
    }
   ],
   "source": [
    "#fitness_f, unseen_f = get_hof_fitness_unseen(reg_chk, reg_chk.unseen_x, reg_chk.unseen_y)\n",
    "f_f = []\n",
    "u_f = []\n",
    "csv_f = []\n",
    "for i in range(0,100):\n",
    "    A = test_bench_main()\n",
    "    fitness_f, unseen_f, first_mse, hof_mse = get_hof_fitness_unseen(A, A.unseen_x, A.unseen_y)\n",
    "    f_f.append(fitness_f)\n",
    "    u_f.append(unseen_f)\n",
    "    print np.corrcoef(fitness_f, unseen_f)[0][1]\n",
    "    corr_val = np.corrcoef(fitness_f, unseen_f)[0][1]\n",
    "    csv_f.append([corr_val, first_mse[0], hof_mse[0]])\n",
    "    pd.DataFrame(csv_f).to_csv('Result-iter-new.csv')\n",
    "    plt.scatter(np.arange(0,len(u_f[i])),u_f[i],c='blue')\n",
    "    plt.scatter(np.arange(0,len(u_f[i])),f_f[i],c='red')\n",
    "    plt.savefig('../graphs/fig-POOB-'+str(i)+'.png')\n",
    "    plt.close()"
   ]
  },
  {
   "cell_type": "code",
   "execution_count": 38,
   "metadata": {
    "collapsed": false
   },
   "outputs": [],
   "source": [
    "data_1 = pd.DataFrame(csv_f)"
   ]
  },
  {
   "cell_type": "code",
   "execution_count": null,
   "metadata": {
    "collapsed": false
   },
   "outputs": [],
   "source": []
  },
  {
   "cell_type": "code",
   "execution_count": 39,
   "metadata": {
    "collapsed": false
   },
   "outputs": [],
   "source": [
    "data_1.columns = ['corr','first_rmse','hof_rmse']"
   ]
  },
  {
   "cell_type": "code",
   "execution_count": 41,
   "metadata": {
    "collapsed": false
   },
   "outputs": [
    {
     "data": {
      "text/plain": [
       "88"
      ]
     },
     "execution_count": 41,
     "metadata": {},
     "output_type": "execute_result"
    }
   ],
   "source": [
    "sum(data_1['first_rmse']>data_1['hof_rmse'])"
   ]
  },
  {
   "cell_type": "code",
   "execution_count": null,
   "metadata": {
    "collapsed": true
   },
   "outputs": [],
   "source": []
  }
 ],
 "metadata": {
  "kernelspec": {
   "display_name": "Python 2",
   "language": "python",
   "name": "python2"
  },
  "language_info": {
   "codemirror_mode": {
    "name": "ipython",
    "version": 2
   },
   "file_extension": ".py",
   "mimetype": "text/x-python",
   "name": "python",
   "nbconvert_exporter": "python",
   "pygments_lexer": "ipython2",
   "version": "2.7.9"
  }
 },
 "nbformat": 4,
 "nbformat_minor": 0
}
