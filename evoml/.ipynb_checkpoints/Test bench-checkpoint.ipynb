{
 "cells": [
  {
   "cell_type": "code",
   "execution_count": null,
   "metadata": {
    "collapsed": true
   },
   "outputs": [],
   "source": [
    "%reset\n",
    "from auto_feature import Feature_Stacker\n",
    "import pandas as pd\n",
    "from sklearn.grid_search import GridSearchCV, RandomizedSearchCV\n",
    "import numpy as np\n",
    "from sklearn.tree import DecisionTreeRegressor"
   ]
  },
  {
   "cell_type": "markdown",
   "metadata": {},
   "source": [
    "## Read Datasets\n",
    "-------------------------"
   ]
  },
  {
   "cell_type": "code",
   "execution_count": null,
   "metadata": {
    "collapsed": false
   },
   "outputs": [],
   "source": [
    "base_address = \"../Datasets/\"\n",
    "dataSets = []\n",
    "dataSets_temp = []\n",
    "data_names = ['servo','abalone','ozone']\n",
    "for i in range(0,len(data_names)):\n",
    "    dataSets_temp.append(pd.read_csv(base_address+data_names[i]+'.csv'))\n",
    "    if(i<2):\n",
    "        temp_data = pd.read_csv(base_address+data_names[i]+'.csv',header=None)\n",
    "        temp_data = pd.get_dummies(temp_data)\n",
    "    else:\n",
    "        temp_data = pd.read_csv(base_address+data_names[i]+'.csv',header=None)\n",
    "    dataSets.append(temp_data)\n",
    "#dataSets[2].drop(dataSets[2].columns[[0]], axis=1, inplace=True)\n",
    "#dataSets[2] = dataSets[2][['temp','invHt','press','vis','milPress','hum','invTemp','wind','ozone']]"
   ]
  },
  {
   "cell_type": "code",
   "execution_count": null,
   "metadata": {
    "collapsed": true
   },
   "outputs": [],
   "source": []
  },
  {
   "cell_type": "code",
   "execution_count": null,
   "metadata": {
    "collapsed": false
   },
   "outputs": [],
   "source": [
    "data = pd.read_csv('ameo_numerical.csv')\n",
    "data_submission = pd.read_csv('ameo_numerical_test.csv');\n",
    "data_submission.Domain = data_submission.Domain.fillna(data_submission.Domain.mean())\n",
    "input_feat = ['Gender', '10percentage', '12graduation',\n",
    "     '12percentage', 'CollegeTier', 'collegeGPA', 'CollegeCityTier',\n",
    "     'GraduationYear', 'English', 'Logical', 'Quant', 'Domain',\n",
    "     'conscientiousness', 'agreeableness', 'extraversion', 'nueroticism',\n",
    "     'openess_to_experience', 'Degree_B.Tech/B.E.',\n",
    "     'Degree_M.Sc. (Tech.)', 'Degree_M.Tech./M.E.', 'Degree_MCA']\n",
    "output_feat = ['Salary']\n",
    "features = data[input_feat]\n",
    "output = data[output_feat]\n",
    "FS = Feature_Stacker(ngen=100, indpb=0.2, N_individual=5, mutpb=0.30, cxpb=0.4)\n",
    "#parameters = {'indpb':np.arange(0.1,0.6,0.1).tolist(), 'mutpb':np.arange(0.1,0.7,0.1).tolist(),\n",
    "#'cxpb':np.arange(0.1,0.7,0.1).tolist(),'N_individual':np.arange(4,10,1).tolist()}\n",
    "#grid_model = RandomizedSearchCV(FS, parameters, verbose=True, scoring=\"mean_squared_error\")\n",
    "#grid_model.fit(features, output)\n",
    "#final_result = grid_model.predict(features)\n",
    "#print grid_model.score(features,output)\n",
    "#print grid_model.best_params_\n",
    "FS.fit(features, output)\n",
    "test_features = data_submission[input_feat]\n",
    "test_result = FS.predict(test_features)\n",
    "test_result = pd.DataFrame(test_result)\n",
    "test_result.to_csv('Result_our_own_1.csv')"
   ]
  },
  {
   "cell_type": "code",
   "execution_count": null,
   "metadata": {
    "collapsed": false
   },
   "outputs": [],
   "source": [
    "for i in range(0,5):\n",
    "    print len(list(FS.hof[0][i].X.columns))\n",
    "    print list(FS.hof[0][i].X.columns)"
   ]
  },
  {
   "cell_type": "code",
   "execution_count": null,
   "metadata": {
    "collapsed": false
   },
   "outputs": [],
   "source": [
    "FS1 = Feature_Stacker(ngen=1, indpb=0.2, N_individual=5, mutpb=0.30, cxpb=0.4, N_population=1)\n",
    "FS1.fit(features, output)\n",
    "test_features = data_submission[input_feat]\n",
    "test_result = FS1.predict(test_features)\n",
    "test_result = pd.DataFrame(test_result)\n",
    "test_result.to_csv('Result_random.csv')"
   ]
  },
  {
   "cell_type": "code",
   "execution_count": null,
   "metadata": {
    "collapsed": false
   },
   "outputs": [],
   "source": [
    "for i in range(0,5):\n",
    "    print len(list(FS1.hof[0][i].X.columns))\n",
    "    print list(FS1.hof[0][i].X.columns)"
   ]
  },
  {
   "cell_type": "code",
   "execution_count": null,
   "metadata": {
    "collapsed": false
   },
   "outputs": [],
   "source": [
    " dataSets[0]"
   ]
  },
  {
   "cell_type": "code",
   "execution_count": null,
   "metadata": {
    "collapsed": false
   },
   "outputs": [],
   "source": []
  },
  {
   "cell_type": "code",
   "execution_count": null,
   "metadata": {
    "collapsed": true
   },
   "outputs": [],
   "source": []
  }
 ],
 "metadata": {
  "kernelspec": {
   "display_name": "Python 2",
   "language": "python",
   "name": "python2"
  },
  "language_info": {
   "codemirror_mode": {
    "name": "ipython",
    "version": 2
   },
   "file_extension": ".py",
   "mimetype": "text/x-python",
   "name": "python",
   "nbconvert_exporter": "python",
   "pygments_lexer": "ipython2",
   "version": "2.7.9"
  }
 },
 "nbformat": 4,
 "nbformat_minor": 0
}
