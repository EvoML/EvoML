{
 "cells": [
  {
   "cell_type": "code",
   "execution_count": 1,
   "metadata": {
    "collapsed": true
   },
   "outputs": [],
   "source": [
    "%matplotlib inline\n",
    "import pandas as pd\n",
    "import numpy as np\n",
    "import auto_feature\n",
    "#dreload(auto_feature)\n",
    "from sklearn.grid_search import GridSearchCV, RandomizedSearchCV\n",
    "from sklearn.tree import DecisionTreeRegressor\n",
    "from sklearn.cross_validation import train_test_split\n",
    "from sklearn.metrics import mean_squared_error\n",
    "from sklearn.datasets import load_boston\n",
    "from sklearn import linear_model\n",
    "from sklearn.base import clone\n",
    "import sklearn.datasets as sk_data\n",
    "from sklearn.tree import DecisionTreeRegressor\n",
    "boston = load_boston()\n",
    "#print(boston.data.shape)"
   ]
  },
  {
   "cell_type": "code",
   "execution_count": 21,
   "metadata": {
    "collapsed": false
   },
   "outputs": [],
   "source": [
    "base_address = \"../Datasets/\"\n",
    "dataSets = []\n",
    "dataSets_temp = []\n",
    "data_names = ['servo','abalone','ozone']\n",
    "for i in range(0,len(data_names)):\n",
    "    dataSets_temp.append(pd.read_csv(base_address+data_names[i]+'.csv'))\n",
    "    temp_data = pd.read_csv(base_address+data_names[i]+'.csv')\n",
    "    temp_data = pd.get_dummies(temp_data)\n",
    "    temp_output = pd.DataFrame(temp_data['output'])\n",
    "    temp_data.drop('output',axis=1,inplace=True)\n",
    "    temp_data = pd.concat([temp_data, temp_output], axis=1)\n",
    "    dataSets.append(temp_data)\n",
    "# Boston Data\n",
    "b_feat = pd.DataFrame(boston.data)\n",
    "b_feat.columns = ['feat_0','feat_1','feat_2','feat_3','feat_4','feat_5','feat_6','feat_7','feat_8','feat_9','feat_10','feat_11','feat_12']\n",
    "b_target = pd.DataFrame(boston.target)\n",
    "b_target.columns = ['output']\n",
    "b_data = pd.concat([b_feat,b_target],axis=1)\n",
    "dataSets.append(b_data)\n",
    "# Friedman Datasets\n",
    "fd_1 = sk_data.make_friedman1(n_samples=2200, n_features=10, random_state=None)\n",
    "features = pd.DataFrame(fd_1[0])\n",
    "features.columns = ['feat_0','feat_1','feat_2','feat_3','feat_4','feat_5','feat_6','feat_7','feat_8','feat_9']\n",
    "output = pd.DataFrame(fd_1[1])\n",
    "output.columns = ['output']\n",
    "fd_1 = pd.concat([features, output],axis=1)\n",
    "\n",
    "fd_2 = sk_data.make_friedman2(n_samples=2200, random_state=None)\n",
    "features = pd.DataFrame(fd_2[0])\n",
    "features.columns = ['feat_0','feat_1','feat_2','feat_3']\n",
    "output = pd.DataFrame(fd_2[1])\n",
    "output.columns = ['output']\n",
    "fd_2 = pd.concat([features, output],axis=1)\n",
    "\n",
    "fd_3 = sk_data.make_friedman3(n_samples=2200, random_state=None)\n",
    "features = pd.DataFrame(fd_3[0])\n",
    "features.columns = ['feat_0','feat_1','feat_2','feat_3']\n",
    "output = pd.DataFrame(fd_3[1])\n",
    "output.columns = ['output']\n",
    "fd_3 = pd.concat([features, output],axis=1)\n",
    "\n",
    "dataSets.append(fd_1)\n",
    "dataSets.append(fd_2)\n",
    "dataSets.append(fd_3)\n",
    "\n",
    "dataSets_frac = [0.10, 0.25, 0.10, 0.10, 0.909, 0.909, 0.909]"
   ]
  },
  {
   "cell_type": "code",
   "execution_count": 3,
   "metadata": {
    "collapsed": true
   },
   "outputs": [],
   "source": [
    "def get_result(model_,data_, frac):\n",
    "    model = clone(model_)\n",
    "    output = data_['output']\n",
    "    data_.drop('output',axis=1,inplace=True)\n",
    "    X_train, X_test, y_train, y_test = train_test_split(data_, output, test_size=frac)\n",
    "    model.fit(X_train,y_train)\n",
    "    test_result = model.predict(X_test)\n",
    "    return mean_squared_error(y_test,test_result), test_result, model\n",
    "def get_result_iter(data, N_iterations, frac, models):\n",
    "    #get_result(FS,temp_data)\n",
    "    model_list = []\n",
    "    Result_mses = []\n",
    "    temp_perf_data = []\n",
    "    for i in range(0,len(models)):\n",
    "        model_iter_results = []\n",
    "        for j in range(0,N_iterations):\n",
    "            temp_data = data.copy(deep=True)\n",
    "            temp_rs, temp_pred, model = get_result(models[i],temp_data, frac)\n",
    "            #print model.best_params_\n",
    "            model_iter_results.append(temp_rs)\n",
    "            model_list.append(model)\n",
    "        Result_mses.append(sum(model_iter_results)/len(model_iter_results))\n",
    "        temp_perf_data.append(model_iter_results)\n",
    "    return Result_mses, model_list, temp_perf_data"
   ]
  },
  {
   "cell_type": "code",
   "execution_count": 22,
   "metadata": {
    "collapsed": false
   },
   "outputs": [
    {
     "data": {
      "text/html": [
       "<div>\n",
       "<table border=\"1\" class=\"dataframe\">\n",
       "  <thead>\n",
       "    <tr style=\"text-align: right;\">\n",
       "      <th></th>\n",
       "      <th>Feature Stacker-DT-POOB</th>\n",
       "    </tr>\n",
       "  </thead>\n",
       "  <tbody>\n",
       "    <tr>\n",
       "      <th>Servo</th>\n",
       "      <td>0.282524</td>\n",
       "    </tr>\n",
       "    <tr>\n",
       "      <th>Abalone</th>\n",
       "      <td>5.464650</td>\n",
       "    </tr>\n",
       "    <tr>\n",
       "      <th>Ozone</th>\n",
       "      <td>25.898047</td>\n",
       "    </tr>\n",
       "    <tr>\n",
       "      <th>Boston-housing</th>\n",
       "      <td>18.816429</td>\n",
       "    </tr>\n",
       "    <tr>\n",
       "      <th>FD#1</th>\n",
       "      <td>10.451998</td>\n",
       "    </tr>\n",
       "    <tr>\n",
       "      <th>FD#2</th>\n",
       "      <td>7933.934090</td>\n",
       "    </tr>\n",
       "    <tr>\n",
       "      <th>FD#3</th>\n",
       "      <td>0.026393</td>\n",
       "    </tr>\n",
       "  </tbody>\n",
       "</table>\n",
       "</div>"
      ],
      "text/plain": [
       "                Feature Stacker-DT-POOB\n",
       "Servo                          0.282524\n",
       "Abalone                        5.464650\n",
       "Ozone                         25.898047\n",
       "Boston-housing                18.816429\n",
       "FD#1                          10.451998\n",
       "FD#2                        7933.934090\n",
       "FD#3                           0.026393"
      ]
     },
     "execution_count": 22,
     "metadata": {},
     "output_type": "execute_result"
    }
   ],
   "source": [
    "Res_all_ds = []\n",
    "model_f = []\n",
    "perf_f = []\n",
    "for i in range(0,len(dataSets)):\n",
    "    t_data = dataSets[i].copy(deep=True)\n",
    "    N_iterations = 50\n",
    "    g_frac = dataSets_frac[i]\n",
    "    #FS = auto_feature.Feature_Stacker2(ngen=40,cxpb = 0.6, mutpb = 0.4, indpb = 0.3, N_individual = 5)\n",
    "    regressor = DecisionTreeRegressor(max_depth=5)\n",
    "    g_models = []\n",
    "    g_models.append(regressor)\n",
    "    Result_t, model_list, model_perf = get_result_iter(t_data, N_iterations, g_frac, g_models)\n",
    "    perf_f.append(model_perf)\n",
    "    Res_all_ds.append(Result_t)\n",
    "    model_f.append(model_list)\n",
    "dataSet_names = ['Servo','Abalone','Ozone','Boston-housing', 'FD#1', 'FD#2', 'FD#3']\n",
    "model_names = ['Feature Stacker-DT-POOB']\n",
    "Result_test_bench = pd.DataFrame(Res_all_ds)\n",
    "Result_test_bench.columns = model_names\n",
    "Result_test_bench.set_index([dataSet_names],inplace=True)\n",
    "Result_test_bench"
   ]
  },
  {
   "cell_type": "code",
   "execution_count": 28,
   "metadata": {
    "collapsed": false
   },
   "outputs": [
    {
     "data": {
      "text/plain": [
       "(array([ 45.,   3.,   1.,   0.,   0.,   0.,   0.,   0.,   0.,   1.]),\n",
       " array([ 0.01393119,  0.44383037,  0.87372955,  1.30362872,  1.7335279 ,\n",
       "         2.16342708,  2.59332625,  3.02322543,  3.45312461,  3.88302378,\n",
       "         4.31292296]),\n",
       " <a list of 10 Patch objects>)"
      ]
     },
     "execution_count": 28,
     "metadata": {},
     "output_type": "execute_result"
    },
    {
     "data": {
      "image/png": "[encoded data removed]",
      "text/plain": [
       "<matplotlib.figure.Figure at 0x9714110>"
      ]
     },
     "metadata": {},
     "output_type": "display_data"
    }
   ],
   "source": [
    "import matplotlib.pyplot as plt\n",
    "plt.hist(perf_f[0][0])"
   ]
  },
  {
   "cell_type": "code",
   "execution_count": null,
   "metadata": {
    "collapsed": true
   },
   "outputs": [],
   "source": []
  }
 ],
 "metadata": {
  "kernelspec": {
   "display_name": "Python 2",
   "language": "python",
   "name": "python2"
  },
  "language_info": {
   "codemirror_mode": {
    "name": "ipython",
    "version": 2
   },
   "file_extension": ".py",
   "mimetype": "text/x-python",
   "name": "python",
   "nbconvert_exporter": "python",
   "pygments_lexer": "ipython2",
   "version": "2.7.9"
  }
 },
 "nbformat": 4,
 "nbformat_minor": 0
}
