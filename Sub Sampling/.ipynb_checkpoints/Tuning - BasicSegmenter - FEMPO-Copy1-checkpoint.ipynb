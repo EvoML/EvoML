{
 "cells": [
  {
   "cell_type": "code",
   "execution_count": null,
   "metadata": {
    "collapsed": true
   },
   "outputs": [],
   "source": []
  },
  {
   "cell_type": "code",
   "execution_count": 8,
   "metadata": {
    "collapsed": false
   },
   "outputs": [],
   "source": [
    "import pandas as pd\n",
    "import numpy as np\n",
    "from auto_segment_FEMPO import BasicSegmenterEG_FEMPO\n",
    "#dreload(auto_feature)\n",
    "from sklearn.grid_search import GridSearchCV, RandomizedSearchCV\n",
    "from sklearn.tree import DecisionTreeRegressor\n",
    "from sklearn.cross_validation import train_test_split\n",
    "from sklearn.metrics import mean_squared_error\n",
    "from sklearn.datasets import load_boston\n",
    "from sklearn.linear_model import LinearRegression\n",
    "from sklearn.ensemble import BaggingRegressor\n",
    "from sklearn.tree import DecisionTreeRegressor\n",
    "from sklearn.base import clone\n",
    "boston = load_boston()\n",
    "#print(boston.data.shape)"
   ]
  },
  {
   "cell_type": "code",
   "execution_count": null,
   "metadata": {
    "collapsed": false
   },
   "outputs": [],
   "source": []
  },
  {
   "cell_type": "code",
   "execution_count": 3,
   "metadata": {
    "collapsed": false
   },
   "outputs": [],
   "source": [
    "base_address = \"./Notebooks/Datasets/\"\n",
    "dataSets = []\n",
    "dataSets_temp = []\n",
    "data_names = ['servo','abalone','ozone']\n",
    "for i in range(0,len(data_names)):\n",
    "    dataSets_temp.append(pd.read_csv(base_address+data_names[i]+'.csv'))\n",
    "    temp_data = pd.read_csv(base_address+data_names[i]+'.csv')\n",
    "    temp_data = pd.get_dummies(temp_data)\n",
    "    temp_output = pd.DataFrame(temp_data['output'])\n",
    "    temp_data.drop('output',axis=1,inplace=True)\n",
    "    temp_data = pd.concat([temp_data, temp_output], axis=1)\n",
    "    dataSets.append(temp_data)\n",
    "# Boston Data\n",
    "b_feat = pd.DataFrame(boston.data)\n",
    "b_feat.columns = ['feat_0','feat_1','feat_2','feat_3','feat_4','feat_5','feat_6','feat_7','feat_8','feat_9','feat_10','feat_11','feat_12']\n",
    "b_target = pd.DataFrame(boston.target)\n",
    "b_target.columns = ['output']\n",
    "b_data = pd.concat([b_feat,b_target],axis=1)\n",
    "dataSets.append(b_data)"
   ]
  },
  {
   "cell_type": "code",
   "execution_count": 4,
   "metadata": {
    "collapsed": true
   },
   "outputs": [],
   "source": [
    "def get_result(model_,data_, frac):\n",
    "    model = clone(model_)\n",
    "    output = data_['output']\n",
    "    data_.drop('output',axis=1,inplace=True)\n",
    "    X_train, X_test, y_train, y_test = train_test_split(data_, output, test_size=frac)\n",
    "    model.fit(X_train,y_train)\n",
    "    test_result = model.predict(X_test)\n",
    "    return mean_squared_error(y_test,test_result), test_result, model"
   ]
  },
  {
   "cell_type": "code",
   "execution_count": 19,
   "metadata": {
    "collapsed": true
   },
   "outputs": [],
   "source": [
    "def get_result_iter(data, N_iterations, frac, models):\n",
    "    #get_result(FS,temp_data)\n",
    "    model_list = []\n",
    "    Result_mses = []\n",
    "    temp_model_perf = []\n",
    "    for i in range(0,len(models)):\n",
    "        model_iter_results = []\n",
    "        for j in range(0,N_iterations):\n",
    "            temp_data = data.copy(deep=True)\n",
    "            temp_rs, temp_pred, model = get_result(models[i],temp_data, frac)\n",
    "            #print model.best_params_\n",
    "            model_iter_results.append(temp_rs)\n",
    "            model_list.append(model)\n",
    "        temp_model_perf.append(model_iter_results)\n",
    "        Result_mses.append(sum(model_iter_results)/len(model_iter_results))\n",
    "    return Result_mses, model_list, temp_model_perf"
   ]
  },
  {
   "cell_type": "code",
   "execution_count": 26,
   "metadata": {
    "collapsed": false
   },
   "outputs": [
    {
     "data": {
      "text/html": [
       "<div>\n",
       "<table border=\"1\" class=\"dataframe\">\n",
       "  <thead>\n",
       "    <tr style=\"text-align: right;\">\n",
       "      <th></th>\n",
       "      <th>FEMPO</th>\n",
       "      <th>BaggingRegressor</th>\n",
       "    </tr>\n",
       "  </thead>\n",
       "  <tbody>\n",
       "    <tr>\n",
       "      <th>Servo</th>\n",
       "      <td>0.245788</td>\n",
       "      <td>0.234097</td>\n",
       "    </tr>\n",
       "    <tr>\n",
       "      <th>Abalone</th>\n",
       "      <td>4.807032</td>\n",
       "      <td>4.987160</td>\n",
       "    </tr>\n",
       "    <tr>\n",
       "      <th>Ozone</th>\n",
       "      <td>19.392978</td>\n",
       "      <td>17.953636</td>\n",
       "    </tr>\n",
       "    <tr>\n",
       "      <th>Boston-housing</th>\n",
       "      <td>11.922778</td>\n",
       "      <td>13.091688</td>\n",
       "    </tr>\n",
       "  </tbody>\n",
       "</table>\n",
       "</div>"
      ],
      "text/plain": [
       "                    FEMPO  BaggingRegressor\n",
       "Servo            0.245788          0.234097\n",
       "Abalone          4.807032          4.987160\n",
       "Ozone           19.392978         17.953636\n",
       "Boston-housing  11.922778         13.091688"
      ]
     },
     "execution_count": 26,
     "metadata": {},
     "output_type": "execute_result"
    }
   ],
   "source": [
    "Res_all_ds = []\n",
    "model_f = []\n",
    "perf_f = []\n",
    "for i in range(0,len(dataSets)):\n",
    "    t_data = dataSets[i].copy(deep=True)\n",
    "    N_iterations = 30\n",
    "    g_frac = 0.10\n",
    "    # Parameters I want to sweep on.\n",
    "    parameters = {\n",
    "        'n_votes': [1,3,5,10],\n",
    "        'init_sample_percentage':[0.2,0.5,1]\n",
    "    }\n",
    "    # Default params\n",
    "    FEMPO = BasicSegmenterEG_FEMPO(**{'cxpb': 0.5,\n",
    " 'indpb': 0.2,\n",
    " 'init_sample_percentage': 0.5,\n",
    " 'mutpb': 0.5,\n",
    " 'n': 10,\n",
    " 'n_population': 20,\n",
    " 'ngen': 10,\n",
    " 'statistics': False,\n",
    "#  'test_size': 0.25,\n",
    " 'tournsize': 3,\n",
    " 'base_estimator': DecisionTreeRegressor(max_depth=5),\n",
    " 'n_votes' : 10\n",
    "})\n",
    "    \n",
    "    #grid_model = RandomizedSearchCV(FS, parameters, verbose=True, scoring=\"mean_squared_error\",n_iter=100)\n",
    "#     grid_model = GridSearchCV(FEMPO, parameters, verbose=True, scoring=\"mean_squared_error\", cv = 3, n_jobs= 1 )\n",
    "    grid_model = FEMPO\n",
    "    g_models = []\n",
    "    g_models.append(grid_model)\n",
    "#     g_models.append(Ba)\n",
    "    g_models.append(BaggingRegressor(max_samples=0.99, bootstrap = True, oob_score = True, \n",
    "                                                  base_estimator = DecisionTreeRegressor(max_depth = 5),\n",
    "                                                 n_estimators = 10))\n",
    "    Result_t, model_list, model_perf = get_result_iter(t_data, N_iterations, g_frac, g_models)\n",
    "    Res_all_ds.append(Result_t)\n",
    "    model_f.append(model_list)\n",
    "    perf_f.append(model_perf)\n",
    "dataSet_names = ['Servo','Abalone','Ozone','Boston-housing']\n",
    "model_names = ['FEMPO', 'BaggingRegressor']\n",
    "Result_test_bench = pd.DataFrame(Res_all_ds)\n",
    "Result_test_bench.columns = model_names\n",
    "Result_test_bench.set_index([dataSet_names],inplace=True)\n",
    "Result_test_bench"
   ]
  },
  {
   "cell_type": "code",
   "execution_count": 27,
   "metadata": {
    "collapsed": false
   },
   "outputs": [
    {
     "data": {
      "text/html": [
       "<div>\n",
       "<table border=\"1\" class=\"dataframe\">\n",
       "  <thead>\n",
       "    <tr style=\"text-align: right;\">\n",
       "      <th></th>\n",
       "      <th>FEMPO</th>\n",
       "    </tr>\n",
       "  </thead>\n",
       "  <tbody>\n",
       "    <tr>\n",
       "      <th>Servo</th>\n",
       "      <td>0.143792</td>\n",
       "    </tr>\n",
       "    <tr>\n",
       "      <th>Abalone</th>\n",
       "      <td>4.872011</td>\n",
       "    </tr>\n",
       "    <tr>\n",
       "      <th>Ozone</th>\n",
       "      <td>18.674435</td>\n",
       "    </tr>\n",
       "    <tr>\n",
       "      <th>Boston-housing</th>\n",
       "      <td>15.642114</td>\n",
       "    </tr>\n",
       "  </tbody>\n",
       "</table>\n",
       "</div>"
      ],
      "text/plain": [
       "                    FEMPO\n",
       "Servo            0.143792\n",
       "Abalone          4.872011\n",
       "Ozone           18.674435\n",
       "Boston-housing  15.642114"
      ]
     },
     "execution_count": 27,
     "metadata": {},
     "output_type": "execute_result"
    }
   ],
   "source": [
    "Result_test_bench"
   ]
  },
  {
   "cell_type": "code",
   "execution_count": 28,
   "metadata": {
    "collapsed": false
   },
   "outputs": [
    {
     "name": "stdout",
     "output_type": "stream",
     "text": [
      "{'n_votes': 10, 'init_sample_percentage': 0.5}\n",
      "{'n_votes': 10, 'init_sample_percentage': 0.5}\n",
      "{'n_votes': 10, 'init_sample_percentage': 0.5}\n",
      "{'n_votes': 5, 'init_sample_percentage': 1}\n"
     ]
    }
   ],
   "source": [
    "for m in model_f:\n",
    "    print m[0].best_params_\n",
    "#     print m"
   ]
  },
  {
   "cell_type": "code",
   "execution_count": 9,
   "metadata": {
    "collapsed": false
   },
   "outputs": [
    {
     "data": {
      "text/plain": [
       "[GridSearchCV(cv=3, error_score='raise',\n",
       "        estimator=BasicSegmenterEG_FEMPO(base_estimator=LinearRegression(copy_X=True, fit_intercept=True, n_jobs=1, normalize=False),\n",
       "             crossover_func=<function cxTwoPoint at 0x107C1DF0>, cxpb=0.5,\n",
       "             indpb=0.2, init_sample_percentage=0.2, mutpb=0.5, n=10,\n",
       "             n_population=20, n_votes=1, ngen=10, statistics=False,\n",
       "             test_size=0.2, tournsize=3),\n",
       "        fit_params={}, iid=True, loss_func=None, n_jobs=1,\n",
       "        param_grid={'n_votes': [1, 3, 5, 10], 'init_sample_percentage': [0.2, 0.5, 1]},\n",
       "        pre_dispatch='2*n_jobs', refit=True, score_func=None,\n",
       "        scoring='mean_squared_error', verbose=True)]"
      ]
     },
     "execution_count": 9,
     "metadata": {},
     "output_type": "execute_result"
    }
   ],
   "source": []
  },
  {
   "cell_type": "code",
   "execution_count": 27,
   "metadata": {
    "collapsed": false
   },
   "outputs": [],
   "source": [
    "p= pd.DataFrame(perf_f)"
   ]
  },
  {
   "cell_type": "code",
   "execution_count": 16,
   "metadata": {
    "collapsed": false
   },
   "outputs": [
    {
     "data": {
      "text/plain": [
       "[11.819631267188088, 15.347409004815104]"
      ]
     },
     "execution_count": 16,
     "metadata": {},
     "output_type": "execute_result"
    }
   ],
   "source": [
    "model_perf"
   ]
  },
  {
   "cell_type": "code",
   "execution_count": 34,
   "metadata": {
    "collapsed": false
   },
   "outputs": [
    {
     "data": {
      "text/plain": [
       "(array([ 1.,  4.,  4.,  8.,  3.,  2.,  2.,  1.,  3.,  2.]),\n",
       " array([  4.37257937,   6.0605365 ,   7.74849364,   9.43645078,\n",
       "         11.12440792,  12.81236506,  14.5003222 ,  16.18827934,\n",
       "         17.87623648,  19.56419362,  21.25215076]),\n",
       " <a list of 10 Patch objects>)"
      ]
     },
     "execution_count": 34,
     "metadata": {},
     "output_type": "execute_result"
    },
    {
     "data": {
      "image/png": "[encoded data removed]",
      "text/plain": [
       "<matplotlib.figure.Figure at 0x2330f890>"
      ]
     },
     "metadata": {},
     "output_type": "display_data"
    }
   ],
   "source": [
    "import matplotlib.pyplot as plt\n",
    "%matplotlib inline\n",
    "plt.hist(p.iloc[3][0])"
   ]
  },
  {
   "cell_type": "code",
   "execution_count": 35,
   "metadata": {
    "collapsed": false
   },
   "outputs": [
    {
     "data": {
      "text/plain": [
       "(array([ 6.,  8.,  5.,  2.,  2.,  1.,  1.,  2.,  2.,  1.]),\n",
       " array([  5.15293162,   7.55897823,   9.96502485,  12.37107146,\n",
       "         14.77711808,  17.18316469,  19.5892113 ,  21.99525792,\n",
       "         24.40130453,  26.80735115,  29.21339776]),\n",
       " <a list of 10 Patch objects>)"
      ]
     },
     "execution_count": 35,
     "metadata": {},
     "output_type": "execute_result"
    },
    {
     "data": {
      "image/png": "[encoded data removed]",
      "text/plain": [
       "<matplotlib.figure.Figure at 0x15b46cd0>"
      ]
     },
     "metadata": {},
     "output_type": "display_data"
    }
   ],
   "source": [
    "plt.hist(p.iloc[3][1])"
   ]
  },
  {
   "cell_type": "code",
   "execution_count": null,
   "metadata": {
    "collapsed": true
   },
   "outputs": [],
   "source": []
  }
 ],
 "metadata": {
  "kernelspec": {
   "display_name": "Python 2",
   "language": "python",
   "name": "python2"
  },
  "language_info": {
   "codemirror_mode": {
    "name": "ipython",
    "version": 2
   },
   "file_extension": ".py",
   "mimetype": "text/x-python",
   "name": "python",
   "nbconvert_exporter": "python",
   "pygments_lexer": "ipython2",
   "version": "2.7.9"
  }
 },
 "nbformat": 4,
 "nbformat_minor": 0
}
