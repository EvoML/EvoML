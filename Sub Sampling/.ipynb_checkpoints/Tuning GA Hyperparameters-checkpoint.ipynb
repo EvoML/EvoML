{
 "cells": [
  {
   "cell_type": "code",
   "execution_count": 36,
   "metadata": {
    "collapsed": true
   },
   "outputs": [],
   "source": [
    "from auto_segment_EG import BasicSegmenterEG\n",
    "from sklearn.grid_search import GridSearchCV, RandomizedSearchCV\n",
    "from sklearn.svm import SVR\n",
    "import pandas as pd\n",
    "from sklearn.cross_validation import train_test_split\n",
    "import numpy as np\n",
    "from sklearn.metrics import mean_squared_error\n",
    "from sklearn.tree import DecisionTreeRegressor\n",
    "from sklearn.linear_model import LinearRegression"
   ]
  },
  {
   "cell_type": "code",
   "execution_count": 45,
   "metadata": {
    "collapsed": false
   },
   "outputs": [
    {
     "data": {
      "text/plain": [
       "<module 'auto_segment_EG' from 'auto_segment_EG.py'>"
      ]
     },
     "execution_count": 45,
     "metadata": {},
     "output_type": "execute_result"
    }
   ],
   "source": [
    "import auto_segment_EG\n",
    "reload(auto_segment_EG)"
   ]
  },
  {
   "cell_type": "code",
   "execution_count": 39,
   "metadata": {
    "collapsed": false
   },
   "outputs": [],
   "source": [
    "mdl = auto_segment_EG.BasicSegmenterEG()"
   ]
  },
  {
   "cell_type": "code",
   "execution_count": 41,
   "metadata": {
    "collapsed": false
   },
   "outputs": [],
   "source": [
    "mdl = mdl.set_params(**{'cxpb': 0.5,\n",
    " 'indpb': 0.2,\n",
    " 'init_sample_percentage': None,\n",
    " 'mutpb': 0.5,\n",
    " 'n': 10,\n",
    " 'n_population': 20,\n",
    " 'ngen': 10,\n",
    "#  'statistics': True,\n",
    " 'test_size': 0.25,\n",
    " 'tournsize': 3,\n",
    " 'base_estimator': LinearRegression(),\n",
    " 'n_votes' : 10\n",
    "                 })"
   ]
  },
  {
   "cell_type": "code",
   "execution_count": 33,
   "metadata": {
    "collapsed": true
   },
   "outputs": [],
   "source": [
    "grid = {\n",
    "#  'indpb':[0.1, 0.3, 0.5, 0.7],\n",
    "#  'init_sample_percentage': [ 0.1, 0.3, 0.5, 0.7, 0.9],\n",
    " 'n_votes': [1,3,5,7,9],\n",
    "    'n' : [3,5, 20, 30]\n",
    " }"
   ]
  },
  {
   "cell_type": "code",
   "execution_count": 34,
   "metadata": {
    "collapsed": false
   },
   "outputs": [],
   "source": [
    "# mdl = BasicSegmenterEG()\n",
    "clf = RandomizedSearchCV(mdl, grid, scoring = 'mean_squared_error', verbose=True, cv = 2, n_iter=30)\n",
    "# RandomizedSearchCV?"
   ]
  },
  {
   "cell_type": "code",
   "execution_count": 42,
   "metadata": {
    "collapsed": false
   },
   "outputs": [],
   "source": [
    "df = pd.read_csv('ameo_numerical.csv')\n",
    "x_columns = list(set(df.columns) - set(['Salary']) - set(['Degree_M.Sc. (Tech.)']))\n",
    "y_column = 'Salary'\n",
    "X = df[x_columns]\n",
    "y = df[y_column]\n",
    "\n",
    "X_train, X_test, y_train, y_test = train_test_split(X, y, test_size=0.2, random_state = 42)"
   ]
  },
  {
   "cell_type": "code",
   "execution_count": 36,
   "metadata": {
    "collapsed": false
   },
   "outputs": [
    {
     "name": "stderr",
     "output_type": "stream",
     "text": [
      "[Parallel(n_jobs=1)]: Done   1 jobs       | elapsed:   24.9s\n",
      "[Parallel(n_jobs=1)]: Done  50 jobs       | elapsed: 24.8min\n"
     ]
    },
    {
     "name": "stdout",
     "output_type": "stream",
     "text": [
      "RandomizedSearchCV(cv=2, error_score='raise',\n",
      "          estimator=BasicSegmenterEG(base_estimator=LinearRegression(copy_X=True, fit_intercept=True, n_jobs=1, normalize=False),\n",
      "         crossover_func=<function cxTwoPoint at 0x10E4C8B0>, cxpb=0.5,\n",
      "         indpb=0.2, init_sample_percentage=0.2, mutpb=0.5, n=10,\n",
      "         n_population=20, n_votes=1, ngen=10, statistics=None,\n",
      "         test_size=0.25, tournsize=3),\n",
      "          fit_params={}, iid=True, n_iter=30, n_jobs=1,\n",
      "          param_distributions={'n_votes': [1, 3, 5, 7, 9], 'init_sample_percentage': [0.1, 0.3, 0.5, 0.7, 0.9], 'n': [3, 5, 20, 30]},\n",
      "          pre_dispatch='2*n_jobs', random_state=None, refit=True,\n",
      "          scoring='mean_squared_error', verbose=True)\n",
      "Fitting 2 folds for each of 30 candidates, totalling 60 fits\n"
     ]
    },
    {
     "name": "stderr",
     "output_type": "stream",
     "text": [
      "[Parallel(n_jobs=1)]: Done  60 out of  60 | elapsed: 28.5min finished\n"
     ]
    },
    {
     "data": {
      "text/plain": [
       "RandomizedSearchCV(cv=2, error_score='raise',\n",
       "          estimator=BasicSegmenterEG(base_estimator=LinearRegression(copy_X=True, fit_intercept=True, n_jobs=1, normalize=False),\n",
       "         crossover_func=<function cxTwoPoint at 0x10E4C8B0>, cxpb=0.5,\n",
       "         indpb=0.2, init_sample_percentage=0.2, mutpb=0.5, n=10,\n",
       "         n_population=20, n_votes=1, ngen=10, statistics=None,\n",
       "         test_size=0.25, tournsize=3),\n",
       "          fit_params={}, iid=True, n_iter=30, n_jobs=1,\n",
       "          param_distributions={'n_votes': [1, 3, 5, 7, 9], 'init_sample_percentage': [0.1, 0.3, 0.5, 0.7, 0.9], 'n': [3, 5, 20, 30]},\n",
       "          pre_dispatch='2*n_jobs', random_state=None, refit=True,\n",
       "          scoring='mean_squared_error', verbose=True)"
      ]
     },
     "execution_count": 36,
     "metadata": {},
     "output_type": "execute_result"
    }
   ],
   "source": [
    "print clf\n",
    "clf.fit(X, y)"
   ]
  },
  {
   "cell_type": "code",
   "execution_count": 25,
   "metadata": {
    "collapsed": false
   },
   "outputs": [
    {
     "data": {
      "text/plain": [
       "1"
      ]
     },
     "execution_count": 25,
     "metadata": {},
     "output_type": "execute_result"
    }
   ],
   "source": [
    "clf.best_score_\n",
    "from sklearn.metrics import mean_squared_error\n",
    "clf.best_estimator_.score(X, y)\n",
    "import numpy as np\n",
    "np.sqrt(mean_squared_error(clf.best_estimator_.predict(X), y))\n",
    "clf.best_estimator_.n_votes"
   ]
  },
  {
   "cell_type": "code",
   "execution_count": 51,
   "metadata": {
    "collapsed": false
   },
   "outputs": [],
   "source": [
    "def ameo_leaderboard(estimator):\n",
    "    global x_columns, y_column\n",
    "    unseen = pd.read_csv('ameo_numerical_test.csv')\n",
    "    unseen.Domain = unseen.Domain.fillna(unseen.Domain.mean())\n",
    "\n",
    "    unseen_x = unseen[x_columns]\n",
    "\n",
    "    # shady\n",
    "#     unseen_x = (unseen_x - df[x_columns].mean())/df[x_columns].std()\n",
    "\n",
    "\n",
    "    submission = pd.DataFrame()\n",
    "    submission['ID'] = unseen.ID\n",
    "#     print unseen.ID\n",
    "#     print x_columns\n",
    "    preds =  estimator.predict(unseen_x)\n",
    "#     print preds\n",
    "    submission['Salary'] = preds\n",
    "    return submission"
   ]
  },
  {
   "cell_type": "code",
   "execution_count": 98,
   "metadata": {
    "collapsed": false
   },
   "outputs": [
    {
     "data": {
      "text/plain": [
       "198799.06729555002"
      ]
     },
     "execution_count": 98,
     "metadata": {},
     "output_type": "execute_result"
    }
   ],
   "source": [
    "# sub = pd.read_clipboard()\n",
    "sub = ameo_leaderboard(nmdl)\n",
    "# print sub\n",
    "# sub.to_csv('gridcv_mdl_ngen_30.csv', index=False)\n",
    "bench = pd.merge(unseen_true, sub, on='ID', how='left')\n",
    "np.sqrt(mean_squared_error(bench.Salary_x, bench.Salary_y))"
   ]
  },
  {
   "cell_type": "code",
   "execution_count": 100,
   "metadata": {
    "collapsed": false
   },
   "outputs": [
    {
     "data": {
      "text/plain": [
       "198931.52164921537"
      ]
     },
     "execution_count": 100,
     "metadata": {},
     "output_type": "execute_result"
    }
   ],
   "source": [
    "# sub = pd.read_clipboard()\n",
    "sub = ameo_leaderboard(nmdl2)\n",
    "# print sub\n",
    "# sub.to_csv('gridcv_mdl_ngen_30.csv', index=False)\n",
    "bench = pd.merge(unseen_true, sub, on='ID', how='left')\n",
    "np.sqrt(mean_squared_error(bench.Salary_x, bench.Salary_y))"
   ]
  },
  {
   "cell_type": "code",
   "execution_count": 151,
   "metadata": {
    "collapsed": false
   },
   "outputs": [
    {
     "data": {
      "text/plain": [
       "array([0, 1], dtype=int64)"
      ]
     },
     "execution_count": 151,
     "metadata": {},
     "output_type": "execute_result"
    }
   ],
   "source": [
    "X['Degree_M.Sc. (Tech.)'].unique()"
   ]
  },
  {
   "cell_type": "code",
   "execution_count": 154,
   "metadata": {
    "collapsed": false
   },
   "outputs": [
    {
     "data": {
      "text/plain": [
       "array([ True,  True,  True], dtype=bool)"
      ]
     },
     "execution_count": 154,
     "metadata": {},
     "output_type": "execute_result"
    }
   ],
   "source": [
    "pd.np.isfinite([0,0,0])"
   ]
  },
  {
   "cell_type": "code",
   "execution_count": 62,
   "metadata": {
    "collapsed": false
   },
   "outputs": [],
   "source": [
    "best_params = clf.best_estimator_.get_params()"
   ]
  },
  {
   "cell_type": "code",
   "execution_count": 105,
   "metadata": {
    "collapsed": false
   },
   "outputs": [],
   "source": [
    "nmdl = auto_segment_EG.BasicSegmenterEG()\n",
    "nmdl.set_params(**{'cxpb': 0.5,\n",
    " 'indpb': 0.2,\n",
    " 'init_sample_percentage': 1,\n",
    " 'mutpb': 0.5,\n",
    " 'n': 10,\n",
    " 'n_population': 20,\n",
    " 'ngen': 1000,\n",
    " 'statistics': True,\n",
    " 'test_size': 0.25,\n",
    " 'tournsize': 3,\n",
    " 'base_estimator': LinearRegression(),\n",
    " 'n_votes' : 10})\n",
    "# nmdl.ngen = 200\n",
    "nmdl.statistics = True"
   ]
  },
  {
   "cell_type": "code",
   "execution_count": 63,
   "metadata": {
    "collapsed": false
   },
   "outputs": [],
   "source": [
    "from sklearn.ensemble import BaggingRegressor\n",
    "# nmdl.base_estimator\n",
    "Perceptron?"
   ]
  },
  {
   "cell_type": "code",
   "execution_count": null,
   "metadata": {
    "collapsed": false
   },
   "outputs": [
    {
     "name": "stdout",
     "output_type": "stream",
     "text": [
      "gen\tnevals\tavg        \tstd        \tmin   \tmax        \n",
      "0  \t20    \t5.83722e+16\t1.22009e+17\t216340\t5.77057e+17\n",
      "1  \t12    \t2.12261e+16\t1.94969e+16\t216305\t6.08964e+16\n",
      "2  \t15    \t8.89397e+15\t2.09404e+16\t215749\t7.92368e+16\n",
      "3  \t15    \t1.77777e+15\t6.29302e+15\t215437\t2.83408e+16\n",
      "4  \t10    \t2.01333e+15\t8.77592e+15\t215397\t4.02667e+16\n",
      "5  \t16    \t4.35663e+15\t1.59984e+16\t215347\t7.35673e+16\n",
      "6  \t13    \t2.61888e+15\t9.49766e+15\t215384\t4.30644e+16\n",
      "7  \t16    \t4.70175e+15\t1.27974e+16\t215347\t5.28347e+16\n",
      "8  \t15    \t2.4906e+15 \t9.68166e+15\t214912\t4.43756e+16\n",
      "9  \t16    \t5.53038e+15\t1.03473e+16\t215041\t3.21322e+16\n",
      "10 \t18    \t1.03511e+16\t2.01257e+16\t214926\t7.81107e+16\n",
      "11 \t15    \t2.2201e+15 \t6.76318e+15\t214926\t2.5917e+16 \n",
      "12 \t12    \t3.40631e+15\t1.12006e+16\t214862\t4.85634e+16\n",
      "13 \t16    \t9.7128e+15 \t1.8945e+16 \t214820\t6.40284e+16\n",
      "14 \t15    \t3.84389e+15\t1.09305e+16\t214820\t4.74529e+16\n",
      "15 \t17    \t4.32732e+15\t1.30498e+16\t214496\t4.91687e+16\n",
      "16 \t17    \t3.60383e+14\t1.57087e+15\t214248\t7.20766e+15\n",
      "17 \t12    \t7.32355e+15\t1.85018e+16\t214248\t7.10874e+16\n",
      "18 \t18    \t8.20509e+15\t1.67115e+16\t213857\t6.66367e+16\n",
      "19 \t15    \t8.108e+15  \t1.45385e+16\t213833\t4.5151e+16 \n",
      "20 \t15    \t2.73404e+14\t1.19174e+15\t213833\t5.46807e+15\n",
      "21 \t14    \t9.27337e+15\t3.10548e+16\t213810\t1.36373e+17\n",
      "22 \t16    \t1.27518e+16\t2.93596e+16\t213764\t1.20237e+17\n",
      "23 \t16    \t2.9722e+15 \t9.45615e+15\t213694\t4.12601e+16\n",
      "24 \t15    \t1.66754e+15\t7.26863e+15\t213694\t3.33507e+16\n",
      "25 \t16    \t4.61134e+15\t1.2624e+16 \t213686\t4.30371e+16\n",
      "26 \t11    \t2.08412e+15\t9.08448e+15\t213615\t4.16824e+16\n",
      "27 \t18    \t7.56771e+15\t2.3324e+16 \t213442\t9.94322e+16\n",
      "28 \t13    \t2.04102e+15\t8.89662e+15\t213411\t4.08205e+16\n",
      "29 \t14    \t5.38642e+15\t1.38589e+16\t213411\t5.47031e+16\n",
      "30 \t15    \t5.42411e+15\t1.46067e+16\t213411\t5.97428e+16\n",
      "31 \t18    \t1.32673e+16\t2.29534e+16\t213411\t9.03944e+16\n",
      "32 \t10    \t1.84037e+15\t6.92736e+15\t213411\t3.16346e+16\n",
      "33 \t14    \t1.62927e+16\t6.20863e+16\t213408\t2.85579e+17\n",
      "34 \t14    \t3.49359e+15\t1.36071e+16\t213220\t6.23779e+16\n",
      "35 \t13    \t1.49299e+16\t6.50779e+16\t213220\t2.98598e+17\n",
      "36 \t14    \t7.53559e+14\t3.28469e+15\t213071\t1.50712e+16\n",
      "37 \t11    \t6.40182e+15\t2.16487e+16\t213138\t9.92091e+16\n",
      "38 \t16    \t9.48275e+15\t2.44322e+16\t213138\t1.06553e+17\n",
      "39 \t16    \t3.83181e+15\t1.61753e+16\t213110\t7.43034e+16\n",
      "40 \t15    \t2.82415e+15\t1.04221e+16\t213062\t4.74348e+16\n",
      "41 \t13    \t3.133e+15  \t1.36564e+16\t212977\t6.266e+16  \n",
      "42 \t14    \t3.73543e+15\t9.04758e+15\t212963\t3.28366e+16\n",
      "43 \t12    \t4.22637e+15\t1.84223e+16\t212768\t8.45275e+16\n",
      "44 \t12    \t1.36726e+15\t4.0279e+15 \t212737\t1.50006e+16\n",
      "45 \t15    \t2.23266e+15\t9.73196e+15\t212737\t4.46533e+16\n",
      "46 \t10    \t3.66236e+15\t1.10564e+16\t212751\t4.22211e+16\n",
      "47 \t13    \t1.18934e+14\t5.18421e+14\t212737\t2.37868e+15\n",
      "48 \t15    \t1.70859e+15\t4.81024e+15\t212722\t2.0645e+16 \n",
      "49 \t18    \t8.74142e+15\t2.07588e+16\t212690\t7.41838e+16\n",
      "50 \t15    \t1.2938e+14 \t5.63955e+14\t212665\t2.5876e+15 \n",
      "51 \t14    \t5.48216e+15\t1.72339e+16\t212644\t7.11064e+16\n",
      "52 \t13    \t2.51349e+15\t8.45357e+15\t212591\t3.85368e+16\n",
      "53 \t13    \t2.13601e+15\t5.19263e+15\t212487\t1.77581e+16\n",
      "54 \t15    \t4.20078e+15\t1.25358e+16\t212487\t5.48835e+16\n",
      "55 \t15    \t1.90536e+15\t6.61897e+15\t212375\t2.96069e+16\n",
      "56 \t14    \t4.96111e+15\t1.59081e+16\t212370\t7.19052e+16\n",
      "57 \t16    \t4.60021e+15\t1.39677e+16\t212370\t6.21099e+16\n",
      "58 \t16    \t9.65275e+15\t2.70756e+16\t212370\t1.20439e+17\n",
      "59 \t16    \t1.25304e+15\t3.78755e+15\t212345\t1.39953e+16\n",
      "60 \t14    \t9.03397e+15\t2.13493e+16\t212351\t9.25981e+16\n",
      "61 \t17    \t7.23926e+15\t1.33239e+16\t212237\t5.13049e+16\n",
      "62 \t13    \t7.78216e+15\t1.90399e+16\t212237\t7.82059e+16\n",
      "63 \t14    \t5.50638e+15\t1.65213e+16\t212228\t5.59072e+16\n",
      "64 \t17    \t6.4563e+15 \t1.54886e+16\t212175\t4.99992e+16\n",
      "65 \t13    \t5.6238e+15 \t1.3019e+16 \t212186\t4.21435e+16\n",
      "66 \t13    \t8.73812e+14\t2.09374e+15\t212173\t6.57505e+15\n",
      "67 \t19    \t6.39289e+15\t1.82892e+16\t212152\t7.80371e+16\n",
      "68 \t14    \t6.66241e+15\t2.00417e+16\t212173\t7.91021e+16\n",
      "69 \t15    \t1.14866e+16\t2.63173e+16\t212138\t1.15242e+17\n",
      "70 \t15    \t3.79208e+15\t9.92914e+15\t212147\t3.88677e+16\n",
      "71 \t14    \t5.62165e+15\t1.42917e+16\t212147\t6.22459e+16\n",
      "72 \t15    \t1.09221e+14\t4.76084e+14\t212133\t2.18442e+15\n",
      "73 \t12    \t212183     \t59.9953    \t212077\t212387     \n",
      "74 \t19    \t1.07955e+16\t2.72355e+16\t212006\t1.17823e+17\n",
      "75 \t12    \t2.74783e+15\t1.19775e+16\t212006\t5.49566e+16\n",
      "76 \t14    \t1.59486e+15\t5.12169e+15\t212001\t2.17275e+16\n",
      "77 \t12    \t7.52803e+15\t2.17985e+16\t212000\t8.88852e+16\n",
      "78 \t15    \t7.03631e+15\t2.18668e+16\t211944\t9.82381e+16\n",
      "79 \t14    \t7.52458e+15\t1.3205e+16 \t212000\t4.65121e+16\n",
      "80 \t16    \t5.39445e+15\t1.26484e+16\t211903\t4.52803e+16\n",
      "81 \t17    \t6.46733e+15\t1.75204e+16\t211903\t5.85543e+16\n",
      "82 \t17    \t8.60371e+15\t2.14767e+16\t211884\t8.8494e+16 \n",
      "83 \t15    \t2.57728e+15\t6.85641e+15\t211887\t3.07719e+16\n",
      "84 \t15    \t8.67704e+15\t3.78224e+16\t211887\t1.73541e+17\n",
      "85 \t14    \t1.25641e+16\t3.19074e+16\t211884\t1.25338e+17\n",
      "86 \t12    \t1.39736e+16\t2.78286e+16\t211884\t9.12878e+16\n",
      "87 \t11    \t3.46595e+15\t1.51077e+16\t211869\t6.93189e+16\n",
      "88 \t17    \t6.89183e+15\t1.17837e+16\t211869\t3.46013e+16\n",
      "89 \t14    \t7.7235e+14 \t2.33641e+15\t211830\t8.6727e+15 \n",
      "90 \t18    \t9.68268e+15\t1.90958e+16\t211750\t7.00363e+16\n",
      "91 \t17    \t1.47141e+16\t3.39193e+16\t211739\t1.35879e+17\n",
      "92 \t15    \t5.57833e+15\t1.28669e+16\t211669\t4.34127e+16\n",
      "93 \t16    \t7.21736e+15\t1.5628e+16 \t211669\t5.03201e+16\n",
      "94 \t14    \t7.13497e+15\t1.59512e+16\t211604\t5.27434e+16\n",
      "95 \t16    \t8.31439e+15\t1.93325e+16\t211604\t7.81824e+16\n",
      "96 \t16    \t5.78659e+15\t1.7361e+16 \t211520\t7.86439e+16\n",
      "97 \t19    \t5.65682e+15\t1.17886e+16\t211520\t4.16667e+16\n",
      "98 \t13    \t7.88849e+15\t1.73389e+16\t211453\t5.94875e+16\n",
      "99 \t16    \t8.36778e+15\t1.84116e+16\t211390\t7.03713e+16\n",
      "100\t14    \t8.65397e+15\t2.20272e+16\t211375\t8.30049e+16\n",
      "101\t17    \t3.78015e+15\t9.37048e+15\t211379\t3.12339e+16\n",
      "102\t14    \t8.19345e+15\t1.78876e+16\t211381\t5.99219e+16\n",
      "103\t15    \t6.2256e+15 \t1.44831e+16\t211326\t5.59625e+16\n",
      "104\t15    \t9.52327e+15\t2.45978e+16\t211264\t8.81364e+16\n",
      "105\t14    \t8.47582e+15\t3.2941e+16 \t211323\t1.50996e+17\n",
      "106\t17    \t1.76047e+16\t4.42192e+16\t211323\t1.87651e+17\n",
      "107\t15    \t1.47806e+16\t4.41062e+16\t211292\t2.01338e+17\n",
      "108\t16    \t5.0749e+15 \t1.6445e+16 \t211271\t7.04073e+16\n",
      "109\t18    \t2.30707e+15\t7.22147e+15\t211234\t3.1512e+16 \n",
      "110\t17    \t4.47688e+15\t1.10127e+16\t211214\t4.63801e+16\n",
      "111\t17    \t6.1234e+15 \t1.44012e+16\t211214\t5.55223e+16\n",
      "112\t14    \t6.89888e+15\t2.44283e+16\t211126\t1.10024e+17\n",
      "113\t8     \t1.65405e+15\t5.14423e+15\t211126\t2.08303e+16\n",
      "114\t13    \t3.07703e+15\t9.27313e+15\t211126\t3.35592e+16\n",
      "115\t15    \t1.38965e+16\t3.88805e+16\t211126\t1.71794e+17\n",
      "116\t15    \t5.01845e+15\t1.45908e+16\t211126\t5.3523e+16 \n",
      "117\t12    \t3.42864e+16\t8.57502e+16\t211126\t3.47482e+17\n",
      "118\t15    \t1.44572e+16\t3.40381e+16\t211126\t1.03588e+17\n",
      "119\t16    \t1.30905e+16\t4.384e+16  \t211117\t1.99908e+17\n",
      "120\t16    \t1.21556e+16\t1.95537e+16\t211117\t5.80515e+16\n",
      "121\t18    \t1.45767e+16\t3.9679e+16 \t211117\t1.79318e+17\n",
      "122\t14    \t9.85944e+15\t2.26117e+16\t211126\t8.17553e+16\n",
      "123\t19    \t1.19223e+16\t2.73262e+16\t211117\t8.7634e+16 \n",
      "124\t16    \t8.12638e+15\t2.75731e+16\t211072\t1.26896e+17\n",
      "125\t14    \t5.4165e+15 \t1.72237e+16\t211072\t7.22227e+16\n",
      "126\t12    \t8.55617e+15\t2.47153e+16\t211072\t1.07898e+17\n",
      "127\t18    \t5.48145e+15\t1.25721e+16\t211072\t4.65687e+16\n",
      "128\t18    \t2.00919e+16\t3.89929e+16\t211021\t1.604e+17  \n",
      "129\t15    \t3.25108e+15\t1.06655e+16\t210968\t4.61588e+16\n",
      "130\t15    \t6.0206e+15 \t1.99437e+16\t210924\t9.06782e+16\n",
      "131\t16    \t2.95335e+15\t9.62565e+15\t210924\t4.14299e+16\n",
      "132\t17    \t6.7373e+15 \t1.55149e+16\t210913\t4.5837e+16 \n",
      "133\t18    \t6.56866e+15\t2.5278e+16 \t210771\t1.16315e+17\n",
      "134\t13    \t8.34021e+15\t1.83572e+16\t210771\t6.86287e+16\n",
      "135\t16    \t6.71602e+15\t1.48612e+16\t210771\t6.07191e+16\n",
      "136\t17    \t1.8301e+16 \t5.26932e+16\t210771\t2.42145e+17\n",
      "137\t11    \t7.48842e+15\t2.63141e+16\t210714\t1.18214e+17\n",
      "138\t11    \t1.55509e+16\t3.89122e+16\t210714\t1.69732e+17\n",
      "139\t15    \t2.40274e+16\t4.34688e+16\t210714\t1.69732e+17\n",
      "140\t15    \t1.37541e+16\t2.61587e+16\t210714\t1.01049e+17\n",
      "141\t15    \t1.27225e+16\t2.14785e+16\t210714\t7.12724e+16\n",
      "142\t18    \t1.65504e+16\t2.74991e+16\t210636\t9.3509e+16 \n",
      "143\t16    \t1.1795e+16 \t2.14544e+16\t210636\t6.78348e+16\n",
      "144\t11    \t9.11884e+15\t3.18723e+16\t210636\t1.42905e+17\n",
      "145\t11    \t6.26535e+15\t1.88351e+16\t210712\t8.37321e+16\n",
      "146\t13    \t3.86403e+15\t1.68429e+16\t210700\t7.72806e+16\n",
      "147\t16    \t6.27446e+15\t1.45952e+16\t210700\t5.95361e+16\n",
      "148\t13    \t2.79969e+15\t7.62461e+15\t210609\t3.08589e+16\n",
      "149\t16    \t5.98372e+15\t1.79884e+16\t210691\t7.83334e+16\n",
      "150\t14    \t3.30204e+15\t1.31997e+16\t210674\t6.06068e+16\n",
      "151\t13    \t7.76373e+15\t2.34549e+16\t210674\t8.63852e+16\n",
      "152\t12    \t4.87173e+15\t1.56583e+16\t210589\t6.64876e+16\n",
      "153\t16    \t2.30551e+15\t9.66488e+15\t210589\t4.44026e+16\n",
      "154\t18    \t1.39661e+16\t4.03273e+16\t210513\t1.64201e+17\n",
      "155\t15    \t1.53973e+16\t3.14387e+16\t210463\t9.5639e+16 \n",
      "156\t13    \t1.4942e+16 \t3.34937e+16\t210448\t1.37433e+17\n",
      "157\t14    \t1.85945e+15\t6.70673e+15\t210448\t3.04434e+16\n",
      "158\t13    \t1.01353e+16\t2.88842e+16\t210448\t1.26906e+17\n",
      "159\t16    \t3.24312e+15\t7.81681e+15\t210448\t2.5845e+16 \n",
      "160\t15    \t6.46981e+15\t1.59207e+16\t210435\t5.63612e+16\n",
      "161\t15    \t4.23553e+15\t1.45497e+16\t210443\t6.47688e+16\n",
      "162\t15    \t8.43523e+14\t3.67683e+15\t210342\t1.68705e+16\n",
      "163\t12    \t4.77551e+15\t1.62965e+16\t210342\t7.23164e+16\n",
      "164\t12    \t4.95726e+15\t1.74822e+16\t210342\t7.86344e+16\n",
      "165\t13    \t2.33648e+16\t6.01704e+16\t210342\t2.60652e+17\n",
      "166\t15    \t1.32834e+16\t2.93961e+16\t210342\t1.19377e+17\n",
      "167\t17    \t4.86214e+15\t1.55877e+16\t210337\t6.60033e+16\n",
      "168\t10    \t1.63445e+16\t4.19894e+16\t210297\t1.46944e+17\n",
      "169\t13    \t1.56612e+16\t3.44422e+16\t210297\t1.44835e+17\n",
      "170\t13    \t9.16095e+15\t2.35434e+16\t210297\t9.24523e+16\n",
      "171\t17    \t2.97868e+16\t6.4004e+16 \t210263\t2.68588e+17\n",
      "172\t14    \t6.81415e+15\t2.07817e+16\t210263\t7.99681e+16\n",
      "173\t16    \t2.11511e+16\t3.85058e+16\t210259\t1.29355e+17\n",
      "174\t15    \t2.53644e+16\t6.74077e+16\t210253\t2.42838e+17\n",
      "175\t11    \t1.98367e+16\t4.62193e+16\t210253\t2.04885e+17\n",
      "176\t13    \t1.02924e+16\t1.90812e+16\t210237\t6.46954e+16\n",
      "177\t15    \t8.57984e+15\t2.61642e+16\t210184\t1.00645e+17\n",
      "178\t19    \t5.41692e+15\t1.62977e+16\t210176\t5.80793e+16\n",
      "179\t15    \t1.22929e+16\t3.24313e+16\t210101\t1.40543e+17\n",
      "180\t14    \t7.97222e+15\t2.43667e+16\t210157\t9.91633e+16\n",
      "181\t11    \t6.80376e+15\t1.70554e+16\t210140\t7.36474e+16\n",
      "182\t14    \t1.77228e+16\t3.62906e+16\t210126\t1.12354e+17\n",
      "183\t19    \t1.37417e+16\t3.00651e+16\t210041\t1.02802e+17\n",
      "184\t14    \t1.13536e+16\t2.67452e+16\t210037\t1.079e+17  \n",
      "185\t13    \t2.68616e+16\t5.07908e+16\t210037\t2.01214e+17\n",
      "186\t16    \t1.2148e+16 \t3.19114e+16\t210037\t1.417e+17  \n",
      "187\t16    \t1.82757e+16\t5.11051e+16\t210037\t2.32173e+17\n",
      "188\t17    \t7.50497e+15\t2.13094e+16\t210025\t8.07989e+16\n",
      "189\t12    \t1.63489e+16\t3.33566e+16\t210025\t1.17156e+17\n",
      "190\t17    \t9.30405e+15\t2.23453e+16\t210025\t7.21426e+16\n",
      "191\t17    \t1.88608e+16\t5.66212e+16\t210025\t1.95225e+17\n",
      "192\t13    \t1.50016e+16\t3.62025e+16\t210025\t1.47914e+17\n",
      "193\t15    \t1.12893e+16\t2.28166e+16\t210013\t7.97644e+16\n",
      "194\t15    \t4.28706e+15\t1.51955e+16\t209926\t6.84623e+16\n",
      "195\t16    \t7.62076e+15\t1.86584e+16\t209944\t7.86348e+16\n",
      "196\t14    \t5.55866e+15\t1.11435e+16\t209981\t3.21389e+16\n",
      "197\t16    \t1.65762e+16\t4.03048e+16\t209981\t1.80292e+17\n",
      "198\t16    \t2.48248e+15\t1.07176e+16\t209951\t4.91974e+16\n",
      "199\t13    \t5.67811e+15\t1.87028e+16\t209950\t8.11994e+16\n",
      "200\t16    \t2.9991e+16 \t6.52601e+16\t209916\t2.56906e+17\n",
      "201\t18    \t2.79749e+16\t4.76574e+16\t209916\t1.42037e+17\n",
      "202\t15    \t1.07356e+16\t2.86284e+16\t209916\t1.13889e+17\n",
      "203\t12    \t1.49766e+16\t3.02863e+16\t209823\t1.15699e+17\n",
      "204\t15    \t2.56117e+16\t6.27255e+16\t209823\t2.66225e+17\n",
      "205\t19    \t3.05428e+16\t5.5877e+16 \t209823\t1.92042e+17\n",
      "206\t15    \t1.83911e+16\t4.75676e+16\t209823\t1.85227e+17\n",
      "207\t13    \t3.45299e+15\t1.30876e+16\t209733\t5.98235e+16\n",
      "208\t14    \t1.00743e+16\t2.27005e+16\t209733\t7.22963e+16\n",
      "209\t9     \t1.61637e+16\t4.03454e+16\t209733\t1.77347e+17\n",
      "210\t19    \t4.12859e+16\t1.41847e+17\t209708\t6.5184e+17 \n",
      "211\t14    \t1.9477e+16 \t3.91113e+16\t209708\t1.38135e+17\n",
      "212\t15    \t6.74136e+15\t2.27011e+16\t209708\t1.00022e+17\n",
      "213\t14    \t2.13646e+16\t4.70703e+16\t209708\t2.0707e+17 \n",
      "214\t20    \t1.77212e+16\t3.25983e+16\t209629\t1.05969e+17\n",
      "215\t15    \t2.67801e+15\t8.10193e+15\t209619\t3.00901e+16\n",
      "216\t17    \t2.20602e+16\t4.57853e+16\t209567\t1.90077e+17\n",
      "217\t14    \t2.22322e+16\t5.93715e+16\t209578\t2.40599e+17\n",
      "218\t15    \t3.63862e+16\t4.8625e+16 \t209528\t1.41025e+17\n",
      "219\t16    \t3.41381e+16\t5.74026e+16\t209567\t1.53044e+17\n",
      "220\t18    \t1.68595e+16\t2.90149e+16\t209567\t9.39633e+16\n",
      "221\t15    \t6.85353e+15\t1.65207e+16\t209433\t5.11044e+16\n",
      "222\t10    \t5.4397e+15 \t1.41183e+16\t209433\t4.75236e+16\n",
      "223\t14    \t1.65183e+16\t4.68866e+16\t209433\t1.9346e+17 \n",
      "224\t16    \t2.0131e+16 \t3.963e+16  \t209432\t1.3635e+17 \n",
      "225\t16    \t1.389e+16  \t4.17107e+16\t209432\t1.44722e+17\n",
      "226\t17    \t2.23484e+16\t4.29131e+16\t209379\t1.72675e+17\n",
      "227\t15    \t2.19217e+16\t5.77812e+16\t209406\t2.61966e+17\n",
      "228\t16    \t1.22661e+16\t3.55383e+16\t209406\t1.31361e+17\n",
      "229\t13    \t1.4437e+16 \t4.78646e+16\t209398\t2.19392e+17\n",
      "230\t11    \t2.9947e+15 \t1.30536e+16\t209398\t5.9894e+16 \n",
      "231\t13    \t3.91718e+15\t1.03405e+16\t209388\t3.48679e+16\n",
      "232\t16    \t3.50629e+16\t5.6019e+16 \t209354\t2.21275e+17\n",
      "233\t12    \t3.16283e+15\t1.32274e+16\t209354\t6.07715e+16\n",
      "234\t15    \t1.08689e+15\t3.90233e+15\t209360\t1.76484e+16\n",
      "235\t16    \t2.24919e+16\t4.21901e+16\t209358\t1.32223e+17\n",
      "236\t16    \t1.30154e+16\t3.08458e+16\t209358\t1.07103e+17\n",
      "237\t14    \t1.83811e+16\t3.89607e+16\t209291\t1.51335e+17\n",
      "238\t15    \t9.06718e+15\t3.39864e+16\t209330\t1.55805e+17\n",
      "239\t14    \t2.32217e+16\t6.19029e+16\t209330\t2.66295e+17\n",
      "240\t8     \t2.17858e+15\t6.6027e+15 \t209332\t2.4752e+16 \n",
      "241\t16    \t3.34904e+16\t6.03526e+16\t209324\t2.38411e+17\n",
      "242\t16    \t3.10489e+16\t5.57975e+16\t209304\t2.07044e+17\n",
      "243\t13    \t3.01958e+16\t5.32746e+16\t209304\t1.76387e+17\n",
      "244\t16    \t3.24699e+15\t1.41533e+16\t209304\t6.49398e+16\n",
      "245\t12    \t2.86105e+15\t6.18481e+15\t209297\t2.26636e+16\n",
      "246\t14    \t1.82683e+16\t3.95592e+16\t209281\t1.25123e+17\n",
      "247\t17    \t1.27688e+16\t2.51285e+16\t209281\t7.66787e+16\n",
      "248\t15    \t1.53004e+16\t4.24186e+16\t209281\t1.69783e+17\n",
      "249\t15    \t2.43448e+16\t4.37364e+16\t209270\t1.31783e+17\n",
      "250\t13    \t3.45358e+16\t5.88042e+16\t209281\t1.86767e+17\n",
      "251\t15    \t1.75573e+16\t3.1623e+16 \t209281\t9.58531e+16\n",
      "252\t18    \t2.66254e+16\t4.35532e+16\t209251\t1.55018e+17\n",
      "253\t14    \t8.4621e+15 \t2.47279e+16\t209251\t1.08762e+17\n",
      "254\t17    \t2.35987e+16\t4.39468e+16\t209251\t1.59632e+17\n",
      "255\t15    \t2.47979e+16\t7.94504e+16\t209191\t3.66232e+17\n",
      "256\t14    \t1.69977e+16\t2.66333e+16\t209191\t7.85232e+16\n",
      "257\t16    \t6.87884e+15\t1.54972e+16\t209191\t5.7297e+16 \n",
      "258\t17    \t5.55365e+16\t1.11581e+17\t209013\t4.77056e+17\n",
      "259\t13    \t3.52765e+16\t6.71365e+16\t209013\t2.07928e+17\n",
      "260\t14    \t1.10274e+16\t2.52836e+16\t209013\t8.00673e+16\n",
      "261\t11    \t7.80793e+15\t2.00124e+16\t208889\t7.89072e+16\n",
      "262\t17    \t6.07935e+15\t1.94045e+16\t208870\t8.1748e+16 \n",
      "263\t16    \t5.94346e+15\t2.06104e+16\t208870\t9.21248e+16\n",
      "264\t17    \t209008     \t114.107    \t208870\t209334     \n",
      "265\t15    \t5.74144e+15\t1.2376e+16 \t208870\t4.43788e+16\n",
      "266\t12    \t2.30684e+15\t7.26473e+15\t208870\t3.0056e+16 \n",
      "267\t16    \t4.26025e+16\t1.67399e+17\t208857\t7.69656e+17\n",
      "268\t15    \t1.50561e+16\t3.74853e+16\t208857\t1.50988e+17\n",
      "269\t14    \t2.54595e+16\t5.56536e+16\t208790\t1.74918e+17\n",
      "270\t14    \t8.12005e+15\t2.27324e+16\t208858\t8.90514e+16\n",
      "271\t17    \t1.36911e+16\t3.25973e+16\t208818\t1.10117e+17\n",
      "272\t16    \t7.71995e+15\t2.33813e+16\t208764\t8.73524e+16"
     ]
    }
   ],
   "source": [
    "nmdl.fit(X, y)\n",
    "# nmdl2 = BaggingRegressor(base_estimator=LinearRegression(), n_estimators=10, oob_score=True).fit(X, y)"
   ]
  },
  {
   "cell_type": "code",
   "execution_count": 46,
   "metadata": {
    "collapsed": false
   },
   "outputs": [],
   "source": [
    "unseen_true = pd.read_clipboard()"
   ]
  },
  {
   "cell_type": "code",
   "execution_count": 47,
   "metadata": {
    "collapsed": false
   },
   "outputs": [
    {
     "name": "stdout",
     "output_type": "stream",
     "text": [
      "(1250, 2)\n"
     ]
    },
    {
     "ename": "NameError",
     "evalue": "name 'sub' is not defined",
     "output_type": "error",
     "traceback": [
      "\u001b[1;31m---------------------------------------------------------------------------\u001b[0m",
      "\u001b[1;31mNameError\u001b[0m                                 Traceback (most recent call last)",
      "\u001b[1;32m<ipython-input-47-b250770ab22c>\u001b[0m in \u001b[0;36m<module>\u001b[1;34m()\u001b[0m\n\u001b[0;32m      1\u001b[0m \u001b[1;32mprint\u001b[0m \u001b[0munseen_true\u001b[0m\u001b[1;33m.\u001b[0m\u001b[0mshape\u001b[0m\u001b[1;33m\u001b[0m\u001b[0m\n\u001b[1;32m----> 2\u001b[1;33m \u001b[1;32mprint\u001b[0m \u001b[0msub\u001b[0m\u001b[1;33m.\u001b[0m\u001b[0mshape\u001b[0m\u001b[1;33m\u001b[0m\u001b[0m\n\u001b[0m",
      "\u001b[1;31mNameError\u001b[0m: name 'sub' is not defined"
     ]
    }
   ],
   "source": [
    "print unseen_true.shape\n",
    "print sub.shape"
   ]
  },
  {
   "cell_type": "code",
   "execution_count": 77,
   "metadata": {
    "collapsed": false
   },
   "outputs": [],
   "source": [
    "bench = pd.merge(unseen_true, sub, on='ID', how='left')\n",
    "np.sqrt(mean_squared_error(bench.Salary_x, bench.Salary_y))"
   ]
  },
  {
   "cell_type": "code",
   "execution_count": 79,
   "metadata": {
    "collapsed": false
   },
   "outputs": [
    {
     "data": {
      "text/plain": [
       "3.2497869618255136e+17"
      ]
     },
     "execution_count": 79,
     "metadata": {},
     "output_type": "execute_result"
    }
   ],
   "source": []
  },
  {
   "cell_type": "code",
   "execution_count": 22,
   "metadata": {
    "collapsed": false
   },
   "outputs": [
    {
     "data": {
      "text/plain": [
       "sklearn.linear_model.coordinate_descent.LassoCV"
      ]
     },
     "execution_count": 22,
     "metadata": {},
     "output_type": "execute_result"
    }
   ],
   "source": [
    "nmdl.base_estimator"
   ]
  },
  {
   "cell_type": "code",
   "execution_count": 45,
   "metadata": {
    "collapsed": false
   },
   "outputs": [
    {
     "data": {
      "text/plain": [
       "LinearRegression(copy_X=True, fit_intercept=True, n_jobs=1, normalize=False)"
      ]
     },
     "execution_count": 45,
     "metadata": {},
     "output_type": "execute_result"
    }
   ],
   "source": [
    "from sklearn.linear_model import LinearRegression\n",
    "nmdl = LinearRegression()\n",
    "nmdl.fit(X_train, y_train)\n"
   ]
  },
  {
   "cell_type": "code",
   "execution_count": 48,
   "metadata": {
    "collapsed": false
   },
   "outputs": [
    {
     "data": {
      "text/plain": [
       "2465993.0031089578"
      ]
     },
     "execution_count": 48,
     "metadata": {},
     "output_type": "execute_result"
    }
   ],
   "source": [
    "np.sqrt(mean_squared_error(nmdl.predict(X_test),y_test))"
   ]
  },
  {
   "cell_type": "code",
   "execution_count": 49,
   "metadata": {
    "collapsed": false
   },
   "outputs": [
    {
     "data": {
      "text/plain": [
       "178549.85883098908"
      ]
     },
     "execution_count": 49,
     "metadata": {},
     "output_type": "execute_result"
    }
   ],
   "source": [
    "np.sqrt(mean_squared_error(nmdl.predict(X_train),y_train))"
   ]
  },
  {
   "cell_type": "code",
   "execution_count": 27,
   "metadata": {
    "collapsed": true
   },
   "outputs": [],
   "source": [
    "arr = np.array([LinearRegression(),LinearRegression(),LinearRegression(),LinearRegression(),LinearRegression()\n",
    "               ])\n",
    "distances = np.array([3,4,1,5,8])"
   ]
  },
  {
   "cell_type": "code",
   "execution_count": 30,
   "metadata": {
    "collapsed": false
   },
   "outputs": [
    {
     "data": {
      "text/plain": [
       "array([ LinearRegression(copy_X=True, fit_intercept=True, n_jobs=1, normalize=False),\n",
       "       LinearRegression(copy_X=True, fit_intercept=True, n_jobs=1, normalize=False)], dtype=object)"
      ]
     },
     "execution_count": 30,
     "metadata": {},
     "output_type": "execute_result"
    }
   ],
   "source": [
    "arr[distances.argsort()[:2]]"
   ]
  },
  {
   "cell_type": "code",
   "execution_count": 45,
   "metadata": {
    "collapsed": false
   },
   "outputs": [],
   "source": [
    "from sklearn.linear_model import SGDRegressor"
   ]
  },
  {
   "cell_type": "code",
   "execution_count": null,
   "metadata": {
    "collapsed": true
   },
   "outputs": [],
   "source": [
    "from sklearn.linear_model import SGDRegressor"
   ]
  },
  {
   "cell_type": "code",
   "execution_count": 46,
   "metadata": {
    "collapsed": true
   },
   "outputs": [],
   "source": [
    "SGDRegressor?"
   ]
  },
  {
   "cell_type": "code",
   "execution_count": 39,
   "metadata": {
    "collapsed": false
   },
   "outputs": [
    {
     "data": {
      "text/html": [
       "<div>\n",
       "<table border=\"1\" class=\"dataframe\">\n",
       "  <thead>\n",
       "    <tr style=\"text-align: right;\">\n",
       "      <th></th>\n",
       "      <th>ID</th>\n",
       "      <th>Salary</th>\n",
       "    </tr>\n",
       "  </thead>\n",
       "  <tbody>\n",
       "    <tr>\n",
       "      <th>0</th>\n",
       "      <td>664736</td>\n",
       "      <td>350000.0</td>\n",
       "    </tr>\n",
       "    <tr>\n",
       "      <th>1</th>\n",
       "      <td>1123290</td>\n",
       "      <td>300000.0</td>\n",
       "    </tr>\n",
       "    <tr>\n",
       "      <th>2</th>\n",
       "      <td>1062444</td>\n",
       "      <td>325000.0</td>\n",
       "    </tr>\n",
       "    <tr>\n",
       "      <th>3</th>\n",
       "      <td>1072028</td>\n",
       "      <td>60000.0</td>\n",
       "    </tr>\n",
       "    <tr>\n",
       "      <th>4</th>\n",
       "      <td>267259</td>\n",
       "      <td>360000.0</td>\n",
       "    </tr>\n",
       "    <tr>\n",
       "      <th>5</th>\n",
       "      <td>283564</td>\n",
       "      <td>300000.0</td>\n",
       "    </tr>\n",
       "    <tr>\n",
       "      <th>6</th>\n",
       "      <td>1264575</td>\n",
       "      <td>140000.0</td>\n",
       "    </tr>\n",
       "    <tr>\n",
       "      <th>7</th>\n",
       "      <td>1091378</td>\n",
       "      <td>100000.0</td>\n",
       "    </tr>\n",
       "    <tr>\n",
       "      <th>8</th>\n",
       "      <td>361658</td>\n",
       "      <td>460000.0</td>\n",
       "    </tr>\n",
       "    <tr>\n",
       "      <th>9</th>\n",
       "      <td>1119280</td>\n",
       "      <td>85000.0</td>\n",
       "    </tr>\n",
       "    <tr>\n",
       "      <th>10</th>\n",
       "      <td>985444</td>\n",
       "      <td>260000.0</td>\n",
       "    </tr>\n",
       "    <tr>\n",
       "      <th>11</th>\n",
       "      <td>436297</td>\n",
       "      <td>150000.0</td>\n",
       "    </tr>\n",
       "    <tr>\n",
       "      <th>12</th>\n",
       "      <td>730361</td>\n",
       "      <td>100000.0</td>\n",
       "    </tr>\n",
       "    <tr>\n",
       "      <th>13</th>\n",
       "      <td>741241</td>\n",
       "      <td>180000.0</td>\n",
       "    </tr>\n",
       "    <tr>\n",
       "      <th>14</th>\n",
       "      <td>342646</td>\n",
       "      <td>470000.0</td>\n",
       "    </tr>\n",
       "    <tr>\n",
       "      <th>15</th>\n",
       "      <td>266340</td>\n",
       "      <td>175000.0</td>\n",
       "    </tr>\n",
       "    <tr>\n",
       "      <th>16</th>\n",
       "      <td>338891</td>\n",
       "      <td>240000.0</td>\n",
       "    </tr>\n",
       "    <tr>\n",
       "      <th>17</th>\n",
       "      <td>353269</td>\n",
       "      <td>350000.0</td>\n",
       "    </tr>\n",
       "    <tr>\n",
       "      <th>18</th>\n",
       "      <td>563010</td>\n",
       "      <td>410000.0</td>\n",
       "    </tr>\n",
       "    <tr>\n",
       "      <th>19</th>\n",
       "      <td>625326</td>\n",
       "      <td>210000.0</td>\n",
       "    </tr>\n",
       "    <tr>\n",
       "      <th>20</th>\n",
       "      <td>736920</td>\n",
       "      <td>320000.0</td>\n",
       "    </tr>\n",
       "    <tr>\n",
       "      <th>21</th>\n",
       "      <td>898321</td>\n",
       "      <td>120000.0</td>\n",
       "    </tr>\n",
       "    <tr>\n",
       "      <th>22</th>\n",
       "      <td>1094114</td>\n",
       "      <td>205000.0</td>\n",
       "    </tr>\n",
       "    <tr>\n",
       "      <th>23</th>\n",
       "      <td>104177</td>\n",
       "      <td>285000.0</td>\n",
       "    </tr>\n",
       "    <tr>\n",
       "      <th>24</th>\n",
       "      <td>959619</td>\n",
       "      <td>110000.0</td>\n",
       "    </tr>\n",
       "    <tr>\n",
       "      <th>25</th>\n",
       "      <td>553312</td>\n",
       "      <td>355000.0</td>\n",
       "    </tr>\n",
       "    <tr>\n",
       "      <th>26</th>\n",
       "      <td>257096</td>\n",
       "      <td>420000.0</td>\n",
       "    </tr>\n",
       "    <tr>\n",
       "      <th>27</th>\n",
       "      <td>633726</td>\n",
       "      <td>380000.0</td>\n",
       "    </tr>\n",
       "    <tr>\n",
       "      <th>28</th>\n",
       "      <td>1074888</td>\n",
       "      <td>330000.0</td>\n",
       "    </tr>\n",
       "    <tr>\n",
       "      <th>29</th>\n",
       "      <td>852816</td>\n",
       "      <td>200000.0</td>\n",
       "    </tr>\n",
       "    <tr>\n",
       "      <th>...</th>\n",
       "      <td>...</td>\n",
       "      <td>...</td>\n",
       "    </tr>\n",
       "    <tr>\n",
       "      <th>1220</th>\n",
       "      <td>961638</td>\n",
       "      <td>265000.0</td>\n",
       "    </tr>\n",
       "    <tr>\n",
       "      <th>1221</th>\n",
       "      <td>848673</td>\n",
       "      <td>400000.0</td>\n",
       "    </tr>\n",
       "    <tr>\n",
       "      <th>1222</th>\n",
       "      <td>358161</td>\n",
       "      <td>365000.0</td>\n",
       "    </tr>\n",
       "    <tr>\n",
       "      <th>1223</th>\n",
       "      <td>998591</td>\n",
       "      <td>340000.0</td>\n",
       "    </tr>\n",
       "    <tr>\n",
       "      <th>1224</th>\n",
       "      <td>435223</td>\n",
       "      <td>280000.0</td>\n",
       "    </tr>\n",
       "    <tr>\n",
       "      <th>1225</th>\n",
       "      <td>813788</td>\n",
       "      <td>100000.0</td>\n",
       "    </tr>\n",
       "    <tr>\n",
       "      <th>1226</th>\n",
       "      <td>1084544</td>\n",
       "      <td>145000.0</td>\n",
       "    </tr>\n",
       "    <tr>\n",
       "      <th>1227</th>\n",
       "      <td>331604</td>\n",
       "      <td>180000.0</td>\n",
       "    </tr>\n",
       "    <tr>\n",
       "      <th>1228</th>\n",
       "      <td>322487</td>\n",
       "      <td>265000.0</td>\n",
       "    </tr>\n",
       "    <tr>\n",
       "      <th>1229</th>\n",
       "      <td>298288</td>\n",
       "      <td>100000.0</td>\n",
       "    </tr>\n",
       "    <tr>\n",
       "      <th>1230</th>\n",
       "      <td>450590</td>\n",
       "      <td>150000.0</td>\n",
       "    </tr>\n",
       "    <tr>\n",
       "      <th>1231</th>\n",
       "      <td>1087390</td>\n",
       "      <td>400000.0</td>\n",
       "    </tr>\n",
       "    <tr>\n",
       "      <th>1232</th>\n",
       "      <td>449910</td>\n",
       "      <td>520000.0</td>\n",
       "    </tr>\n",
       "    <tr>\n",
       "      <th>1233</th>\n",
       "      <td>330574</td>\n",
       "      <td>175000.0</td>\n",
       "    </tr>\n",
       "    <tr>\n",
       "      <th>1234</th>\n",
       "      <td>337496</td>\n",
       "      <td>350000.0</td>\n",
       "    </tr>\n",
       "    <tr>\n",
       "      <th>1235</th>\n",
       "      <td>336610</td>\n",
       "      <td>420000.0</td>\n",
       "    </tr>\n",
       "    <tr>\n",
       "      <th>1236</th>\n",
       "      <td>306262</td>\n",
       "      <td>340000.0</td>\n",
       "    </tr>\n",
       "    <tr>\n",
       "      <th>1237</th>\n",
       "      <td>413347</td>\n",
       "      <td>95000.0</td>\n",
       "    </tr>\n",
       "    <tr>\n",
       "      <th>1238</th>\n",
       "      <td>848524</td>\n",
       "      <td>390000.0</td>\n",
       "    </tr>\n",
       "    <tr>\n",
       "      <th>1239</th>\n",
       "      <td>783316</td>\n",
       "      <td>310000.0</td>\n",
       "    </tr>\n",
       "    <tr>\n",
       "      <th>1240</th>\n",
       "      <td>872532</td>\n",
       "      <td>320000.0</td>\n",
       "    </tr>\n",
       "    <tr>\n",
       "      <th>1241</th>\n",
       "      <td>361523</td>\n",
       "      <td>600000.0</td>\n",
       "    </tr>\n",
       "    <tr>\n",
       "      <th>1242</th>\n",
       "      <td>104882</td>\n",
       "      <td>180000.0</td>\n",
       "    </tr>\n",
       "    <tr>\n",
       "      <th>1243</th>\n",
       "      <td>1230030</td>\n",
       "      <td>140000.0</td>\n",
       "    </tr>\n",
       "    <tr>\n",
       "      <th>1244</th>\n",
       "      <td>60358</td>\n",
       "      <td>335000.0</td>\n",
       "    </tr>\n",
       "    <tr>\n",
       "      <th>1245</th>\n",
       "      <td>407755</td>\n",
       "      <td>385000.0</td>\n",
       "    </tr>\n",
       "    <tr>\n",
       "      <th>1246</th>\n",
       "      <td>575154</td>\n",
       "      <td>475000.0</td>\n",
       "    </tr>\n",
       "    <tr>\n",
       "      <th>1247</th>\n",
       "      <td>216598</td>\n",
       "      <td>350000.0</td>\n",
       "    </tr>\n",
       "    <tr>\n",
       "      <th>1248</th>\n",
       "      <td>919755</td>\n",
       "      <td>240000.0</td>\n",
       "    </tr>\n",
       "    <tr>\n",
       "      <th>1249</th>\n",
       "      <td>1037308</td>\n",
       "      <td>370000.0</td>\n",
       "    </tr>\n",
       "  </tbody>\n",
       "</table>\n",
       "<p>1250 rows × 2 columns</p>\n",
       "</div>"
      ],
      "text/plain": [
       "           ID    Salary\n",
       "0      664736  350000.0\n",
       "1     1123290  300000.0\n",
       "2     1062444  325000.0\n",
       "3     1072028   60000.0\n",
       "4      267259  360000.0\n",
       "5      283564  300000.0\n",
       "6     1264575  140000.0\n",
       "7     1091378  100000.0\n",
       "8      361658  460000.0\n",
       "9     1119280   85000.0\n",
       "10     985444  260000.0\n",
       "11     436297  150000.0\n",
       "12     730361  100000.0\n",
       "13     741241  180000.0\n",
       "14     342646  470000.0\n",
       "15     266340  175000.0\n",
       "16     338891  240000.0\n",
       "17     353269  350000.0\n",
       "18     563010  410000.0\n",
       "19     625326  210000.0\n",
       "20     736920  320000.0\n",
       "21     898321  120000.0\n",
       "22    1094114  205000.0\n",
       "23     104177  285000.0\n",
       "24     959619  110000.0\n",
       "25     553312  355000.0\n",
       "26     257096  420000.0\n",
       "27     633726  380000.0\n",
       "28    1074888  330000.0\n",
       "29     852816  200000.0\n",
       "...       ...       ...\n",
       "1220   961638  265000.0\n",
       "1221   848673  400000.0\n",
       "1222   358161  365000.0\n",
       "1223   998591  340000.0\n",
       "1224   435223  280000.0\n",
       "1225   813788  100000.0\n",
       "1226  1084544  145000.0\n",
       "1227   331604  180000.0\n",
       "1228   322487  265000.0\n",
       "1229   298288  100000.0\n",
       "1230   450590  150000.0\n",
       "1231  1087390  400000.0\n",
       "1232   449910  520000.0\n",
       "1233   330574  175000.0\n",
       "1234   337496  350000.0\n",
       "1235   336610  420000.0\n",
       "1236   306262  340000.0\n",
       "1237   413347   95000.0\n",
       "1238   848524  390000.0\n",
       "1239   783316  310000.0\n",
       "1240   872532  320000.0\n",
       "1241   361523  600000.0\n",
       "1242   104882  180000.0\n",
       "1243  1230030  140000.0\n",
       "1244    60358  335000.0\n",
       "1245   407755  385000.0\n",
       "1246   575154  475000.0\n",
       "1247   216598  350000.0\n",
       "1248   919755  240000.0\n",
       "1249  1037308  370000.0\n",
       "\n",
       "[1250 rows x 2 columns]"
      ]
     },
     "execution_count": 39,
     "metadata": {},
     "output_type": "execute_result"
    }
   ],
   "source": [
    "unseen_true"
   ]
  },
  {
   "cell_type": "code",
   "execution_count": 1,
   "metadata": {
    "collapsed": true
   },
   "outputs": [],
   "source": [
    "import random"
   ]
  },
  {
   "cell_type": "code",
   "execution_count": 84,
   "metadata": {
    "collapsed": false
   },
   "outputs": [
    {
     "data": {
      "text/plain": [
       "0.2708692082529105"
      ]
     },
     "execution_count": 84,
     "metadata": {},
     "output_type": "execute_result"
    }
   ],
   "source": [
    "random.randrange(0.1, 1, _int=float)"
   ]
  },
  {
   "cell_type": "code",
   "execution_count": null,
   "metadata": {
    "collapsed": true
   },
   "outputs": [],
   "source": []
  }
 ],
 "metadata": {
  "kernelspec": {
   "display_name": "Python 2",
   "language": "python",
   "name": "python2"
  },
  "language_info": {
   "codemirror_mode": {
    "name": "ipython",
    "version": 2
   },
   "file_extension": ".py",
   "mimetype": "text/x-python",
   "name": "python",
   "nbconvert_exporter": "python",
   "pygments_lexer": "ipython2",
   "version": "2.7.9"
  }
 },
 "nbformat": 4,
 "nbformat_minor": 0
}
