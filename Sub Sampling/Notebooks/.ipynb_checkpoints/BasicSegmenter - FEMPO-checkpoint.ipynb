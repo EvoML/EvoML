{
 "cells": [
  {
   "cell_type": "code",
   "execution_count": 1,
   "metadata": {
    "collapsed": true
   },
   "outputs": [],
   "source": [
    "import pandas as pd\n",
    "import numpy as np\n",
    "import auto_feature\n",
    "#dreload(auto_feature)\n",
    "from sklearn.grid_search import GridSearchCV, RandomizedSearchCV\n",
    "from sklearn.tree import DecisionTreeRegressor\n",
    "from sklearn.cross_validation import train_test_split\n",
    "from sklearn.metrics import mean_squared_error\n",
    "from sklearn.datasets import load_boston\n",
    "from sklearn import linear_model\n",
    "from sklearn.base import clone\n",
    "boston = load_boston()\n",
    "#print(boston.data.shape)"
   ]
  },
  {
   "cell_type": "code",
   "execution_count": 2,
   "metadata": {
    "collapsed": true
   },
   "outputs": [],
   "source": [
    "base_address = \"../Datasets/\"\n",
    "dataSets = []\n",
    "dataSets_temp = []\n",
    "data_names = ['servo','abalone','ozone']\n",
    "for i in range(0,len(data_names)):\n",
    "    dataSets_temp.append(pd.read_csv(base_address+data_names[i]+'.csv'))\n",
    "    temp_data = pd.read_csv(base_address+data_names[i]+'.csv')\n",
    "    temp_data = pd.get_dummies(temp_data)\n",
    "    temp_output = pd.DataFrame(temp_data['output'])\n",
    "    temp_data.drop('output',axis=1,inplace=True)\n",
    "    temp_data = pd.concat([temp_data, temp_output], axis=1)\n",
    "    dataSets.append(temp_data)\n",
    "# Boston Data\n",
    "b_feat = pd.DataFrame(boston.data)\n",
    "b_feat.columns = ['feat_0','feat_1','feat_2','feat_3','feat_4','feat_5','feat_6','feat_7','feat_8','feat_9','feat_10','feat_11','feat_12']\n",
    "b_target = pd.DataFrame(boston.target)\n",
    "b_target.columns = ['output']\n",
    "b_data = pd.concat([b_feat,b_target],axis=1)\n",
    "dataSets.append(b_data)"
   ]
  },
  {
   "cell_type": "code",
   "execution_count": 3,
   "metadata": {
    "collapsed": true
   },
   "outputs": [],
   "source": [
    "def get_result(model_,data_, frac):\n",
    "    model = clone(model_)\n",
    "    output = data_['output']\n",
    "    data_.drop('output',axis=1,inplace=True)\n",
    "    X_train, X_test, y_train, y_test = train_test_split(data_, output, test_size=frac)\n",
    "    model.fit(X_train,y_train)\n",
    "    test_result = model.predict(X_test)\n",
    "    return mean_squared_error(y_test,test_result), test_result, model"
   ]
  },
  {
   "cell_type": "code",
   "execution_count": 4,
   "metadata": {
    "collapsed": true
   },
   "outputs": [],
   "source": [
    "def get_result_iter(data, N_iterations, frac, models):\n",
    "    #get_result(FS,temp_data)\n",
    "    model_list = []\n",
    "    Result_mses = []\n",
    "    for i in range(0,len(models)):\n",
    "        model_iter_results = []\n",
    "        for j in range(0,N_iterations):\n",
    "            temp_data = data.copy(deep=True)\n",
    "            temp_rs, temp_pred, model = get_result(models[i],temp_data, frac)\n",
    "            #print model.best_params_\n",
    "            model_iter_results.append(temp_rs)\n",
    "            model_list.append(model)\n",
    "        Result_mses.append(sum(model_iter_results)/len(model_iter_results))\n",
    "    return Result_mses, model_list"
   ]
  },
  {
   "cell_type": "code",
   "execution_count": 5,
   "metadata": {
    "collapsed": false
   },
   "outputs": [
    {
     "name": "stderr",
     "output_type": "stream",
     "text": [
      "[Parallel(n_jobs=1)]: Done   1 jobs       | elapsed:   16.9s\n",
      "[Parallel(n_jobs=1)]: Done  50 jobs       | elapsed: 60.7min\n"
     ]
    },
    {
     "name": "stdout",
     "output_type": "stream",
     "text": [
      "Fitting 3 folds for each of 18 candidates, totalling 54 fits\n",
      "Fitting 3 folds for each of 18 candidates, totalling 54 fits"
     ]
    },
    {
     "name": "stderr",
     "output_type": "stream",
     "text": [
      "[Parallel(n_jobs=1)]: Done  54 out of  54 | elapsed: 71.7min finished\n",
      "[Parallel(n_jobs=1)]: Done   1 jobs       | elapsed:   41.3s\n",
      "[Parallel(n_jobs=1)]: Done  50 jobs       | elapsed: 1807.2min\n",
      "[Parallel(n_jobs=1)]: Done  54 out of  54 | elapsed: 1834.0min finished\n"
     ]
    },
    {
     "name": "stdout",
     "output_type": "stream",
     "text": [
      "\n",
      "Fitting 3 folds for each of 18 candidates, totalling 54 fits"
     ]
    },
    {
     "name": "stderr",
     "output_type": "stream",
     "text": [
      "[Parallel(n_jobs=1)]: Done   1 jobs       | elapsed:   17.7s\n",
      "[Parallel(n_jobs=1)]: Done  50 jobs       | elapsed: 55.2min\n"
     ]
    },
    {
     "name": "stdout",
     "output_type": "stream",
     "text": [
      "\n",
      "Fitting 3 folds for each of 18 candidates, totalling 54 fits"
     ]
    },
    {
     "name": "stderr",
     "output_type": "stream",
     "text": [
      "[Parallel(n_jobs=1)]: Done  54 out of  54 | elapsed: 65.0min finished\n",
      "[Parallel(n_jobs=1)]: Done   1 jobs       | elapsed:   15.8s\n",
      "[Parallel(n_jobs=1)]: Done  50 jobs       | elapsed: 57.3min\n",
      "[Parallel(n_jobs=1)]: Done  54 out of  54 | elapsed: 67.6min finished\n"
     ]
    },
    {
     "name": "stdout",
     "output_type": "stream",
     "text": [
      "\n"
     ]
    },
    {
     "data": {
      "text/html": [
       "<div>\n",
       "<table border=\"1\" class=\"dataframe\">\n",
       "  <thead>\n",
       "    <tr style=\"text-align: right;\">\n",
       "      <th></th>\n",
       "      <th>Feature Stacker-CV</th>\n",
       "    </tr>\n",
       "  </thead>\n",
       "  <tbody>\n",
       "    <tr>\n",
       "      <th>Servo</th>\n",
       "      <td>1.103840</td>\n",
       "    </tr>\n",
       "    <tr>\n",
       "      <th>Abalone</th>\n",
       "      <td>4.023764</td>\n",
       "    </tr>\n",
       "    <tr>\n",
       "      <th>Ozone</th>\n",
       "      <td>24.171556</td>\n",
       "    </tr>\n",
       "    <tr>\n",
       "      <th>Boston-housing</th>\n",
       "      <td>15.039200</td>\n",
       "    </tr>\n",
       "  </tbody>\n",
       "</table>\n",
       "</div>"
      ],
      "text/plain": [
       "                Feature Stacker-CV\n",
       "Servo                     1.103840\n",
       "Abalone                   4.023764\n",
       "Ozone                    24.171556\n",
       "Boston-housing           15.039200"
      ]
     },
     "execution_count": 5,
     "metadata": {},
     "output_type": "execute_result"
    }
   ],
   "source": [
    "Res_all_ds = []\n",
    "model_f = []\n",
    "for i in range(0,len(dataSets)):\n",
    "    t_data = dataSets[i].copy(deep=True)\n",
    "    N_iterations = 1\n",
    "    g_frac = 0.10\n",
    "    #parameters = {'indpb':np.arange(0.1,0.6,0.2).tolist(), 'mutpb':np.arange(0.1,0.7,0.2).tolist(),\n",
    "                  #'cxpb':np.arange(0.1,0.7,0.2).tolist(),'N_individual':np.arange(4,15,2).tolist(),\n",
    "                  #'test_frac':np.arange(0.1,1,0.2)}\n",
    "    parameters = {'indpb':np.arange(0.1,0.6,0.2).tolist(),'N_individual':[5,10,20,25,35,50]}\n",
    "    FS = auto_feature.Feature_Stacker2(ngen=20,cxpb = 0.6, mutpb = 0.4)\n",
    "    #grid_model = RandomizedSearchCV(FS, parameters, verbose=True, scoring=\"mean_squared_error\",n_iter=100)\n",
    "    grid_model = GridSearchCV(FS, parameters, verbose=True, scoring=\"mean_squared_error\")\n",
    "    g_models = []\n",
    "    g_models.append(grid_model)\n",
    "    #g_models.append(linear_model.LinearRegression())\n",
    "    #g_models.append(linear_model.LassoCV(n_alphas=100))\n",
    "    Result_t, model_list = get_result_iter(t_data, N_iterations, g_frac, g_models)\n",
    "    Res_all_ds.append(Result_t)\n",
    "    model_f.append(model_list)\n",
    "dataSet_names = ['Servo','Abalone','Ozone','Boston-housing']\n",
    "model_names = ['Feature Stacker-CV']\n",
    "Result_test_bench = pd.DataFrame(Res_all_ds)\n",
    "Result_test_bench.columns = model_names\n",
    "Result_test_bench.set_index([dataSet_names],inplace=True)\n",
    "Result_test_bench"
   ]
  },
  {
   "cell_type": "code",
   "execution_count": null,
   "metadata": {
    "collapsed": true
   },
   "outputs": [],
   "source": []
  },
  {
   "cell_type": "code",
   "execution_count": null,
   "metadata": {
    "collapsed": true
   },
   "outputs": [],
   "source": []
  }
 ],
 "metadata": {
  "kernelspec": {
   "display_name": "Python 2",
   "language": "python",
   "name": "python2"
  },
  "language_info": {
   "codemirror_mode": {
    "name": "ipython",
    "version": 2
   },
   "file_extension": ".py",
   "mimetype": "text/x-python",
   "name": "python",
   "nbconvert_exporter": "python",
   "pygments_lexer": "ipython2",
   "version": "2.7.9"
  }
 },
 "nbformat": 4,
 "nbformat_minor": 0
}
