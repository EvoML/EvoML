{
 "cells": [
  {
   "cell_type": "code",
   "execution_count": 1,
   "metadata": {
    "collapsed": true
   },
   "outputs": [],
   "source": [
    "from auto_segment_EG import BasicSegmenterEG\n",
    "from sklearn.grid_search import GridSearchCV, RandomizedSearchCV\n",
    "from sklearn.svm import SVR\n",
    "import pandas as pd\n",
    "from sklearn.cross_validation import train_test_split\n",
    "import numpy as np\n",
    "from sklearn.metrics import mean_squared_error\n",
    "from sklearn.tree import DecisionTreeRegressor\n",
    "from sklearn.linear_model import LinearRegression"
   ]
  },
  {
   "cell_type": "code",
   "execution_count": 12,
   "metadata": {
    "collapsed": false
   },
   "outputs": [
    {
     "data": {
      "text/plain": [
       "<module 'auto_segment_EG' from 'auto_segment_EG.py'>"
      ]
     },
     "execution_count": 12,
     "metadata": {},
     "output_type": "execute_result"
    }
   ],
   "source": [
    "import auto_segment_EG\n",
    "reload(auto_segment_EG)"
   ]
  },
  {
   "cell_type": "code",
   "execution_count": 39,
   "metadata": {
    "collapsed": false
   },
   "outputs": [],
   "source": [
    "mdl = auto_segment_EG.BasicSegmenterEG()"
   ]
  },
  {
   "cell_type": "code",
   "execution_count": 41,
   "metadata": {
    "collapsed": false
   },
   "outputs": [],
   "source": [
    "mdl = mdl.set_params(**{'cxpb': 0.5,\n",
    " 'indpb': 0.2,\n",
    " 'init_sample_percentage': None,\n",
    " 'mutpb': 0.5,\n",
    " 'n': 10,\n",
    " 'n_population': 20,\n",
    " 'ngen': 10,\n",
    "#  'statistics': True,\n",
    " 'test_size': 0.25,\n",
    " 'tournsize': 3,\n",
    " 'base_estimator': LinearRegression(),\n",
    " 'n_votes' : 10\n",
    "                 })"
   ]
  },
  {
   "cell_type": "code",
   "execution_count": 33,
   "metadata": {
    "collapsed": true
   },
   "outputs": [],
   "source": [
    "grid = {\n",
    "#  'indpb':[0.1, 0.3, 0.5, 0.7],\n",
    "#  'init_sample_percentage': [ 0.1, 0.3, 0.5, 0.7, 0.9],\n",
    " 'n_votes': [1,3,5,7,9],\n",
    "    'n' : [3,5, 20, 30]\n",
    " }"
   ]
  },
  {
   "cell_type": "code",
   "execution_count": 34,
   "metadata": {
    "collapsed": false
   },
   "outputs": [],
   "source": [
    "# mdl = BasicSegmenterEG()\n",
    "clf = RandomizedSearchCV(mdl, grid, scoring = 'mean_squared_error', verbose=True, cv = 2, n_iter=30)\n",
    "# RandomizedSearchCV?"
   ]
  },
  {
   "cell_type": "code",
   "execution_count": 41,
   "metadata": {
    "collapsed": false
   },
   "outputs": [],
   "source": [
    "df = pd.read_csv('ameo_numerical.csv')\n",
    "x_columns = list(set(df.columns) - set(['Salary']) - set(['Degree_M.Sc. (Tech.)']))\n",
    "y_column = 'Salary'\n",
    "X = df[x_columns]\n",
    "y = df[y_column]\n",
    "\n",
    "X_train, X_test, y_train, y_test = train_test_split(X, y, test_size=0.2, random_state = 42)"
   ]
  },
  {
   "cell_type": "code",
   "execution_count": 36,
   "metadata": {
    "collapsed": false
   },
   "outputs": [
    {
     "name": "stderr",
     "output_type": "stream",
     "text": [
      "[Parallel(n_jobs=1)]: Done   1 jobs       | elapsed:   24.9s\n",
      "[Parallel(n_jobs=1)]: Done  50 jobs       | elapsed: 24.8min\n"
     ]
    },
    {
     "name": "stdout",
     "output_type": "stream",
     "text": [
      "RandomizedSearchCV(cv=2, error_score='raise',\n",
      "          estimator=BasicSegmenterEG(base_estimator=LinearRegression(copy_X=True, fit_intercept=True, n_jobs=1, normalize=False),\n",
      "         crossover_func=<function cxTwoPoint at 0x10E4C8B0>, cxpb=0.5,\n",
      "         indpb=0.2, init_sample_percentage=0.2, mutpb=0.5, n=10,\n",
      "         n_population=20, n_votes=1, ngen=10, statistics=None,\n",
      "         test_size=0.25, tournsize=3),\n",
      "          fit_params={}, iid=True, n_iter=30, n_jobs=1,\n",
      "          param_distributions={'n_votes': [1, 3, 5, 7, 9], 'init_sample_percentage': [0.1, 0.3, 0.5, 0.7, 0.9], 'n': [3, 5, 20, 30]},\n",
      "          pre_dispatch='2*n_jobs', random_state=None, refit=True,\n",
      "          scoring='mean_squared_error', verbose=True)\n",
      "Fitting 2 folds for each of 30 candidates, totalling 60 fits\n"
     ]
    },
    {
     "name": "stderr",
     "output_type": "stream",
     "text": [
      "[Parallel(n_jobs=1)]: Done  60 out of  60 | elapsed: 28.5min finished\n"
     ]
    },
    {
     "data": {
      "text/plain": [
       "RandomizedSearchCV(cv=2, error_score='raise',\n",
       "          estimator=BasicSegmenterEG(base_estimator=LinearRegression(copy_X=True, fit_intercept=True, n_jobs=1, normalize=False),\n",
       "         crossover_func=<function cxTwoPoint at 0x10E4C8B0>, cxpb=0.5,\n",
       "         indpb=0.2, init_sample_percentage=0.2, mutpb=0.5, n=10,\n",
       "         n_population=20, n_votes=1, ngen=10, statistics=None,\n",
       "         test_size=0.25, tournsize=3),\n",
       "          fit_params={}, iid=True, n_iter=30, n_jobs=1,\n",
       "          param_distributions={'n_votes': [1, 3, 5, 7, 9], 'init_sample_percentage': [0.1, 0.3, 0.5, 0.7, 0.9], 'n': [3, 5, 20, 30]},\n",
       "          pre_dispatch='2*n_jobs', random_state=None, refit=True,\n",
       "          scoring='mean_squared_error', verbose=True)"
      ]
     },
     "execution_count": 36,
     "metadata": {},
     "output_type": "execute_result"
    }
   ],
   "source": [
    "print clf\n",
    "clf.fit(X, y)"
   ]
  },
  {
   "cell_type": "code",
   "execution_count": 25,
   "metadata": {
    "collapsed": false
   },
   "outputs": [
    {
     "data": {
      "text/plain": [
       "1"
      ]
     },
     "execution_count": 25,
     "metadata": {},
     "output_type": "execute_result"
    }
   ],
   "source": [
    "clf.best_score_\n",
    "from sklearn.metrics import mean_squared_error\n",
    "clf.best_estimator_.score(X, y)\n",
    "import numpy as np\n",
    "np.sqrt(mean_squared_error(clf.best_estimator_.predict(X), y))\n",
    "clf.best_estimator_.n_votes"
   ]
  },
  {
   "cell_type": "code",
   "execution_count": 5,
   "metadata": {
    "collapsed": false
   },
   "outputs": [],
   "source": [
    "def ameo_leaderboard(estimator):\n",
    "    global x_columns, y_column\n",
    "    unseen = pd.read_csv('ameo_numerical_test.csv')\n",
    "    unseen.Domain = unseen.Domain.fillna(unseen.Domain.mean())\n",
    "\n",
    "    unseen_x = unseen[x_columns]\n",
    "\n",
    "    # shady\n",
    "#     unseen_x = (unseen_x - df[x_columns].mean())/df[x_columns].std()\n",
    "\n",
    "\n",
    "    submission = pd.DataFrame()\n",
    "    submission['ID'] = unseen.ID\n",
    "#     print unseen.ID\n",
    "#     print x_columns\n",
    "    preds =  estimator.predict(unseen_x)\n",
    "#     print preds\n",
    "    submission['Salary'] = preds\n",
    "    return submission"
   ]
  },
  {
   "cell_type": "code",
   "execution_count": 52,
   "metadata": {
    "collapsed": false
   },
   "outputs": [
    {
     "data": {
      "text/plain": [
       "200808.34288714771"
      ]
     },
     "execution_count": 52,
     "metadata": {},
     "output_type": "execute_result"
    }
   ],
   "source": [
    "# sub = pd.read_clipboard()\n",
    "sub = ameo_leaderboard(nmdl)\n",
    "sub.loc[sub.Salary<0, 'Salary'] = 300000\n",
    "# print sub\n",
    "# sub.to_csv('gridcv_mdl_ngen_30.csv', index=False)\n",
    "bench = pd.merge(unseen_true, sub, on='ID', how='left')\n",
    "np.sqrt(mean_squared_error(bench.Salary_x, bench.Salary_y))\n",
    "#base at ngen 30: 198799\n"
   ]
  },
  {
   "cell_type": "code",
   "execution_count": 20,
   "metadata": {
    "collapsed": false
   },
   "outputs": [
    {
     "data": {
      "text/plain": [
       "201754.70471988607"
      ]
     },
     "execution_count": 20,
     "metadata": {},
     "output_type": "execute_result"
    }
   ],
   "source": [
    "sub = pd.read_clipboard()\n",
    "# sub = ameo_leaderboard(nmdl2)\n",
    "# print sub\n",
    "# sub.to_csv('gridcv_mdl_ngen_30.csv', index=False)\n",
    "bench = pd.merge(unseen_true, sub, on='ID', how='left')\n",
    "np.sqrt(mean_squared_error(bench.Salary_x, bench.Salary_y))"
   ]
  },
  {
   "cell_type": "code",
   "execution_count": 58,
   "metadata": {
    "collapsed": false
   },
   "outputs": [
    {
     "name": "stdout",
     "output_type": "stream",
     "text": [
      "-173137.280564 758956.541079\n",
      "-100884.862041 703684.20948\n",
      "-3.62403626844e+19 723778.193378\n",
      "-2.8120500284e+19 705037.577992\n",
      "-2.33944508377e+19 719488.146062\n",
      "-1.94953756981e+19 730268.09526\n",
      "-1.67103220269e+19 723775.920937\n",
      "-1.46215317736e+19 718112.646521\n"
     ]
    },
    {
     "data": {
      "text/plain": [
       "<matplotlib.collections.PathCollection at 0x1fd03bb0>"
      ]
     },
     "execution_count": 58,
     "metadata": {},
     "output_type": "execute_result"
    },
    {
     "data": {
      "image/png": "[encoded data removed]",
      "text/plain": [
       "<matplotlib.figure.Figure at 0x1567c250>"
      ]
     },
     "metadata": {},
     "output_type": "display_data"
    }
   ],
   "source": [
    "x = []\n",
    "y = []\n",
    "import matplotlib.pyplot as plt\n",
    "%matplotlib inline\n",
    "for i in range (1,9):\n",
    "    x.append(i)\n",
    "    sub = ameo_leaderboard(nmdl.set_params(**{'n_votes' : i}))\n",
    "    print sub.Salary.min(), sub.Salary.max()\n",
    "    bench = pd.merge(unseen_true, sub, on='ID', how='left')\n",
    "    y_ = np.sqrt(mean_squared_error(bench.Salary_x, bench.Salary_y))\n",
    "    y.append(y_)\n",
    "    \n",
    "plt.scatter(x, y)\n",
    "# plt.title('BasicSegmenter trained on 10 votes, but predicted on 1 to 10 votes')"
   ]
  },
  {
   "cell_type": "code",
   "execution_count": 151,
   "metadata": {
    "collapsed": false
   },
   "outputs": [
    {
     "data": {
      "text/plain": [
       "array([0, 1], dtype=int64)"
      ]
     },
     "execution_count": 151,
     "metadata": {},
     "output_type": "execute_result"
    }
   ],
   "source": [
    "X['Degree_M.Sc. (Tech.)'].unique()"
   ]
  },
  {
   "cell_type": "code",
   "execution_count": 154,
   "metadata": {
    "collapsed": false
   },
   "outputs": [
    {
     "data": {
      "text/plain": [
       "array([ True,  True,  True], dtype=bool)"
      ]
     },
     "execution_count": 154,
     "metadata": {},
     "output_type": "execute_result"
    }
   ],
   "source": [
    "pd.np.isfinite([0,0,0])"
   ]
  },
  {
   "cell_type": "code",
   "execution_count": 62,
   "metadata": {
    "collapsed": false
   },
   "outputs": [],
   "source": [
    "best_params = clf.best_estimator_.get_params()"
   ]
  },
  {
   "cell_type": "code",
   "execution_count": 38,
   "metadata": {
    "collapsed": false
   },
   "outputs": [],
   "source": [
    "nmdl = auto_segment_EG.BasicSegmenterEG()\n",
    "nmdl.set_params(**{'cxpb': 0.5,\n",
    " 'indpb': 0.2,\n",
    " 'init_sample_percentage': 0.5,\n",
    " 'mutpb': 0.5,\n",
    " 'n': 10,\n",
    " 'n_population': 20,\n",
    " 'ngen': 100,\n",
    " 'statistics': True,\n",
    " 'test_size': 0.25,\n",
    " 'tournsize': 3,\n",
    " 'base_estimator': LinearRegression(),\n",
    " 'n_votes' : 10})\n",
    "# nmdl.ngen = 200\n",
    "nmdl.statistics = True"
   ]
  },
  {
   "cell_type": "code",
   "execution_count": 63,
   "metadata": {
    "collapsed": false
   },
   "outputs": [],
   "source": [
    "from sklearn.ensemble import BaggingRegressor\n",
    "# nmdl.base_estimator\n",
    "Perceptron?"
   ]
  },
  {
   "cell_type": "code",
   "execution_count": 39,
   "metadata": {
    "collapsed": false
   },
   "outputs": [
    {
     "name": "stdout",
     "output_type": "stream",
     "text": [
      "gen\tnevals\tavg   \tstd   \tmin   \tmax   \n",
      "0  \t20    \t257371\t396.43\t256631\t258178\n",
      "1  \t16    \t257018\t266.191\t256573\t257518\n",
      "2  \t14    \t256826\t194.308\t256573\t257305\n",
      "3  \t14    \t256687\t197.454\t256189\t257230\n",
      "4  \t15    \t256583\t199.377\t256189\t256967\n",
      "5  \t15    \t256483\t180.189\t256189\t256836\n",
      "6  \t15    \t256379\t137.236\t256189\t256693\n",
      "7  \t19    \t256267\t111.883\t256021\t256499\n",
      "8  \t11    \t256198\t82.4709\t256021\t256370\n",
      "9  \t11    \t256142\t52.05  \t256021\t256197\n",
      "10 \t16    \t256107\t103.643\t255910\t256320\n",
      "11 \t15    \t256036\t105.777\t255859\t256200\n",
      "12 \t13    \t255963\t90.9755\t255829\t256126\n",
      "13 \t17    \t255922\t101.315\t255758\t256182\n",
      "14 \t15    \t255848\t130.793\t255588\t256122\n",
      "15 \t16    \t255762\t146.59 \t255483\t256031\n",
      "16 \t12    \t255633\t148.386\t255483\t256093\n",
      "17 \t16    \t255567\t96.867 \t255397\t255833\n",
      "18 \t15    \t255532\t68.2831\t255397\t255705\n",
      "19 \t19    \t255485\t92.8203\t255370\t255724\n",
      "20 \t12    \t255474\t99.3321\t255346\t255743\n",
      "21 \t15    \t255421\t63.0921\t255299\t255550\n",
      "22 \t13    \t255395\t73.7582\t255246\t255545\n",
      "23 \t15    \t255334\t63.3125\t255223\t255511\n",
      "24 \t16    \t255306\t55.7962\t255220\t255440\n",
      "25 \t10    \t255295\t86.9823\t255208\t255562\n",
      "26 \t16    \t255257\t66.7102\t255120\t255386\n",
      "27 \t15    \t255250\t159.982\t254905\t255680\n",
      "28 \t12    \t255116\t125.35 \t254771\t255235\n",
      "29 \t17    \t255066\t190.513\t254771\t255414\n",
      "30 \t12    \t254936\t181.845\t254764\t255392\n",
      "31 \t18    \t254879\t139.958\t254709\t255276\n",
      "32 \t14    \t254832\t67.8866\t254709\t254990\n",
      "33 \t15    \t254818\t85.0195\t254709\t255133\n",
      "34 \t14    \t254792\t62.5631\t254709\t254988\n",
      "35 \t14    \t254761\t53.1025\t254677\t254851\n",
      "36 \t18    \t254715\t74.3638\t254596\t254882\n",
      "37 \t16    \t254680\t84.6712\t254517\t254921\n",
      "38 \t18    \t254638\t59.7302\t254499\t254793\n",
      "39 \t14    \t254610\t70.1722\t254499\t254791\n",
      "40 \t11    \t254613\t78.0276\t254443\t254827\n",
      "41 \t11    \t254566\t66.1968\t254443\t254753\n",
      "42 \t16    \t254559\t56.5076\t254432\t254645\n",
      "43 \t16    \t254543\t57.255 \t254424\t254667\n",
      "44 \t15    \t254509\t80.4896\t254324\t254650\n",
      "45 \t14    \t254456\t98.2948\t254254\t254636\n",
      "46 \t13    \t254446\t64.9544\t254325\t254565\n",
      "47 \t10    \t254408\t56.7884\t254325\t254547\n",
      "48 \t16    \t254391\t76.8387\t254302\t254558\n",
      "49 \t19    \t254384\t100.617\t254241\t254629\n",
      "50 \t16    \t254366\t78.6248\t254226\t254616\n",
      "51 \t15    \t254356\t79.9515\t254259\t254519\n",
      "52 \t15    \t254317\t58.001 \t254259\t254480\n",
      "53 \t14    \t254341\t99.5423\t254200\t254608\n",
      "54 \t9     \t254302\t84.8274\t254167\t254443\n",
      "55 \t12    \t254245\t95.6269\t254039\t254559\n",
      "56 \t12    \t254205\t89.6259\t254051\t254405\n",
      "57 \t16    \t254162\t133.475\t254034\t254596\n",
      "58 \t17    \t254102\t81.2341\t253972\t254376\n",
      "59 \t11    \t254049\t70.7995\t253917\t254248\n",
      "60 \t18    \t254054\t80.2191\t253917\t254189\n",
      "61 \t12    \t253977\t59.0029\t253826\t254096\n",
      "62 \t13    \t253934\t85.0368\t253794\t254062\n",
      "63 \t15    \t253896\t108.163\t253761\t254154\n",
      "64 \t15    \t253856\t114.085\t253761\t254148\n",
      "65 \t15    \t253815\t73.268 \t253757\t254052\n",
      "66 \t12    \t253785\t55.2013\t253734\t253956\n",
      "67 \t14    \t253770\t28.6523\t253734\t253852\n",
      "68 \t14    \t253775\t61.3504\t253716\t253954\n",
      "69 \t16    \t253777\t94.4418\t253661\t254028\n",
      "70 \t14    \t253745\t65.8476\t253649\t253900\n",
      "71 \t20    \t253727\t72.9485\t253641\t253901\n",
      "72 \t17    \t253700\t56.8869\t253620\t253835\n",
      "73 \t14    \t253668\t37.8901\t253620\t253799\n",
      "74 \t13    \t253676\t57.645 \t253588\t253835\n",
      "75 \t14    \t253681\t101.052\t253588\t253966\n",
      "76 \t14    \t253659\t69.9802\t253569\t253783\n",
      "77 \t14    \t253626\t53.9814\t253569\t253780\n",
      "78 \t14    \t253621\t104.466\t253488\t253887\n",
      "79 \t16    \t253598\t65.5424\t253496\t253728\n",
      "80 \t13    \t253576\t61.17  \t253457\t253703\n",
      "81 \t14    \t253576\t104.08 \t253457\t253796\n",
      "82 \t14    \t253514\t81.3011\t253316\t253666\n",
      "83 \t16    \t253485\t123.496\t253316\t253865\n",
      "84 \t14    \t253424\t73.9921\t253316\t253586\n",
      "85 \t14    \t253404\t73.4235\t253316\t253602\n",
      "86 \t16    \t253381\t68.7796\t253296\t253590\n",
      "87 \t17    \t253412\t101.027\t253262\t253660\n",
      "88 \t10    \t253346\t58.2729\t253243\t253485\n",
      "89 \t20    \t253309\t56.2747\t253206\t253412\n",
      "90 \t11    \t253273\t88.3956\t253206\t253519\n",
      "91 \t16    \t7.70239e+15\t3.3574e+16\t253206\t1.54048e+17\n",
      "92 \t17    \t253282     \t130.803   \t253205\t253784     \n",
      "93 \t17    \t253222     \t32.47     \t253190\t253312     \n",
      "94 \t9     \t253227     \t51.9324   \t253190\t253371     \n",
      "95 \t15    \t253241     \t75.6481   \t253173\t253503     \n",
      "96 \t16    \t253241     \t92.5454   \t253159\t253571     \n",
      "97 \t13    \t253200     \t56.2832   \t253127\t253413     \n",
      "98 \t14    \t253220     \t71.7922   \t253114\t253363     \n",
      "99 \t9     \t253195     \t89.9      \t253122\t253567     \n",
      "100\t17    \t253186     \t72.7057   \t253082\t253462     \n"
     ]
    },
    {
     "data": {
      "text/plain": [
       "BasicSegmenterEG(base_estimator=LinearRegression(copy_X=True, fit_intercept=True, n_jobs=1, normalize=False),\n",
       "         crossover_func=<function cxTwoPoint at 0x1178E8F0>, cxpb=0.5,\n",
       "         indpb=0.2, init_sample_percentage=0.5, mutpb=0.5, n=10,\n",
       "         n_population=20, n_votes=10, ngen=100, statistics=True,\n",
       "         test_size=0.25, tournsize=3)"
      ]
     },
     "execution_count": 39,
     "metadata": {},
     "output_type": "execute_result"
    }
   ],
   "source": [
    "nmdl.fit(X, y)\n",
    "# nmdl2 = BaggingRegressor(base_estimator=LinearRegression(), n_estimators=10, oob_score=True).fit(X, y)"
   ]
  },
  {
   "cell_type": "code",
   "execution_count": 17,
   "metadata": {
    "collapsed": false
   },
   "outputs": [],
   "source": [
    "unseen_true = pd.read_clipboard()"
   ]
  },
  {
   "cell_type": "code",
   "execution_count": 3,
   "metadata": {
    "collapsed": false
   },
   "outputs": [
    {
     "name": "stdout",
     "output_type": "stream",
     "text": [
      "(1250, 2)\n"
     ]
    },
    {
     "ename": "NameError",
     "evalue": "name 'sub' is not defined",
     "output_type": "error",
     "traceback": [
      "\u001b[1;31m---------------------------------------------------------------------------\u001b[0m",
      "\u001b[1;31mNameError\u001b[0m                                 Traceback (most recent call last)",
      "\u001b[1;32m<ipython-input-3-b250770ab22c>\u001b[0m in \u001b[0;36m<module>\u001b[1;34m()\u001b[0m\n\u001b[0;32m      1\u001b[0m \u001b[1;32mprint\u001b[0m \u001b[0munseen_true\u001b[0m\u001b[1;33m.\u001b[0m\u001b[0mshape\u001b[0m\u001b[1;33m\u001b[0m\u001b[0m\n\u001b[1;32m----> 2\u001b[1;33m \u001b[1;32mprint\u001b[0m \u001b[0msub\u001b[0m\u001b[1;33m.\u001b[0m\u001b[0mshape\u001b[0m\u001b[1;33m\u001b[0m\u001b[0m\n\u001b[0m",
      "\u001b[1;31mNameError\u001b[0m: name 'sub' is not defined"
     ]
    }
   ],
   "source": [
    "print unseen_true.shape\n",
    "print sub.shape"
   ]
  },
  {
   "cell_type": "code",
   "execution_count": 77,
   "metadata": {
    "collapsed": false
   },
   "outputs": [],
   "source": [
    "bench = pd.merge(unseen_true, sub, on='ID', how='left')\n",
    "np.sqrt(mean_squared_error(bench.Salary_x, bench.Salary_y))"
   ]
  },
  {
   "cell_type": "code",
   "execution_count": 79,
   "metadata": {
    "collapsed": false
   },
   "outputs": [
    {
     "data": {
      "text/plain": [
       "3.2497869618255136e+17"
      ]
     },
     "execution_count": 79,
     "metadata": {},
     "output_type": "execute_result"
    }
   ],
   "source": []
  },
  {
   "cell_type": "code",
   "execution_count": 22,
   "metadata": {
    "collapsed": false
   },
   "outputs": [
    {
     "data": {
      "text/plain": [
       "sklearn.linear_model.coordinate_descent.LassoCV"
      ]
     },
     "execution_count": 22,
     "metadata": {},
     "output_type": "execute_result"
    }
   ],
   "source": [
    "nmdl.base_estimator"
   ]
  },
  {
   "cell_type": "code",
   "execution_count": 45,
   "metadata": {
    "collapsed": false
   },
   "outputs": [
    {
     "data": {
      "text/plain": [
       "LinearRegression(copy_X=True, fit_intercept=True, n_jobs=1, normalize=False)"
      ]
     },
     "execution_count": 45,
     "metadata": {},
     "output_type": "execute_result"
    }
   ],
   "source": [
    "from sklearn.linear_model import LinearRegression\n",
    "nmdl = LinearRegression()\n",
    "nmdl.fit(X_train, y_train)\n"
   ]
  },
  {
   "cell_type": "code",
   "execution_count": 48,
   "metadata": {
    "collapsed": false
   },
   "outputs": [
    {
     "data": {
      "text/plain": [
       "2465993.0031089578"
      ]
     },
     "execution_count": 48,
     "metadata": {},
     "output_type": "execute_result"
    }
   ],
   "source": [
    "np.sqrt(mean_squared_error(nmdl.predict(X_test),y_test))"
   ]
  },
  {
   "cell_type": "code",
   "execution_count": 49,
   "metadata": {
    "collapsed": false
   },
   "outputs": [
    {
     "data": {
      "text/plain": [
       "178549.85883098908"
      ]
     },
     "execution_count": 49,
     "metadata": {},
     "output_type": "execute_result"
    }
   ],
   "source": [
    "np.sqrt(mean_squared_error(nmdl.predict(X_train),y_train))"
   ]
  },
  {
   "cell_type": "code",
   "execution_count": 27,
   "metadata": {
    "collapsed": true
   },
   "outputs": [],
   "source": [
    "arr = np.array([LinearRegression(),LinearRegression(),LinearRegression(),LinearRegression(),LinearRegression()\n",
    "               ])\n",
    "distances = np.array([3,4,1,5,8])"
   ]
  },
  {
   "cell_type": "code",
   "execution_count": 30,
   "metadata": {
    "collapsed": false
   },
   "outputs": [
    {
     "data": {
      "text/plain": [
       "array([ LinearRegression(copy_X=True, fit_intercept=True, n_jobs=1, normalize=False),\n",
       "       LinearRegression(copy_X=True, fit_intercept=True, n_jobs=1, normalize=False)], dtype=object)"
      ]
     },
     "execution_count": 30,
     "metadata": {},
     "output_type": "execute_result"
    }
   ],
   "source": [
    "arr[distances.argsort()[:2]]"
   ]
  },
  {
   "cell_type": "code",
   "execution_count": 45,
   "metadata": {
    "collapsed": false
   },
   "outputs": [],
   "source": [
    "from sklearn.linear_model import SGDRegressor"
   ]
  },
  {
   "cell_type": "code",
   "execution_count": null,
   "metadata": {
    "collapsed": true
   },
   "outputs": [],
   "source": [
    "from sklearn.linear_model import SGDRegressor"
   ]
  },
  {
   "cell_type": "code",
   "execution_count": 46,
   "metadata": {
    "collapsed": true
   },
   "outputs": [],
   "source": [
    "SGDRegressor?"
   ]
  },
  {
   "cell_type": "code",
   "execution_count": 39,
   "metadata": {
    "collapsed": false
   },
   "outputs": [
    {
     "data": {
      "text/html": [
       "<div>\n",
       "<table border=\"1\" class=\"dataframe\">\n",
       "  <thead>\n",
       "    <tr style=\"text-align: right;\">\n",
       "      <th></th>\n",
       "      <th>ID</th>\n",
       "      <th>Salary</th>\n",
       "    </tr>\n",
       "  </thead>\n",
       "  <tbody>\n",
       "    <tr>\n",
       "      <th>0</th>\n",
       "      <td>664736</td>\n",
       "      <td>350000.0</td>\n",
       "    </tr>\n",
       "    <tr>\n",
       "      <th>1</th>\n",
       "      <td>1123290</td>\n",
       "      <td>300000.0</td>\n",
       "    </tr>\n",
       "    <tr>\n",
       "      <th>2</th>\n",
       "      <td>1062444</td>\n",
       "      <td>325000.0</td>\n",
       "    </tr>\n",
       "    <tr>\n",
       "      <th>3</th>\n",
       "      <td>1072028</td>\n",
       "      <td>60000.0</td>\n",
       "    </tr>\n",
       "    <tr>\n",
       "      <th>4</th>\n",
       "      <td>267259</td>\n",
       "      <td>360000.0</td>\n",
       "    </tr>\n",
       "    <tr>\n",
       "      <th>5</th>\n",
       "      <td>283564</td>\n",
       "      <td>300000.0</td>\n",
       "    </tr>\n",
       "    <tr>\n",
       "      <th>6</th>\n",
       "      <td>1264575</td>\n",
       "      <td>140000.0</td>\n",
       "    </tr>\n",
       "    <tr>\n",
       "      <th>7</th>\n",
       "      <td>1091378</td>\n",
       "      <td>100000.0</td>\n",
       "    </tr>\n",
       "    <tr>\n",
       "      <th>8</th>\n",
       "      <td>361658</td>\n",
       "      <td>460000.0</td>\n",
       "    </tr>\n",
       "    <tr>\n",
       "      <th>9</th>\n",
       "      <td>1119280</td>\n",
       "      <td>85000.0</td>\n",
       "    </tr>\n",
       "    <tr>\n",
       "      <th>10</th>\n",
       "      <td>985444</td>\n",
       "      <td>260000.0</td>\n",
       "    </tr>\n",
       "    <tr>\n",
       "      <th>11</th>\n",
       "      <td>436297</td>\n",
       "      <td>150000.0</td>\n",
       "    </tr>\n",
       "    <tr>\n",
       "      <th>12</th>\n",
       "      <td>730361</td>\n",
       "      <td>100000.0</td>\n",
       "    </tr>\n",
       "    <tr>\n",
       "      <th>13</th>\n",
       "      <td>741241</td>\n",
       "      <td>180000.0</td>\n",
       "    </tr>\n",
       "    <tr>\n",
       "      <th>14</th>\n",
       "      <td>342646</td>\n",
       "      <td>470000.0</td>\n",
       "    </tr>\n",
       "    <tr>\n",
       "      <th>15</th>\n",
       "      <td>266340</td>\n",
       "      <td>175000.0</td>\n",
       "    </tr>\n",
       "    <tr>\n",
       "      <th>16</th>\n",
       "      <td>338891</td>\n",
       "      <td>240000.0</td>\n",
       "    </tr>\n",
       "    <tr>\n",
       "      <th>17</th>\n",
       "      <td>353269</td>\n",
       "      <td>350000.0</td>\n",
       "    </tr>\n",
       "    <tr>\n",
       "      <th>18</th>\n",
       "      <td>563010</td>\n",
       "      <td>410000.0</td>\n",
       "    </tr>\n",
       "    <tr>\n",
       "      <th>19</th>\n",
       "      <td>625326</td>\n",
       "      <td>210000.0</td>\n",
       "    </tr>\n",
       "    <tr>\n",
       "      <th>20</th>\n",
       "      <td>736920</td>\n",
       "      <td>320000.0</td>\n",
       "    </tr>\n",
       "    <tr>\n",
       "      <th>21</th>\n",
       "      <td>898321</td>\n",
       "      <td>120000.0</td>\n",
       "    </tr>\n",
       "    <tr>\n",
       "      <th>22</th>\n",
       "      <td>1094114</td>\n",
       "      <td>205000.0</td>\n",
       "    </tr>\n",
       "    <tr>\n",
       "      <th>23</th>\n",
       "      <td>104177</td>\n",
       "      <td>285000.0</td>\n",
       "    </tr>\n",
       "    <tr>\n",
       "      <th>24</th>\n",
       "      <td>959619</td>\n",
       "      <td>110000.0</td>\n",
       "    </tr>\n",
       "    <tr>\n",
       "      <th>25</th>\n",
       "      <td>553312</td>\n",
       "      <td>355000.0</td>\n",
       "    </tr>\n",
       "    <tr>\n",
       "      <th>26</th>\n",
       "      <td>257096</td>\n",
       "      <td>420000.0</td>\n",
       "    </tr>\n",
       "    <tr>\n",
       "      <th>27</th>\n",
       "      <td>633726</td>\n",
       "      <td>380000.0</td>\n",
       "    </tr>\n",
       "    <tr>\n",
       "      <th>28</th>\n",
       "      <td>1074888</td>\n",
       "      <td>330000.0</td>\n",
       "    </tr>\n",
       "    <tr>\n",
       "      <th>29</th>\n",
       "      <td>852816</td>\n",
       "      <td>200000.0</td>\n",
       "    </tr>\n",
       "    <tr>\n",
       "      <th>...</th>\n",
       "      <td>...</td>\n",
       "      <td>...</td>\n",
       "    </tr>\n",
       "    <tr>\n",
       "      <th>1220</th>\n",
       "      <td>961638</td>\n",
       "      <td>265000.0</td>\n",
       "    </tr>\n",
       "    <tr>\n",
       "      <th>1221</th>\n",
       "      <td>848673</td>\n",
       "      <td>400000.0</td>\n",
       "    </tr>\n",
       "    <tr>\n",
       "      <th>1222</th>\n",
       "      <td>358161</td>\n",
       "      <td>365000.0</td>\n",
       "    </tr>\n",
       "    <tr>\n",
       "      <th>1223</th>\n",
       "      <td>998591</td>\n",
       "      <td>340000.0</td>\n",
       "    </tr>\n",
       "    <tr>\n",
       "      <th>1224</th>\n",
       "      <td>435223</td>\n",
       "      <td>280000.0</td>\n",
       "    </tr>\n",
       "    <tr>\n",
       "      <th>1225</th>\n",
       "      <td>813788</td>\n",
       "      <td>100000.0</td>\n",
       "    </tr>\n",
       "    <tr>\n",
       "      <th>1226</th>\n",
       "      <td>1084544</td>\n",
       "      <td>145000.0</td>\n",
       "    </tr>\n",
       "    <tr>\n",
       "      <th>1227</th>\n",
       "      <td>331604</td>\n",
       "      <td>180000.0</td>\n",
       "    </tr>\n",
       "    <tr>\n",
       "      <th>1228</th>\n",
       "      <td>322487</td>\n",
       "      <td>265000.0</td>\n",
       "    </tr>\n",
       "    <tr>\n",
       "      <th>1229</th>\n",
       "      <td>298288</td>\n",
       "      <td>100000.0</td>\n",
       "    </tr>\n",
       "    <tr>\n",
       "      <th>1230</th>\n",
       "      <td>450590</td>\n",
       "      <td>150000.0</td>\n",
       "    </tr>\n",
       "    <tr>\n",
       "      <th>1231</th>\n",
       "      <td>1087390</td>\n",
       "      <td>400000.0</td>\n",
       "    </tr>\n",
       "    <tr>\n",
       "      <th>1232</th>\n",
       "      <td>449910</td>\n",
       "      <td>520000.0</td>\n",
       "    </tr>\n",
       "    <tr>\n",
       "      <th>1233</th>\n",
       "      <td>330574</td>\n",
       "      <td>175000.0</td>\n",
       "    </tr>\n",
       "    <tr>\n",
       "      <th>1234</th>\n",
       "      <td>337496</td>\n",
       "      <td>350000.0</td>\n",
       "    </tr>\n",
       "    <tr>\n",
       "      <th>1235</th>\n",
       "      <td>336610</td>\n",
       "      <td>420000.0</td>\n",
       "    </tr>\n",
       "    <tr>\n",
       "      <th>1236</th>\n",
       "      <td>306262</td>\n",
       "      <td>340000.0</td>\n",
       "    </tr>\n",
       "    <tr>\n",
       "      <th>1237</th>\n",
       "      <td>413347</td>\n",
       "      <td>95000.0</td>\n",
       "    </tr>\n",
       "    <tr>\n",
       "      <th>1238</th>\n",
       "      <td>848524</td>\n",
       "      <td>390000.0</td>\n",
       "    </tr>\n",
       "    <tr>\n",
       "      <th>1239</th>\n",
       "      <td>783316</td>\n",
       "      <td>310000.0</td>\n",
       "    </tr>\n",
       "    <tr>\n",
       "      <th>1240</th>\n",
       "      <td>872532</td>\n",
       "      <td>320000.0</td>\n",
       "    </tr>\n",
       "    <tr>\n",
       "      <th>1241</th>\n",
       "      <td>361523</td>\n",
       "      <td>600000.0</td>\n",
       "    </tr>\n",
       "    <tr>\n",
       "      <th>1242</th>\n",
       "      <td>104882</td>\n",
       "      <td>180000.0</td>\n",
       "    </tr>\n",
       "    <tr>\n",
       "      <th>1243</th>\n",
       "      <td>1230030</td>\n",
       "      <td>140000.0</td>\n",
       "    </tr>\n",
       "    <tr>\n",
       "      <th>1244</th>\n",
       "      <td>60358</td>\n",
       "      <td>335000.0</td>\n",
       "    </tr>\n",
       "    <tr>\n",
       "      <th>1245</th>\n",
       "      <td>407755</td>\n",
       "      <td>385000.0</td>\n",
       "    </tr>\n",
       "    <tr>\n",
       "      <th>1246</th>\n",
       "      <td>575154</td>\n",
       "      <td>475000.0</td>\n",
       "    </tr>\n",
       "    <tr>\n",
       "      <th>1247</th>\n",
       "      <td>216598</td>\n",
       "      <td>350000.0</td>\n",
       "    </tr>\n",
       "    <tr>\n",
       "      <th>1248</th>\n",
       "      <td>919755</td>\n",
       "      <td>240000.0</td>\n",
       "    </tr>\n",
       "    <tr>\n",
       "      <th>1249</th>\n",
       "      <td>1037308</td>\n",
       "      <td>370000.0</td>\n",
       "    </tr>\n",
       "  </tbody>\n",
       "</table>\n",
       "<p>1250 rows × 2 columns</p>\n",
       "</div>"
      ],
      "text/plain": [
       "           ID    Salary\n",
       "0      664736  350000.0\n",
       "1     1123290  300000.0\n",
       "2     1062444  325000.0\n",
       "3     1072028   60000.0\n",
       "4      267259  360000.0\n",
       "5      283564  300000.0\n",
       "6     1264575  140000.0\n",
       "7     1091378  100000.0\n",
       "8      361658  460000.0\n",
       "9     1119280   85000.0\n",
       "10     985444  260000.0\n",
       "11     436297  150000.0\n",
       "12     730361  100000.0\n",
       "13     741241  180000.0\n",
       "14     342646  470000.0\n",
       "15     266340  175000.0\n",
       "16     338891  240000.0\n",
       "17     353269  350000.0\n",
       "18     563010  410000.0\n",
       "19     625326  210000.0\n",
       "20     736920  320000.0\n",
       "21     898321  120000.0\n",
       "22    1094114  205000.0\n",
       "23     104177  285000.0\n",
       "24     959619  110000.0\n",
       "25     553312  355000.0\n",
       "26     257096  420000.0\n",
       "27     633726  380000.0\n",
       "28    1074888  330000.0\n",
       "29     852816  200000.0\n",
       "...       ...       ...\n",
       "1220   961638  265000.0\n",
       "1221   848673  400000.0\n",
       "1222   358161  365000.0\n",
       "1223   998591  340000.0\n",
       "1224   435223  280000.0\n",
       "1225   813788  100000.0\n",
       "1226  1084544  145000.0\n",
       "1227   331604  180000.0\n",
       "1228   322487  265000.0\n",
       "1229   298288  100000.0\n",
       "1230   450590  150000.0\n",
       "1231  1087390  400000.0\n",
       "1232   449910  520000.0\n",
       "1233   330574  175000.0\n",
       "1234   337496  350000.0\n",
       "1235   336610  420000.0\n",
       "1236   306262  340000.0\n",
       "1237   413347   95000.0\n",
       "1238   848524  390000.0\n",
       "1239   783316  310000.0\n",
       "1240   872532  320000.0\n",
       "1241   361523  600000.0\n",
       "1242   104882  180000.0\n",
       "1243  1230030  140000.0\n",
       "1244    60358  335000.0\n",
       "1245   407755  385000.0\n",
       "1246   575154  475000.0\n",
       "1247   216598  350000.0\n",
       "1248   919755  240000.0\n",
       "1249  1037308  370000.0\n",
       "\n",
       "[1250 rows x 2 columns]"
      ]
     },
     "execution_count": 39,
     "metadata": {},
     "output_type": "execute_result"
    }
   ],
   "source": [
    "unseen_true"
   ]
  },
  {
   "cell_type": "code",
   "execution_count": 1,
   "metadata": {
    "collapsed": true
   },
   "outputs": [],
   "source": [
    "import random"
   ]
  },
  {
   "cell_type": "code",
   "execution_count": 84,
   "metadata": {
    "collapsed": false
   },
   "outputs": [
    {
     "data": {
      "text/plain": [
       "0.2708692082529105"
      ]
     },
     "execution_count": 84,
     "metadata": {},
     "output_type": "execute_result"
    }
   ],
   "source": [
    "random.randrange(0.1, 1, _int=float)"
   ]
  },
  {
   "cell_type": "code",
   "execution_count": 59,
   "metadata": {
    "collapsed": false
   },
   "outputs": [
    {
     "name": "stdout",
     "output_type": "stream",
     "text": [
      "(512, 21) 193435.899825\n",
      "(1573, 21) 160726.850544\n",
      "(1034, 21) 178702.852011\n",
      "(188, 21) 245528.896417\n",
      "(665, 21) 203228.51392\n",
      "(2226, 21) 156688.362004\n",
      "(467, 21) 211921.004874\n",
      "(1346, 21) 171114.25912\n",
      "(1727, 21) 147844.634248\n",
      "(181, 21) 237212.685548\n"
     ]
    }
   ],
   "source": [
    "ind_preds = []\n",
    "for segment in nmdl.segments_:\n",
    "    print segment.get_data().shape, np.sqrt(mean_squared_error(segment.estimator.predict(segment.X), segment.y))\n",
    "    ind_preds.append(np.sqrt(mean_squared_error(segment.estimator.predict(segment.X), segment.y)))"
   ]
  },
  {
   "cell_type": "code",
   "execution_count": 219,
   "metadata": {
    "collapsed": false
   },
   "outputs": [
    {
     "data": {
      "text/plain": [
       "count        10.000000\n",
       "mean     166327.581103\n",
       "std       50177.746641\n",
       "min       93110.338057\n",
       "25%      135974.097646\n",
       "50%      148327.555210\n",
       "75%      203986.188955\n",
       "max      257441.788118\n",
       "dtype: float64"
      ]
     },
     "execution_count": 219,
     "metadata": {},
     "output_type": "execute_result"
    }
   ],
   "source": [
    "ind_preds = pd.Series(ind_preds)\n",
    "ind_preds.describe()"
   ]
  },
  {
   "cell_type": "code",
   "execution_count": 222,
   "metadata": {
    "collapsed": false
   },
   "outputs": [],
   "source": [
    "y_total = []\n",
    "for segment in nmdl.segments_:\n",
    "#     print segment.get_data().shape, np.sqrt(mean_squared_error(segment.estimator.predict(X), y))\n",
    "    ind_scr = np.sqrt(mean_squared_error(segment.estimator.predict(segment.X), segment.y))\n",
    "    if  ind_scr > 135000 and ind_scr < 203986:\n",
    "        y_total.append(segment.estimator.predict((unseen_x - nmdl._X_mean)/nmdl._X_std))\n",
    "        "
   ]
  },
  {
   "cell_type": "code",
   "execution_count": 223,
   "metadata": {
    "collapsed": false
   },
   "outputs": [
    {
     "data": {
      "text/plain": [
       "200307.82543840571"
      ]
     },
     "execution_count": 223,
     "metadata": {},
     "output_type": "execute_result"
    }
   ],
   "source": [
    "prediction = pd.Series([0]*1500)\n",
    "for pred in y_total:\n",
    "    prediction = prediction + pred\n",
    "prediction = prediction / len(y_total)\n",
    "submission = pd.DataFrame()\n",
    "submission['ID'] = unseen.ID\n",
    "submission['Salary'] = prediction\n",
    "bench = pd.merge(unseen_true, submission, on='ID', how='left')\n",
    "np.sqrt(mean_squared_error(bench.Salary_x, bench.Salary_y))"
   ]
  },
  {
   "cell_type": "code",
   "execution_count": 206,
   "metadata": {
    "collapsed": false
   },
   "outputs": [
    {
     "ename": "ValueError",
     "evalue": "Found arrays with inconsistent numbers of samples: [1250 1500]",
     "output_type": "error",
     "traceback": [
      "\u001b[1;31m---------------------------------------------------------------------------\u001b[0m",
      "\u001b[1;31mValueError\u001b[0m                                Traceback (most recent call last)",
      "\u001b[1;32m<ipython-input-206-43691f54d8a7>\u001b[0m in \u001b[0;36m<module>\u001b[1;34m()\u001b[0m\n\u001b[1;32m----> 1\u001b[1;33m \u001b[0mnp\u001b[0m\u001b[1;33m.\u001b[0m\u001b[0msqrt\u001b[0m\u001b[1;33m(\u001b[0m\u001b[0mmean_squared_error\u001b[0m\u001b[1;33m(\u001b[0m\u001b[0munseen_true\u001b[0m\u001b[1;33m,\u001b[0m \u001b[0mprediction\u001b[0m\u001b[1;33m)\u001b[0m\u001b[1;33m)\u001b[0m\u001b[1;33m\u001b[0m\u001b[0m\n\u001b[0m",
      "\u001b[1;32mC:\\Python27\\lib\\site-packages\\sklearn\\metrics\\regression.pyc\u001b[0m in \u001b[0;36mmean_squared_error\u001b[1;34m(y_true, y_pred, sample_weight)\u001b[0m\n\u001b[0;32m    174\u001b[0m \u001b[1;33m\u001b[0m\u001b[0m\n\u001b[0;32m    175\u001b[0m     \"\"\"\n\u001b[1;32m--> 176\u001b[1;33m     \u001b[0my_type\u001b[0m\u001b[1;33m,\u001b[0m \u001b[0my_true\u001b[0m\u001b[1;33m,\u001b[0m \u001b[0my_pred\u001b[0m \u001b[1;33m=\u001b[0m \u001b[0m_check_reg_targets\u001b[0m\u001b[1;33m(\u001b[0m\u001b[0my_true\u001b[0m\u001b[1;33m,\u001b[0m \u001b[0my_pred\u001b[0m\u001b[1;33m)\u001b[0m\u001b[1;33m\u001b[0m\u001b[0m\n\u001b[0m\u001b[0;32m    177\u001b[0m     return np.average(((y_pred - y_true) ** 2).mean(axis=1),\n\u001b[0;32m    178\u001b[0m                       weights=sample_weight)\n",
      "\u001b[1;32mC:\\Python27\\lib\\site-packages\\sklearn\\metrics\\regression.pyc\u001b[0m in \u001b[0;36m_check_reg_targets\u001b[1;34m(y_true, y_pred)\u001b[0m\n\u001b[0;32m     55\u001b[0m         \u001b[0mEstimated\u001b[0m \u001b[0mtarget\u001b[0m \u001b[0mvalues\u001b[0m\u001b[1;33m.\u001b[0m\u001b[1;33m\u001b[0m\u001b[0m\n\u001b[0;32m     56\u001b[0m     \"\"\"\n\u001b[1;32m---> 57\u001b[1;33m     \u001b[0mcheck_consistent_length\u001b[0m\u001b[1;33m(\u001b[0m\u001b[0my_true\u001b[0m\u001b[1;33m,\u001b[0m \u001b[0my_pred\u001b[0m\u001b[1;33m)\u001b[0m\u001b[1;33m\u001b[0m\u001b[0m\n\u001b[0m\u001b[0;32m     58\u001b[0m     \u001b[0my_true\u001b[0m \u001b[1;33m=\u001b[0m \u001b[0mcheck_array\u001b[0m\u001b[1;33m(\u001b[0m\u001b[0my_true\u001b[0m\u001b[1;33m,\u001b[0m \u001b[0mensure_2d\u001b[0m\u001b[1;33m=\u001b[0m\u001b[0mFalse\u001b[0m\u001b[1;33m)\u001b[0m\u001b[1;33m\u001b[0m\u001b[0m\n\u001b[0;32m     59\u001b[0m     \u001b[0my_pred\u001b[0m \u001b[1;33m=\u001b[0m \u001b[0mcheck_array\u001b[0m\u001b[1;33m(\u001b[0m\u001b[0my_pred\u001b[0m\u001b[1;33m,\u001b[0m \u001b[0mensure_2d\u001b[0m\u001b[1;33m=\u001b[0m\u001b[0mFalse\u001b[0m\u001b[1;33m)\u001b[0m\u001b[1;33m\u001b[0m\u001b[0m\n",
      "\u001b[1;32mC:\\Python27\\lib\\site-packages\\sklearn\\utils\\validation.pyc\u001b[0m in \u001b[0;36mcheck_consistent_length\u001b[1;34m(*arrays)\u001b[0m\n\u001b[0;32m    172\u001b[0m     \u001b[1;32mif\u001b[0m \u001b[0mlen\u001b[0m\u001b[1;33m(\u001b[0m\u001b[0muniques\u001b[0m\u001b[1;33m)\u001b[0m \u001b[1;33m>\u001b[0m \u001b[1;36m1\u001b[0m\u001b[1;33m:\u001b[0m\u001b[1;33m\u001b[0m\u001b[0m\n\u001b[0;32m    173\u001b[0m         raise ValueError(\"Found arrays with inconsistent numbers of samples: \"\n\u001b[1;32m--> 174\u001b[1;33m                          \"%s\" % str(uniques))\n\u001b[0m\u001b[0;32m    175\u001b[0m \u001b[1;33m\u001b[0m\u001b[0m\n\u001b[0;32m    176\u001b[0m \u001b[1;33m\u001b[0m\u001b[0m\n",
      "\u001b[1;31mValueError\u001b[0m: Found arrays with inconsistent numbers of samples: [1250 1500]"
     ]
    }
   ],
   "source": [
    "np.sqrt(mean_squared_error(unseen_true, prediction))"
   ]
  },
  {
   "cell_type": "code",
   "execution_count": 23,
   "metadata": {
    "collapsed": false
   },
   "outputs": [
    {
     "name": "stderr",
     "output_type": "stream",
     "text": [
      "C:\\Python27\\lib\\site-packages\\matplotlib\\collections.py:571: FutureWarning: elementwise comparison failed; returning scalar instead, but in the future will perform elementwise comparison\n",
      "  if self._edgecolors == str('face'):\n"
     ]
    },
    {
     "data": {
      "text/plain": [
       "(0, 1000000)"
      ]
     },
     "execution_count": 23,
     "metadata": {},
     "output_type": "execute_result"
    }
   ],
   "source": [
    "# prediction = prediction/1\n",
    "import matplotlib.pyplot as plt\n",
    "plt.show()\n",
    "plt.scatter(nmdl.predict(X), y)\n",
    "plt.xlim(0,1000000)"
   ]
  },
  {
   "cell_type": "code",
   "execution_count": 49,
   "metadata": {
    "collapsed": false
   },
   "outputs": [
    {
     "name": "stdout",
     "output_type": "stream",
     "text": [
      "-1.16972254188e+19\n"
     ]
    },
    {
     "data": {
      "text/plain": [
       "<matplotlib.collections.PathCollection at 0x16417a30>"
      ]
     },
     "execution_count": 49,
     "metadata": {},
     "output_type": "execute_result"
    },
    {
     "data": {
      "image/png": "[encoded data removed]",
      "text/plain": [
       "<matplotlib.figure.Figure at 0x189c1c90>"
      ]
     },
     "metadata": {},
     "output_type": "display_data"
    }
   ],
   "source": [
    "%matplotlib inline\n",
    "prs  = nmdl.predict(unseen_x)\n",
    "print prs.min()\n",
    "plt.scatter(bench.Salary_x, bench.Salary_y)\n",
    "# plt.xlim(0,1000000)\n",
    "# plt.ylim(0,1000000)"
   ]
  },
  {
   "cell_type": "code",
   "execution_count": 26,
   "metadata": {
    "collapsed": false
   },
   "outputs": [],
   "source": [
    "unseen = pd.read_csv('ameo_numerical_test.csv')\n",
    "unseen.Domain = unseen.Domain.fillna(unseen.Domain.mean())\n",
    "\n",
    "unseen_x = unseen[x_columns]"
   ]
  },
  {
   "cell_type": "code",
   "execution_count": 195,
   "metadata": {
    "collapsed": false
   },
   "outputs": [
    {
     "data": {
      "text/plain": [
       "9"
      ]
     },
     "execution_count": 195,
     "metadata": {},
     "output_type": "execute_result"
    }
   ],
   "source": [
    "nmdl.n_votes"
   ]
  },
  {
   "cell_type": "code",
   "execution_count": 32,
   "metadata": {
    "collapsed": true
   },
   "outputs": [],
   "source": [
    "plt.show()"
   ]
  },
  {
   "cell_type": "code",
   "execution_count": 36,
   "metadata": {
    "collapsed": false
   },
   "outputs": [
    {
     "name": "stdout",
     "output_type": "stream",
     "text": [
      "319261.168385\n",
      "301940.41868\n",
      "304148.230088\n",
      "326288.006757\n",
      "301659.601526\n",
      "315043.980209\n",
      "291411.637931\n",
      "305520.991401\n",
      "313374.074074\n",
      "318383.500557\n"
     ]
    }
   ],
   "source": [
    "for seg in nmdl.segments_:\n",
    "    print seg.y.mean()"
   ]
  },
  {
   "cell_type": "code",
   "execution_count": 37,
   "metadata": {
    "collapsed": false
   },
   "outputs": [
    {
     "data": {
      "text/plain": [
       "{'base_estimator': LinearRegression(copy_X=True, fit_intercept=True, n_jobs=1, normalize=False),\n",
       " 'base_estimator__copy_X': True,\n",
       " 'base_estimator__fit_intercept': True,\n",
       " 'base_estimator__n_jobs': 1,\n",
       " 'base_estimator__normalize': False,\n",
       " 'crossover_func': <function deap.tools.crossover.cxTwoPoint>,\n",
       " 'cxpb': 0.5,\n",
       " 'indpb': 0.2,\n",
       " 'init_sample_percentage': 1,\n",
       " 'mutpb': 0.5,\n",
       " 'n': 10,\n",
       " 'n_population': 20,\n",
       " 'n_votes': 10,\n",
       " 'ngen': 100,\n",
       " 'statistics': True,\n",
       " 'test_size': 0.25,\n",
       " 'tournsize': 3}"
      ]
     },
     "execution_count": 37,
     "metadata": {},
     "output_type": "execute_result"
    }
   ],
   "source": [
    "nmdl.get_params()"
   ]
  },
  {
   "cell_type": "code",
   "execution_count": null,
   "metadata": {
    "collapsed": true
   },
   "outputs": [],
   "source": []
  }
 ],
 "metadata": {
  "kernelspec": {
   "display_name": "Python 2",
   "language": "python",
   "name": "python2"
  },
  "language_info": {
   "codemirror_mode": {
    "name": "ipython",
    "version": 2
   },
   "file_extension": ".py",
   "mimetype": "text/x-python",
   "name": "python",
   "nbconvert_exporter": "python",
   "pygments_lexer": "ipython2",
   "version": "2.7.9"
  }
 },
 "nbformat": 4,
 "nbformat_minor": 0
}
